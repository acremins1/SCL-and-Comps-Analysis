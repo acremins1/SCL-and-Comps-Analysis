{
 "cells": [
  {
   "cell_type": "markdown",
   "metadata": {},
   "source": [
    "# Get Betas for Comps"
   ]
  },
  {
   "cell_type": "markdown",
   "metadata": {},
   "source": [
    "### Necessary Imports"
   ]
  },
  {
   "cell_type": "code",
   "execution_count": 1,
   "metadata": {},
   "outputs": [],
   "source": [
    "import yfinance as yf\n",
    "import pandas as pd\n",
    "import numpy as np\n",
    "import matplotlib.pyplot as plt\n",
    "import statsmodels.api as sm"
   ]
  },
  {
   "cell_type": "markdown",
   "metadata": {},
   "source": [
    "### S&P 500 Data"
   ]
  },
  {
   "cell_type": "code",
   "execution_count": 2,
   "metadata": {},
   "outputs": [
    {
     "name": "stdout",
     "output_type": "stream",
     "text": [
      "[*********************100%***********************]  1 of 1 completed\n"
     ]
    }
   ],
   "source": [
    "# download S&P 500 data\n",
    "sp500 = yf.download('^GSPC', start='2020-10-17', end='2022-10-17', interval='1wk')\n",
    "sp500 = sp500.dropna()\n",
    "sp500 = sp500.reset_index()\n",
    "\n",
    "# get the weekly returns\n",
    "sp500['weekly_return'] = sp500['Adj Close'].pct_change()\n",
    "sp500 = sp500.dropna()\n"
   ]
  },
  {
   "cell_type": "markdown",
   "metadata": {},
   "source": [
    "# Calculate the betas "
   ]
  },
  {
   "cell_type": "code",
   "execution_count": 3,
   "metadata": {},
   "outputs": [],
   "source": [
    "def beta(ticker, start, end, interval):\n",
    "    # get data\n",
    "    data = yf.download(ticker, start=start, end=end, interval=interval)\n",
    "    data = data.dropna()\n",
    "    data = data.reset_index()\n",
    "    \n",
    "    # calculate weekly returns\n",
    "    data['weekly_return'] = data['Adj Close'].pct_change()\n",
    "    \n",
    "    # drop na\n",
    "    data = data.dropna()\n",
    "    \n",
    "    # merge with sp500 data on date\n",
    "    data = data.merge(sp500, on='Date', suffixes=('', '_sp500'))\n",
    "\n",
    "    # run a regression\n",
    "    X = data['weekly_return_sp500']\n",
    "    y = data['weekly_return']\n",
    "\n",
    "    X = sm.add_constant(X)\n",
    "\n",
    "    model = sm.OLS(y, X).fit()\n",
    "    \n",
    "    return model.params[1]"
   ]
  },
  {
   "cell_type": "markdown",
   "metadata": {},
   "source": [
    "### Uber Beta"
   ]
  },
  {
   "cell_type": "code",
   "execution_count": 4,
   "metadata": {},
   "outputs": [
    {
     "name": "stdout",
     "output_type": "stream",
     "text": [
      "[*********************100%***********************]  1 of 1 completed\n",
      "UBER Beta: 1.6069961556587666\n"
     ]
    }
   ],
   "source": [
    "print('UBER Beta:', beta('UBER', '2020-10-17', '2022-10-17', '1wk'))"
   ]
  },
  {
   "cell_type": "markdown",
   "metadata": {},
   "source": [
    "### Stocks in each Segment"
   ]
  },
  {
   "cell_type": "code",
   "execution_count": 5,
   "metadata": {},
   "outputs": [],
   "source": [
    "mobility = ['LYFT', 'DIDIY', 'GRAB', 'BRDS', 'HLBZ', 'NIU']\n",
    "delivery = ['DASH', 'DROOF', 'DLVHF', 'HLFFF', 'APRN']\n",
    "freight = ['CHRW', 'XPO', 'DPSGY', 'GXO', 'JBHT', 'HUBG', 'LSTR']"
   ]
  },
  {
   "cell_type": "markdown",
   "metadata": {},
   "source": [
    "### Mobility Betas"
   ]
  },
  {
   "cell_type": "code",
   "execution_count": 6,
   "metadata": {},
   "outputs": [
    {
     "name": "stdout",
     "output_type": "stream",
     "text": [
      "[*********************100%***********************]  1 of 1 completed\n",
      "[*********************100%***********************]  1 of 1 completed\n",
      "[*********************100%***********************]  1 of 1 completed\n",
      "[*********************100%***********************]  1 of 1 completed\n",
      "[*********************100%***********************]  1 of 1 completed\n",
      "[*********************100%***********************]  1 of 1 completed\n"
     ]
    },
    {
     "data": {
      "text/html": [
       "<div>\n",
       "<style scoped>\n",
       "    .dataframe tbody tr th:only-of-type {\n",
       "        vertical-align: middle;\n",
       "    }\n",
       "\n",
       "    .dataframe tbody tr th {\n",
       "        vertical-align: top;\n",
       "    }\n",
       "\n",
       "    .dataframe thead th {\n",
       "        text-align: right;\n",
       "    }\n",
       "</style>\n",
       "<table border=\"1\" class=\"dataframe\">\n",
       "  <thead>\n",
       "    <tr style=\"text-align: right;\">\n",
       "      <th></th>\n",
       "      <th>mobility_beta</th>\n",
       "    </tr>\n",
       "  </thead>\n",
       "  <tbody>\n",
       "    <tr>\n",
       "      <th>LYFT</th>\n",
       "      <td>1.757576</td>\n",
       "    </tr>\n",
       "    <tr>\n",
       "      <th>DIDIY</th>\n",
       "      <td>2.458666</td>\n",
       "    </tr>\n",
       "    <tr>\n",
       "      <th>GRAB</th>\n",
       "      <td>1.293262</td>\n",
       "    </tr>\n",
       "    <tr>\n",
       "      <th>BRDS</th>\n",
       "      <td>0.775504</td>\n",
       "    </tr>\n",
       "    <tr>\n",
       "      <th>HLBZ</th>\n",
       "      <td>1.420304</td>\n",
       "    </tr>\n",
       "    <tr>\n",
       "      <th>NIU</th>\n",
       "      <td>1.430427</td>\n",
       "    </tr>\n",
       "    <tr>\n",
       "      <th>Average Beta</th>\n",
       "      <td>1.522623</td>\n",
       "    </tr>\n",
       "  </tbody>\n",
       "</table>\n",
       "</div>"
      ],
      "text/plain": [
       "              mobility_beta\n",
       "LYFT               1.757576\n",
       "DIDIY              2.458666\n",
       "GRAB               1.293262\n",
       "BRDS               0.775504\n",
       "HLBZ               1.420304\n",
       "NIU                1.430427\n",
       "Average Beta       1.522623"
      ]
     },
     "execution_count": 6,
     "metadata": {},
     "output_type": "execute_result"
    }
   ],
   "source": [
    "mobility_beta = pd.DataFrame()\n",
    "\n",
    "for ticker in mobility:\n",
    "    mobility_beta[ticker] = [beta(ticker, '2020-10-17', '2022-10-17', '1wk')]\n",
    "\n",
    "mobility_beta = mobility_beta.T\n",
    "mobility_beta.columns = ['mobility_beta']\n",
    "\n",
    "mobility_beta.loc['Average Beta'] = mobility_beta.mean()\n",
    "\n",
    "\n",
    "mobility_beta"
   ]
  },
  {
   "cell_type": "markdown",
   "metadata": {},
   "source": [
    "### Delivery Betas"
   ]
  },
  {
   "cell_type": "code",
   "execution_count": 7,
   "metadata": {},
   "outputs": [
    {
     "name": "stdout",
     "output_type": "stream",
     "text": [
      "[*********************100%***********************]  1 of 1 completed\n",
      "[*********************100%***********************]  1 of 1 completed\n",
      "[*********************100%***********************]  1 of 1 completed\n",
      "[*********************100%***********************]  1 of 1 completed\n",
      "[*********************100%***********************]  1 of 1 completed\n"
     ]
    },
    {
     "data": {
      "text/html": [
       "<div>\n",
       "<style scoped>\n",
       "    .dataframe tbody tr th:only-of-type {\n",
       "        vertical-align: middle;\n",
       "    }\n",
       "\n",
       "    .dataframe tbody tr th {\n",
       "        vertical-align: top;\n",
       "    }\n",
       "\n",
       "    .dataframe thead th {\n",
       "        text-align: right;\n",
       "    }\n",
       "</style>\n",
       "<table border=\"1\" class=\"dataframe\">\n",
       "  <thead>\n",
       "    <tr style=\"text-align: right;\">\n",
       "      <th></th>\n",
       "      <th>Delivery_Beta</th>\n",
       "    </tr>\n",
       "  </thead>\n",
       "  <tbody>\n",
       "    <tr>\n",
       "      <th>DASH</th>\n",
       "      <td>1.732550</td>\n",
       "    </tr>\n",
       "    <tr>\n",
       "      <th>DROOF</th>\n",
       "      <td>0.570273</td>\n",
       "    </tr>\n",
       "    <tr>\n",
       "      <th>DLVHF</th>\n",
       "      <td>1.411151</td>\n",
       "    </tr>\n",
       "    <tr>\n",
       "      <th>HLFFF</th>\n",
       "      <td>0.813275</td>\n",
       "    </tr>\n",
       "    <tr>\n",
       "      <th>APRN</th>\n",
       "      <td>1.152158</td>\n",
       "    </tr>\n",
       "    <tr>\n",
       "      <th>Average Beta</th>\n",
       "      <td>1.135881</td>\n",
       "    </tr>\n",
       "  </tbody>\n",
       "</table>\n",
       "</div>"
      ],
      "text/plain": [
       "              Delivery_Beta\n",
       "DASH               1.732550\n",
       "DROOF              0.570273\n",
       "DLVHF              1.411151\n",
       "HLFFF              0.813275\n",
       "APRN               1.152158\n",
       "Average Beta       1.135881"
      ]
     },
     "execution_count": 7,
     "metadata": {},
     "output_type": "execute_result"
    }
   ],
   "source": [
    "delivery_beta = pd.DataFrame()\n",
    "\n",
    "for ticker in delivery:\n",
    "    delivery_beta[ticker] = [beta(ticker, '2020-10-17', '2022-10-17', '1wk')]\n",
    "\n",
    "delivery_beta = delivery_beta.T\n",
    "delivery_beta.columns = ['Delivery_Beta']\n",
    "\n",
    "delivery_beta.loc['Average Beta'] = delivery_beta.mean()\n",
    "\n",
    "delivery_beta"
   ]
  },
  {
   "cell_type": "markdown",
   "metadata": {},
   "source": [
    "### Freight Betas"
   ]
  },
  {
   "cell_type": "code",
   "execution_count": 8,
   "metadata": {},
   "outputs": [
    {
     "name": "stdout",
     "output_type": "stream",
     "text": [
      "[*********************100%***********************]  1 of 1 completed\n",
      "[*********************100%***********************]  1 of 1 completed\n",
      "[*********************100%***********************]  1 of 1 completed\n",
      "[*********************100%***********************]  1 of 1 completed\n",
      "[*********************100%***********************]  1 of 1 completed\n",
      "[*********************100%***********************]  1 of 1 completed\n",
      "[*********************100%***********************]  1 of 1 completed\n"
     ]
    },
    {
     "data": {
      "text/html": [
       "<div>\n",
       "<style scoped>\n",
       "    .dataframe tbody tr th:only-of-type {\n",
       "        vertical-align: middle;\n",
       "    }\n",
       "\n",
       "    .dataframe tbody tr th {\n",
       "        vertical-align: top;\n",
       "    }\n",
       "\n",
       "    .dataframe thead th {\n",
       "        text-align: right;\n",
       "    }\n",
       "</style>\n",
       "<table border=\"1\" class=\"dataframe\">\n",
       "  <thead>\n",
       "    <tr style=\"text-align: right;\">\n",
       "      <th></th>\n",
       "      <th>Freight_Beta</th>\n",
       "    </tr>\n",
       "  </thead>\n",
       "  <tbody>\n",
       "    <tr>\n",
       "      <th>CHRW</th>\n",
       "      <td>0.803364</td>\n",
       "    </tr>\n",
       "    <tr>\n",
       "      <th>XPO</th>\n",
       "      <td>1.405871</td>\n",
       "    </tr>\n",
       "    <tr>\n",
       "      <th>DPSGY</th>\n",
       "      <td>1.003579</td>\n",
       "    </tr>\n",
       "    <tr>\n",
       "      <th>GXO</th>\n",
       "      <td>1.635069</td>\n",
       "    </tr>\n",
       "    <tr>\n",
       "      <th>JBHT</th>\n",
       "      <td>0.978679</td>\n",
       "    </tr>\n",
       "    <tr>\n",
       "      <th>HUBG</th>\n",
       "      <td>0.944203</td>\n",
       "    </tr>\n",
       "    <tr>\n",
       "      <th>LSTR</th>\n",
       "      <td>0.721046</td>\n",
       "    </tr>\n",
       "    <tr>\n",
       "      <th>Average Beta</th>\n",
       "      <td>1.070259</td>\n",
       "    </tr>\n",
       "  </tbody>\n",
       "</table>\n",
       "</div>"
      ],
      "text/plain": [
       "              Freight_Beta\n",
       "CHRW              0.803364\n",
       "XPO               1.405871\n",
       "DPSGY             1.003579\n",
       "GXO               1.635069\n",
       "JBHT              0.978679\n",
       "HUBG              0.944203\n",
       "LSTR              0.721046\n",
       "Average Beta      1.070259"
      ]
     },
     "execution_count": 8,
     "metadata": {},
     "output_type": "execute_result"
    }
   ],
   "source": [
    "freight_beta = pd.DataFrame()\n",
    "\n",
    "for ticker in freight:\n",
    "    freight_beta[ticker] = [beta(ticker, '2020-10-17', '2022-10-17', '1wk')]\n",
    "\n",
    "freight_beta = freight_beta.T\n",
    "freight_beta.columns = ['Freight_Beta']\n",
    "\n",
    "freight_beta.loc['Average Beta'] = freight_beta.mean()\n",
    "\n",
    "freight_beta"
   ]
  },
  {
   "cell_type": "markdown",
   "metadata": {},
   "source": [
    "### Average Betas per Segment"
   ]
  },
  {
   "cell_type": "code",
   "execution_count": 9,
   "metadata": {},
   "outputs": [
    {
     "name": "stdout",
     "output_type": "stream",
     "text": [
      "[*********************100%***********************]  1 of 1 completed\n"
     ]
    },
    {
     "data": {
      "text/html": [
       "<div>\n",
       "<style scoped>\n",
       "    .dataframe tbody tr th:only-of-type {\n",
       "        vertical-align: middle;\n",
       "    }\n",
       "\n",
       "    .dataframe tbody tr th {\n",
       "        vertical-align: top;\n",
       "    }\n",
       "\n",
       "    .dataframe thead th {\n",
       "        text-align: right;\n",
       "    }\n",
       "</style>\n",
       "<table border=\"1\" class=\"dataframe\">\n",
       "  <thead>\n",
       "    <tr style=\"text-align: right;\">\n",
       "      <th></th>\n",
       "      <th>mobility_beta</th>\n",
       "      <th>Delivery_Beta</th>\n",
       "      <th>Freight_Beta</th>\n",
       "      <th>UBER</th>\n",
       "    </tr>\n",
       "  </thead>\n",
       "  <tbody>\n",
       "    <tr>\n",
       "      <th>Beta</th>\n",
       "      <td>1.522623</td>\n",
       "      <td>1.135881</td>\n",
       "      <td>1.070259</td>\n",
       "      <td>1.606996</td>\n",
       "    </tr>\n",
       "  </tbody>\n",
       "</table>\n",
       "</div>"
      ],
      "text/plain": [
       "      mobility_beta  Delivery_Beta  Freight_Beta      UBER\n",
       "Beta       1.522623       1.135881      1.070259  1.606996"
      ]
     },
     "execution_count": 9,
     "metadata": {},
     "output_type": "execute_result"
    }
   ],
   "source": [
    "all_betas = mobility_beta.merge(delivery_beta, left_index=True, right_index=True)\n",
    "all_betas = all_betas.merge(freight_beta, left_index=True, right_index=True)\n",
    "\n",
    "all_betas = all_betas.rename(index={'Average Beta': 'Beta'})\n",
    "all_betas['UBER'] = beta('UBER', '2020-10-17', '2022-10-17', '1wk')\n",
    "\n",
    "all_betas"
   ]
  },
  {
   "cell_type": "markdown",
   "metadata": {},
   "source": [
    "# Cash Adjusted Betas"
   ]
  },
  {
   "cell_type": "code",
   "execution_count": null,
   "metadata": {},
   "outputs": [],
   "source": [
    "\n",
    "\n"
   ]
  }
 ],
 "metadata": {
  "kernelspec": {
   "display_name": "Python 3.8.3 ('base')",
   "language": "python",
   "name": "python3"
  },
  "language_info": {
   "codemirror_mode": {
    "name": "ipython",
    "version": 3
   },
   "file_extension": ".py",
   "mimetype": "text/x-python",
   "name": "python",
   "nbconvert_exporter": "python",
   "pygments_lexer": "ipython3",
   "version": "3.8.3"
  },
  "orig_nbformat": 4,
  "vscode": {
   "interpreter": {
    "hash": "8fda165f50e76d432f6ed799118bc9dab23fa79194393d6371ca86a52c69e7ca"
   }
  }
 },
 "nbformat": 4,
 "nbformat_minor": 2
}
