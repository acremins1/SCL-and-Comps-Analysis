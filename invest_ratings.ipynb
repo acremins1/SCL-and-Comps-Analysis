{
 "cells": [
  {
   "cell_type": "markdown",
   "metadata": {},
   "source": [
    "# Investment Ratings"
   ]
  },
  {
   "cell_type": "code",
   "execution_count": 2,
   "metadata": {},
   "outputs": [],
   "source": [
    "import pandas as pd\n",
    "import numpy as np\n",
    "import matplotlib.pyplot as plt"
   ]
  },
  {
   "cell_type": "code",
   "execution_count": 3,
   "metadata": {},
   "outputs": [
    {
     "data": {
      "text/html": [
       "<div>\n",
       "<style scoped>\n",
       "    .dataframe tbody tr th:only-of-type {\n",
       "        vertical-align: middle;\n",
       "    }\n",
       "\n",
       "    .dataframe tbody tr th {\n",
       "        vertical-align: top;\n",
       "    }\n",
       "\n",
       "    .dataframe thead th {\n",
       "        text-align: right;\n",
       "    }\n",
       "</style>\n",
       "<table border=\"1\" class=\"dataframe\">\n",
       "  <thead>\n",
       "    <tr style=\"text-align: right;\">\n",
       "      <th></th>\n",
       "      <th>gvkey</th>\n",
       "      <th>splticrm</th>\n",
       "      <th>datadate</th>\n",
       "      <th>spcsrc</th>\n",
       "      <th>conm</th>\n",
       "      <th>tic</th>\n",
       "    </tr>\n",
       "  </thead>\n",
       "  <tbody>\n",
       "    <tr>\n",
       "      <th>375</th>\n",
       "      <td>144998</td>\n",
       "      <td>B+</td>\n",
       "      <td>2017-02-28</td>\n",
       "      <td>B-</td>\n",
       "      <td>XPO LOGISTICS INC</td>\n",
       "      <td>XPO</td>\n",
       "    </tr>\n",
       "    <tr>\n",
       "      <th>85</th>\n",
       "      <td>5783</td>\n",
       "      <td>BBB+</td>\n",
       "      <td>2017-02-28</td>\n",
       "      <td>A</td>\n",
       "      <td>HUNT (JB) TRANSPRT SVCS INC</td>\n",
       "      <td>JBHT</td>\n",
       "    </tr>\n",
       "    <tr>\n",
       "      <th>221</th>\n",
       "      <td>62378</td>\n",
       "      <td>NaN</td>\n",
       "      <td>2015-08-31</td>\n",
       "      <td>B</td>\n",
       "      <td>HUB GROUP INC  -CL A</td>\n",
       "      <td>HUBG</td>\n",
       "    </tr>\n",
       "    <tr>\n",
       "      <th>153</th>\n",
       "      <td>21440</td>\n",
       "      <td>NaN</td>\n",
       "      <td>2015-08-31</td>\n",
       "      <td>A-</td>\n",
       "      <td>LANDSTAR SYSTEM INC</td>\n",
       "      <td>LSTR</td>\n",
       "    </tr>\n",
       "    <tr>\n",
       "      <th>289</th>\n",
       "      <td>65609</td>\n",
       "      <td>NaN</td>\n",
       "      <td>2015-08-31</td>\n",
       "      <td>A-</td>\n",
       "      <td>C H ROBINSON WORLDWIDE INC</td>\n",
       "      <td>CHRW</td>\n",
       "    </tr>\n",
       "  </tbody>\n",
       "</table>\n",
       "</div>"
      ],
      "text/plain": [
       "      gvkey splticrm   datadate spcsrc                         conm   tic\n",
       "375  144998       B+ 2017-02-28     B-            XPO LOGISTICS INC   XPO\n",
       "85     5783     BBB+ 2017-02-28      A  HUNT (JB) TRANSPRT SVCS INC  JBHT\n",
       "221   62378      NaN 2015-08-31      B         HUB GROUP INC  -CL A  HUBG\n",
       "153   21440      NaN 2015-08-31     A-          LANDSTAR SYSTEM INC  LSTR\n",
       "289   65609      NaN 2015-08-31     A-   C H ROBINSON WORLDWIDE INC  CHRW"
      ]
     },
     "execution_count": 3,
     "metadata": {},
     "output_type": "execute_result"
    }
   ],
   "source": [
    "ratings = pd.read_csv('invest_ratings.csv')\n",
    "\n",
    "ratings['datadate'] = pd.to_datetime(ratings['datadate'])\n",
    "\n",
    "ratings.sort_values(by='datadate', ascending=False, inplace=True)\n",
    "\n",
    "ratings.drop_duplicates(subset='gvkey', keep='first', inplace=True)\n",
    "\n",
    "ratings"
   ]
  }
 ],
 "metadata": {
  "kernelspec": {
   "display_name": "Python 3.8.3 ('base')",
   "language": "python",
   "name": "python3"
  },
  "language_info": {
   "codemirror_mode": {
    "name": "ipython",
    "version": 3
   },
   "file_extension": ".py",
   "mimetype": "text/x-python",
   "name": "python",
   "nbconvert_exporter": "python",
   "pygments_lexer": "ipython3",
   "version": "3.8.3"
  },
  "orig_nbformat": 4,
  "vscode": {
   "interpreter": {
    "hash": "8fda165f50e76d432f6ed799118bc9dab23fa79194393d6371ca86a52c69e7ca"
   }
  }
 },
 "nbformat": 4,
 "nbformat_minor": 2
}
