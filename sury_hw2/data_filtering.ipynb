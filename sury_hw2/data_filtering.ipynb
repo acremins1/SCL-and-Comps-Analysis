{
 "cells": [
  {
   "cell_type": "code",
   "execution_count": 2,
   "metadata": {},
   "outputs": [],
   "source": [
    "allDataFile = \"ratios_with_credit_ratings_all.csv\"\n",
    "\n",
    "import pandas as pd\n",
    "\n",
    "# Read in the data\n",
    "allData = pd.read_csv(allDataFile)\n",
    "allData.dropna(inplace=True)\n",
    "\n",
    "# Drop column unnamed: 0\n",
    "allData.drop(allData.columns[0], axis=1, inplace=True)\n",
    "\n",
    "# Convert long_term_credit_rating to rating ; AAA, AA+, AA, AA-, A+, A, A-, BBB+, BBB, BBB- : 1 and BB+, BB, BB-, B+, B, B-, CCC+, CCC, CCC-, CC, C, D : 0\n",
    "allData['rating'] = allData['long_term_credit_rating'].apply(lambda x: 1 if x in ['AAA', 'AA+', 'AA', 'AA-', 'A+', 'A', 'A-', 'BBB+', 'BBB', 'BBB-'] else 0)\n",
    "\n",
    "# make dummy variables for industry using gsector\n",
    "allData = pd.get_dummies(allData, columns=['gsector'], prefix = ['gsector'], drop_first=True)\n",
    "\n"
   ]
  },
  {
   "cell_type": "code",
   "execution_count": 4,
   "metadata": {},
   "outputs": [
    {
     "data": {
      "text/plain": [
       "<AxesSubplot:>"
      ]
     },
     "execution_count": 4,
     "metadata": {},
     "output_type": "execute_result"
    },
    {
     "data": {
      "image/png": "[encoded data removed]",
      "text/plain": [
       "<Figure size 432x288 with 1 Axes>"
      ]
     },
     "metadata": {
      "needs_background": "light"
     },
     "output_type": "display_data"
    }
   ],
   "source": [
    "indexes = [\n",
    "    'AAA', 'AA+', 'AA', 'AA-', 'A+', 'A', 'A-', 'BBB+', 'BBB', 'BBB-', 'BB+', 'BB', 'BB-', 'B+', 'B', 'B-', 'CCC+', 'CCC', 'CCC-', 'CC', 'C', 'D'\n",
    "]\n",
    "\n",
    "allData['long_term_credit_rating'].value_counts().reindex(indexes).plot(kind='bar')"
   ]
  },
  {
   "cell_type": "code",
   "execution_count": 2,
   "metadata": {},
   "outputs": [],
   "source": [
    "# Split into train validate and test 60/20/20\n",
    "trainData = allData.sample(frac=0.6, random_state=1)\n",
    "validateData = allData.drop(trainData.index).sample(frac=0.5, random_state=1)\n",
    "testData = allData.drop(trainData.index).drop(validateData.index)\n",
    "\n",
    "# Write out the data\n",
    "trainData.to_csv(\"train.csv\", index=False)\n",
    "validateData.to_csv(\"validate.csv\", index=False)\n",
    "testData.to_csv(\"test.csv\", index=False)\n"
   ]
  }
 ],
 "metadata": {
  "kernelspec": {
   "display_name": "Python 3.10.4 64-bit",
   "language": "python",
   "name": "python3"
  },
  "language_info": {
   "codemirror_mode": {
    "name": "ipython",
    "version": 3
   },
   "file_extension": ".py",
   "mimetype": "text/x-python",
   "name": "python",
   "nbconvert_exporter": "python",
   "pygments_lexer": "ipython3",
   "version": "3.10.4"
  },
  "orig_nbformat": 4,
  "vscode": {
   "interpreter": {
    "hash": "0831c9a8f38bf0534c50bfaa0f7ad63ee7d3a6b807ce61f39252cf011aaed1cf"
   }
  }
 },
 "nbformat": 4,
 "nbformat_minor": 2
}
