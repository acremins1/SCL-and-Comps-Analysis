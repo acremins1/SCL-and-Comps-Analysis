{
 "cells": [
  {
   "cell_type": "code",
   "execution_count": 28,
   "metadata": {},
   "outputs": [],
   "source": [
    "import pandas as pd\n",
    "import numpy as np\n",
    "import matplotlib.pyplot as plt\n",
    "from sklearn.linear_model import LogisticRegression\n",
    "from sklearn.metrics import classification_report, confusion_matrix\n",
    "from sklearn import metrics\n",
    "from sklearn.metrics import roc_auc_score\n",
    "from sklearn.metrics import roc_curve\n",
    "from sklearn.model_selection import RepeatedKFold\n",
    "from sklearn.model_selection import cross_val_score\n",
    "from sklearn.model_selection import KFold\n"
   ]
  },
  {
   "cell_type": "code",
   "execution_count": 29,
   "metadata": {},
   "outputs": [
    {
     "data": {
      "text/html": [
       "<div>\n",
       "<style scoped>\n",
       "    .dataframe tbody tr th:only-of-type {\n",
       "        vertical-align: middle;\n",
       "    }\n",
       "\n",
       "    .dataframe tbody tr th {\n",
       "        vertical-align: top;\n",
       "    }\n",
       "\n",
       "    .dataframe thead th {\n",
       "        text-align: right;\n",
       "    }\n",
       "</style>\n",
       "<table border=\"1\" class=\"dataframe\">\n",
       "  <thead>\n",
       "    <tr style=\"text-align: right;\">\n",
       "      <th></th>\n",
       "      <th>public_date</th>\n",
       "      <th>ticker</th>\n",
       "      <th>roa</th>\n",
       "      <th>intcov_ratio</th>\n",
       "      <th>quick_ratio</th>\n",
       "      <th>intcov</th>\n",
       "      <th>bm</th>\n",
       "      <th>npm</th>\n",
       "      <th>debt_assets</th>\n",
       "      <th>debt_ebitda</th>\n",
       "      <th>inv_turn</th>\n",
       "      <th>cash_ratio</th>\n",
       "      <th>long_term_credit_rating</th>\n",
       "      <th>rating</th>\n",
       "    </tr>\n",
       "  </thead>\n",
       "  <tbody>\n",
       "    <tr>\n",
       "      <th>0</th>\n",
       "      <td>2017-02-28</td>\n",
       "      <td>GME</td>\n",
       "      <td>0.185177</td>\n",
       "      <td>14.415011</td>\n",
       "      <td>0.449969</td>\n",
       "      <td>9.660044</td>\n",
       "      <td>0.873019</td>\n",
       "      <td>0.043169</td>\n",
       "      <td>0.530882</td>\n",
       "      <td>0.849093</td>\n",
       "      <td>4.689136</td>\n",
       "      <td>0.246482</td>\n",
       "      <td>BB</td>\n",
       "      <td>0</td>\n",
       "    </tr>\n",
       "    <tr>\n",
       "      <th>1</th>\n",
       "      <td>2017-02-28</td>\n",
       "      <td>UAL</td>\n",
       "      <td>0.171677</td>\n",
       "      <td>8.104235</td>\n",
       "      <td>0.523848</td>\n",
       "      <td>4.685668</td>\n",
       "      <td>0.377644</td>\n",
       "      <td>0.061905</td>\n",
       "      <td>0.784280</td>\n",
       "      <td>1.683446</td>\n",
       "      <td>30.021105</td>\n",
       "      <td>0.360410</td>\n",
       "      <td>BB-</td>\n",
       "      <td>0</td>\n",
       "    </tr>\n",
       "    <tr>\n",
       "      <th>2</th>\n",
       "      <td>2017-02-28</td>\n",
       "      <td>BHI</td>\n",
       "      <td>0.023009</td>\n",
       "      <td>-3.764045</td>\n",
       "      <td>3.193576</td>\n",
       "      <td>-14.382022</td>\n",
       "      <td>0.459428</td>\n",
       "      <td>-0.278224</td>\n",
       "      <td>0.330829</td>\n",
       "      <td>6.084677</td>\n",
       "      <td>3.465933</td>\n",
       "      <td>1.984375</td>\n",
       "      <td>A</td>\n",
       "      <td>1</td>\n",
       "    </tr>\n",
       "    <tr>\n",
       "      <th>3</th>\n",
       "      <td>2017-02-28</td>\n",
       "      <td>SLGN</td>\n",
       "      <td>0.146088</td>\n",
       "      <td>4.617429</td>\n",
       "      <td>0.416807</td>\n",
       "      <td>3.211453</td>\n",
       "      <td>0.272515</td>\n",
       "      <td>0.042445</td>\n",
       "      <td>0.850951</td>\n",
       "      <td>3.370937</td>\n",
       "      <td>4.770234</td>\n",
       "      <td>0.028649</td>\n",
       "      <td>BB+</td>\n",
       "      <td>0</td>\n",
       "    </tr>\n",
       "    <tr>\n",
       "      <th>4</th>\n",
       "      <td>2017-02-28</td>\n",
       "      <td>NEU</td>\n",
       "      <td>0.300441</td>\n",
       "      <td>21.607983</td>\n",
       "      <td>1.783397</td>\n",
       "      <td>15.503485</td>\n",
       "      <td>0.098089</td>\n",
       "      <td>0.118784</td>\n",
       "      <td>0.658826</td>\n",
       "      <td>1.250215</td>\n",
       "      <td>3.995609</td>\n",
       "      <td>0.652276</td>\n",
       "      <td>BBB+</td>\n",
       "      <td>1</td>\n",
       "    </tr>\n",
       "  </tbody>\n",
       "</table>\n",
       "</div>"
      ],
      "text/plain": [
       "  public_date ticker       roa  intcov_ratio  quick_ratio     intcov  \\\n",
       "0  2017-02-28    GME  0.185177     14.415011     0.449969   9.660044   \n",
       "1  2017-02-28    UAL  0.171677      8.104235     0.523848   4.685668   \n",
       "2  2017-02-28    BHI  0.023009     -3.764045     3.193576 -14.382022   \n",
       "3  2017-02-28   SLGN  0.146088      4.617429     0.416807   3.211453   \n",
       "4  2017-02-28    NEU  0.300441     21.607983     1.783397  15.503485   \n",
       "\n",
       "         bm       npm  debt_assets  debt_ebitda   inv_turn  cash_ratio  \\\n",
       "0  0.873019  0.043169     0.530882     0.849093   4.689136    0.246482   \n",
       "1  0.377644  0.061905     0.784280     1.683446  30.021105    0.360410   \n",
       "2  0.459428 -0.278224     0.330829     6.084677   3.465933    1.984375   \n",
       "3  0.272515  0.042445     0.850951     3.370937   4.770234    0.028649   \n",
       "4  0.098089  0.118784     0.658826     1.250215   3.995609    0.652276   \n",
       "\n",
       "  long_term_credit_rating  rating  \n",
       "0                      BB       0  \n",
       "1                     BB-       0  \n",
       "2                       A       1  \n",
       "3                     BB+       0  \n",
       "4                    BBB+       1  "
      ]
     },
     "execution_count": 29,
     "metadata": {},
     "output_type": "execute_result"
    }
   ],
   "source": [
    "train = pd.read_csv('train.csv')\n",
    "test = pd.read_csv('test.csv')\n",
    "validate = pd.read_csv('validate.csv')\n",
    "\n",
    "all =  train.append(test).append(validate)\n",
    "\n",
    "all.head()"
   ]
  },
  {
   "cell_type": "code",
   "execution_count": 30,
   "metadata": {},
   "outputs": [],
   "source": [
    "X_train = train[['roa', 'intcov_ratio', 'quick_ratio', 'intcov', 'bm', 'npm', 'debt_assets', 'debt_ebitda', 'inv_turn', 'cash_ratio']]\n",
    "y_train = train['rating']\n",
    "\n",
    "X_test = test[['roa', 'intcov_ratio', 'quick_ratio', 'intcov', 'bm', 'npm', 'debt_assets', 'debt_ebitda', 'inv_turn', 'cash_ratio']]\n",
    "y_test = test['rating']\n",
    "\n",
    "X_validate = validate[['roa', 'intcov_ratio', 'quick_ratio', 'intcov', 'bm', 'npm', 'debt_assets', 'debt_ebitda', 'inv_turn', 'cash_ratio']]\n",
    "y_validate = validate['rating']\n",
    "\n",
    "X_all = all[['roa', 'intcov_ratio', 'quick_ratio', 'intcov', 'bm', 'npm', 'debt_assets', 'debt_ebitda', 'inv_turn', 'cash_ratio']]\n",
    "y_all = all['rating']"
   ]
  },
  {
   "cell_type": "code",
   "execution_count": 31,
   "metadata": {},
   "outputs": [],
   "source": [
    "model = LogisticRegression(max_iter=1000)\n",
    "result = model.fit(X_train, y_train)"
   ]
  },
  {
   "cell_type": "code",
   "execution_count": 32,
   "metadata": {},
   "outputs": [
    {
     "name": "stdout",
     "output_type": "stream",
     "text": [
      "Accuracy of logistic regression classifier on test set: 0.62712\n"
     ]
    }
   ],
   "source": [
    "y_pred = model.predict(X_test)\n",
    "print('Accuracy of logistic regression classifier on test set: {:.5f}'.format(model.score(X_test, y_test)))"
   ]
  },
  {
   "cell_type": "code",
   "execution_count": 33,
   "metadata": {},
   "outputs": [
    {
     "name": "stdout",
     "output_type": "stream",
     "text": [
      "[[54 12]\n",
      " [32 20]]\n"
     ]
    }
   ],
   "source": [
    "confusion_matrix = confusion_matrix(y_test, y_pred)\n",
    "print(confusion_matrix)"
   ]
  },
  {
   "cell_type": "markdown",
   "metadata": {},
   "source": [
    "54 + 20 = 74 correct predictions and 12 + 32 = 44 incorrect predictions "
   ]
  },
  {
   "cell_type": "code",
   "execution_count": 34,
   "metadata": {},
   "outputs": [
    {
     "data": {
      "text/html": [
       "<div>\n",
       "<style scoped>\n",
       "    .dataframe tbody tr th:only-of-type {\n",
       "        vertical-align: middle;\n",
       "    }\n",
       "\n",
       "    .dataframe tbody tr th {\n",
       "        vertical-align: top;\n",
       "    }\n",
       "\n",
       "    .dataframe thead th {\n",
       "        text-align: right;\n",
       "    }\n",
       "</style>\n",
       "<table border=\"1\" class=\"dataframe\">\n",
       "  <thead>\n",
       "    <tr style=\"text-align: right;\">\n",
       "      <th></th>\n",
       "      <th>Predicted Sub-Investment</th>\n",
       "      <th>Predicted Investment</th>\n",
       "    </tr>\n",
       "  </thead>\n",
       "  <tbody>\n",
       "    <tr>\n",
       "      <th>Sub-Investment</th>\n",
       "      <td>54</td>\n",
       "      <td>12</td>\n",
       "    </tr>\n",
       "    <tr>\n",
       "      <th>Investment</th>\n",
       "      <td>32</td>\n",
       "      <td>20</td>\n",
       "    </tr>\n",
       "  </tbody>\n",
       "</table>\n",
       "</div>"
      ],
      "text/plain": [
       "                Predicted Sub-Investment  Predicted Investment\n",
       "Sub-Investment                        54                    12\n",
       "Investment                            32                    20"
      ]
     },
     "execution_count": 34,
     "metadata": {},
     "output_type": "execute_result"
    }
   ],
   "source": [
    "confusion_matrix = np.array(confusion_matrix)\n",
    "\n",
    "pd.DataFrame(confusion_matrix, index=['Sub-Investment','Investment'],\n",
    "columns=['Predicted Sub-Investment', 'Predicted Investment', ])"
   ]
  },
  {
   "cell_type": "markdown",
   "metadata": {},
   "source": [
    "**This could be wrong... might have flipped the categories**"
   ]
  },
  {
   "cell_type": "code",
   "execution_count": 35,
   "metadata": {},
   "outputs": [
    {
     "name": "stdout",
     "output_type": "stream",
     "text": [
      "Number of examples where baseline is correct = 66\n",
      "Baseline accuracy = 0.559322033898305\n"
     ]
    }
   ],
   "source": [
    "negative_examples_in_test = len(y_test[y_test==0])\n",
    "total_examples_in_test = len(y_test)\n",
    "\n",
    "print('Number of examples where baseline is correct =', negative_examples_in_test)\n",
    "print('Baseline accuracy =', negative_examples_in_test * 1.0 / total_examples_in_test)"
   ]
  },
  {
   "cell_type": "code",
   "execution_count": 36,
   "metadata": {},
   "outputs": [
    {
     "name": "stdout",
     "output_type": "stream",
     "text": [
      "              precision    recall  f1-score   support\n",
      "\n",
      "           0       0.63      0.82      0.71        66\n",
      "           1       0.62      0.38      0.48        52\n",
      "\n",
      "    accuracy                           0.63       118\n",
      "   macro avg       0.63      0.60      0.59       118\n",
      "weighted avg       0.63      0.63      0.61       118\n",
      "\n"
     ]
    }
   ],
   "source": [
    "print(classification_report(y_test, y_pred))"
   ]
  },
  {
   "cell_type": "markdown",
   "metadata": {},
   "source": [
    "Percision: what % of our predictions were correct\n",
    "<br/>\n",
    "Recall: percentage of positive (or negative) cases the model could detect\n",
    "<br/>\n",
    "F1 Score: weighted harmonic mean of precision and recall values are between 0 to 1\n",
    "<br/>\n",
    "https://python.plainenglish.io/using-k-fold-cross-validation-to-evaluate-the-performance-of-logistic-regression-4439215f24c4\n",
    "\n"
   ]
  },
  {
   "cell_type": "code",
   "execution_count": 37,
   "metadata": {},
   "outputs": [
    {
     "data": {
      "image/png": "[encoded data removed]",
      "text/plain": [
       "<Figure size 864x504 with 1 Axes>"
      ]
     },
     "metadata": {
      "needs_background": "light"
     },
     "output_type": "display_data"
    }
   ],
   "source": [
    "logit_roc_auc = roc_auc_score(y_test, model.predict(X_test))\n",
    "fpr, tpr, thresholds = roc_curve(y_test, model.predict_proba(X_test)[:,1])\n",
    "plt.figure(figsize=(12,7))\n",
    "plt.plot(fpr, tpr, label='Logistic Regression (AUC = %0.2f)' % logit_roc_auc)\n",
    "plt.plot([0, 1], [0, 1],'r--')\n",
    "plt.xlim([0.0, 1.0])\n",
    "plt.ylim([0.0, 1.05])\n",
    "plt.xlabel('False Positive Rate')\n",
    "plt.ylabel('True Positive Rate')\n",
    "plt.title('ROC AUC')\n",
    "plt.legend(loc=\"lower right\")\n",
    "plt.show()"
   ]
  },
  {
   "cell_type": "markdown",
   "metadata": {},
   "source": [
    "### Cross Valid"
   ]
  },
  {
   "cell_type": "code",
   "execution_count": 42,
   "metadata": {},
   "outputs": [
    {
     "name": "stdout",
     "output_type": "stream",
     "text": [
      "Accuracy: 69.153% (3.107%)\n"
     ]
    }
   ],
   "source": [
    "kfold = KFold(n_splits=5, random_state=0, shuffle=True)\n",
    "model = LogisticRegression(max_iter=1000)\n",
    "results = cross_val_score(model, X_all, y_all, cv=kfold)\n",
    "\n",
    "print(\"Accuracy: %.3f%% (%.3f%%)\" % (results.mean()*100.0, results.std()*100.0))"
   ]
  },
  {
   "cell_type": "code",
   "execution_count": 58,
   "metadata": {},
   "outputs": [
    {
     "name": "stdout",
     "output_type": "stream",
     "text": [
      "Optimization terminated successfully.\n",
      "         Current function value: 0.518958\n",
      "         Iterations 8\n"
     ]
    },
    {
     "data": {
      "text/html": [
       "<table class=\"simpletable\">\n",
       "<caption>Logit Regression Results</caption>\n",
       "<tr>\n",
       "  <th>Dep. Variable:</th>        <td>rating</td>      <th>  No. Observations:  </th>  <td>   354</td>  \n",
       "</tr>\n",
       "<tr>\n",
       "  <th>Model:</th>                 <td>Logit</td>      <th>  Df Residuals:      </th>  <td>   343</td>  \n",
       "</tr>\n",
       "<tr>\n",
       "  <th>Method:</th>                 <td>MLE</td>       <th>  Df Model:          </th>  <td>    10</td>  \n",
       "</tr>\n",
       "<tr>\n",
       "  <th>Date:</th>            <td>Thu, 03 Nov 2022</td> <th>  Pseudo R-squ.:     </th>  <td>0.2364</td>  \n",
       "</tr>\n",
       "<tr>\n",
       "  <th>Time:</th>                <td>00:58:01</td>     <th>  Log-Likelihood:    </th> <td> -183.71</td> \n",
       "</tr>\n",
       "<tr>\n",
       "  <th>converged:</th>             <td>True</td>       <th>  LL-Null:           </th> <td> -240.60</td> \n",
       "</tr>\n",
       "<tr>\n",
       "  <th>Covariance Type:</th>     <td>nonrobust</td>    <th>  LLR p-value:       </th> <td>9.205e-20</td>\n",
       "</tr>\n",
       "</table>\n",
       "<table class=\"simpletable\">\n",
       "<tr>\n",
       "        <td></td>          <th>coef</th>     <th>std err</th>      <th>z</th>      <th>P>|z|</th>  <th>[0.025</th>    <th>0.975]</th>  \n",
       "</tr>\n",
       "<tr>\n",
       "  <th>Intercept</th>    <td>    2.9175</td> <td>    1.249</td> <td>    2.335</td> <td> 0.020</td> <td>    0.469</td> <td>    5.366</td>\n",
       "</tr>\n",
       "<tr>\n",
       "  <th>roa</th>          <td>   -6.2566</td> <td>    3.307</td> <td>   -1.892</td> <td> 0.058</td> <td>  -12.737</td> <td>    0.224</td>\n",
       "</tr>\n",
       "<tr>\n",
       "  <th>intcov_ratio</th> <td>    0.2063</td> <td>    0.053</td> <td>    3.865</td> <td> 0.000</td> <td>    0.102</td> <td>    0.311</td>\n",
       "</tr>\n",
       "<tr>\n",
       "  <th>quick_ratio</th>  <td>   -1.0561</td> <td>    0.407</td> <td>   -2.598</td> <td> 0.009</td> <td>   -1.853</td> <td>   -0.259</td>\n",
       "</tr>\n",
       "<tr>\n",
       "  <th>intcov</th>       <td>   -0.1981</td> <td>    0.069</td> <td>   -2.859</td> <td> 0.004</td> <td>   -0.334</td> <td>   -0.062</td>\n",
       "</tr>\n",
       "<tr>\n",
       "  <th>bm</th>           <td>   -0.8753</td> <td>    0.573</td> <td>   -1.527</td> <td> 0.127</td> <td>   -1.999</td> <td>    0.248</td>\n",
       "</tr>\n",
       "<tr>\n",
       "  <th>npm</th>          <td>   11.4260</td> <td>    2.468</td> <td>    4.630</td> <td> 0.000</td> <td>    6.589</td> <td>   16.263</td>\n",
       "</tr>\n",
       "<tr>\n",
       "  <th>debt_assets</th>  <td>   -3.0235</td> <td>    1.227</td> <td>   -2.464</td> <td> 0.014</td> <td>   -5.429</td> <td>   -0.618</td>\n",
       "</tr>\n",
       "<tr>\n",
       "  <th>debt_ebitda</th>  <td>   -0.0247</td> <td>    0.025</td> <td>   -0.970</td> <td> 0.332</td> <td>   -0.075</td> <td>    0.025</td>\n",
       "</tr>\n",
       "<tr>\n",
       "  <th>inv_turn</th>     <td>   -0.0014</td> <td>    0.003</td> <td>   -0.485</td> <td> 0.628</td> <td>   -0.007</td> <td>    0.004</td>\n",
       "</tr>\n",
       "<tr>\n",
       "  <th>cash_ratio</th>   <td>    0.4284</td> <td>    0.448</td> <td>    0.955</td> <td> 0.339</td> <td>   -0.451</td> <td>    1.307</td>\n",
       "</tr>\n",
       "</table>"
      ],
      "text/plain": [
       "<class 'statsmodels.iolib.summary.Summary'>\n",
       "\"\"\"\n",
       "                           Logit Regression Results                           \n",
       "==============================================================================\n",
       "Dep. Variable:                 rating   No. Observations:                  354\n",
       "Model:                          Logit   Df Residuals:                      343\n",
       "Method:                           MLE   Df Model:                           10\n",
       "Date:                Thu, 03 Nov 2022   Pseudo R-squ.:                  0.2364\n",
       "Time:                        00:58:01   Log-Likelihood:                -183.71\n",
       "converged:                       True   LL-Null:                       -240.60\n",
       "Covariance Type:            nonrobust   LLR p-value:                 9.205e-20\n",
       "================================================================================\n",
       "                   coef    std err          z      P>|z|      [0.025      0.975]\n",
       "--------------------------------------------------------------------------------\n",
       "Intercept        2.9175      1.249      2.335      0.020       0.469       5.366\n",
       "roa             -6.2566      3.307     -1.892      0.058     -12.737       0.224\n",
       "intcov_ratio     0.2063      0.053      3.865      0.000       0.102       0.311\n",
       "quick_ratio     -1.0561      0.407     -2.598      0.009      -1.853      -0.259\n",
       "intcov          -0.1981      0.069     -2.859      0.004      -0.334      -0.062\n",
       "bm              -0.8753      0.573     -1.527      0.127      -1.999       0.248\n",
       "npm             11.4260      2.468      4.630      0.000       6.589      16.263\n",
       "debt_assets     -3.0235      1.227     -2.464      0.014      -5.429      -0.618\n",
       "debt_ebitda     -0.0247      0.025     -0.970      0.332      -0.075       0.025\n",
       "inv_turn        -0.0014      0.003     -0.485      0.628      -0.007       0.004\n",
       "cash_ratio       0.4284      0.448      0.955      0.339      -0.451       1.307\n",
       "================================================================================\n",
       "\"\"\""
      ]
     },
     "execution_count": 58,
     "metadata": {},
     "output_type": "execute_result"
    }
   ],
   "source": [
    "import statsmodels.formula.api as smf\n",
    "\n",
    "m1 = smf.logit(\n",
    "  formula='rating ~ roa + intcov_ratio + quick_ratio + intcov + bm \\\n",
    "    + npm + debt_assets + debt_ebitda + inv_turn + cash_ratio',\n",
    "  data=train) \\\n",
    ".fit()\n",
    "\n",
    "m1.summary()"
   ]
  },
  {
   "cell_type": "code",
   "execution_count": 59,
   "metadata": {},
   "outputs": [
    {
     "name": "stdout",
     "output_type": "stream",
     "text": [
      "Optimization terminated successfully.\n",
      "         Current function value: 0.528526\n",
      "         Iterations 8\n"
     ]
    },
    {
     "data": {
      "text/html": [
       "<table class=\"simpletable\">\n",
       "<caption>Logit Regression Results</caption>\n",
       "<tr>\n",
       "  <th>Dep. Variable:</th>        <td>rating</td>      <th>  No. Observations:  </th>  <td>   354</td>  \n",
       "</tr>\n",
       "<tr>\n",
       "  <th>Model:</th>                 <td>Logit</td>      <th>  Df Residuals:      </th>  <td>   348</td>  \n",
       "</tr>\n",
       "<tr>\n",
       "  <th>Method:</th>                 <td>MLE</td>       <th>  Df Model:          </th>  <td>     5</td>  \n",
       "</tr>\n",
       "<tr>\n",
       "  <th>Date:</th>            <td>Thu, 03 Nov 2022</td> <th>  Pseudo R-squ.:     </th>  <td>0.2224</td>  \n",
       "</tr>\n",
       "<tr>\n",
       "  <th>Time:</th>                <td>01:00:26</td>     <th>  Log-Likelihood:    </th> <td> -187.10</td> \n",
       "</tr>\n",
       "<tr>\n",
       "  <th>converged:</th>             <td>True</td>       <th>  LL-Null:           </th> <td> -240.60</td> \n",
       "</tr>\n",
       "<tr>\n",
       "  <th>Covariance Type:</th>     <td>nonrobust</td>    <th>  LLR p-value:       </th> <td>1.758e-21</td>\n",
       "</tr>\n",
       "</table>\n",
       "<table class=\"simpletable\">\n",
       "<tr>\n",
       "        <td></td>          <th>coef</th>     <th>std err</th>      <th>z</th>      <th>P>|z|</th>  <th>[0.025</th>    <th>0.975]</th>  \n",
       "</tr>\n",
       "<tr>\n",
       "  <th>Intercept</th>    <td>    1.1889</td> <td>    0.814</td> <td>    1.460</td> <td> 0.144</td> <td>   -0.407</td> <td>    2.785</td>\n",
       "</tr>\n",
       "<tr>\n",
       "  <th>intcov_ratio</th> <td>    0.1832</td> <td>    0.049</td> <td>    3.771</td> <td> 0.000</td> <td>    0.088</td> <td>    0.278</td>\n",
       "</tr>\n",
       "<tr>\n",
       "  <th>quick_ratio</th>  <td>   -0.6600</td> <td>    0.191</td> <td>   -3.464</td> <td> 0.001</td> <td>   -1.034</td> <td>   -0.287</td>\n",
       "</tr>\n",
       "<tr>\n",
       "  <th>intcov</th>       <td>   -0.1752</td> <td>    0.068</td> <td>   -2.592</td> <td> 0.010</td> <td>   -0.308</td> <td>   -0.043</td>\n",
       "</tr>\n",
       "<tr>\n",
       "  <th>npm</th>          <td>   10.7393</td> <td>    2.334</td> <td>    4.602</td> <td> 0.000</td> <td>    6.166</td> <td>   15.313</td>\n",
       "</tr>\n",
       "<tr>\n",
       "  <th>debt_assets</th>  <td>   -2.6785</td> <td>    1.002</td> <td>   -2.673</td> <td> 0.008</td> <td>   -4.642</td> <td>   -0.715</td>\n",
       "</tr>\n",
       "</table>"
      ],
      "text/plain": [
       "<class 'statsmodels.iolib.summary.Summary'>\n",
       "\"\"\"\n",
       "                           Logit Regression Results                           \n",
       "==============================================================================\n",
       "Dep. Variable:                 rating   No. Observations:                  354\n",
       "Model:                          Logit   Df Residuals:                      348\n",
       "Method:                           MLE   Df Model:                            5\n",
       "Date:                Thu, 03 Nov 2022   Pseudo R-squ.:                  0.2224\n",
       "Time:                        01:00:26   Log-Likelihood:                -187.10\n",
       "converged:                       True   LL-Null:                       -240.60\n",
       "Covariance Type:            nonrobust   LLR p-value:                 1.758e-21\n",
       "================================================================================\n",
       "                   coef    std err          z      P>|z|      [0.025      0.975]\n",
       "--------------------------------------------------------------------------------\n",
       "Intercept        1.1889      0.814      1.460      0.144      -0.407       2.785\n",
       "intcov_ratio     0.1832      0.049      3.771      0.000       0.088       0.278\n",
       "quick_ratio     -0.6600      0.191     -3.464      0.001      -1.034      -0.287\n",
       "intcov          -0.1752      0.068     -2.592      0.010      -0.308      -0.043\n",
       "npm             10.7393      2.334      4.602      0.000       6.166      15.313\n",
       "debt_assets     -2.6785      1.002     -2.673      0.008      -4.642      -0.715\n",
       "================================================================================\n",
       "\"\"\""
      ]
     },
     "execution_count": 59,
     "metadata": {},
     "output_type": "execute_result"
    }
   ],
   "source": [
    "import statsmodels.formula.api as smf\n",
    "\n",
    "m1 = smf.logit(\n",
    "  formula='rating ~ intcov_ratio + quick_ratio + intcov + npm + debt_assets',\n",
    "  data=train) \\\n",
    ".fit()\n",
    "\n",
    "m1.summary()"
   ]
  },
  {
   "cell_type": "markdown",
   "metadata": {},
   "source": [
    "### Helpful for interpreting coefs"
   ]
  },
  {
   "cell_type": "markdown",
   "metadata": {},
   "source": [
    "https://levelup.gitconnected.com/an-introduction-to-logistic-regression-in-python-with-statsmodels-and-scikit-learn-1a1fb5ce1c13\n"
   ]
  }
 ],
 "metadata": {
  "kernelspec": {
   "display_name": "Python 3.8.3 ('base')",
   "language": "python",
   "name": "python3"
  },
  "language_info": {
   "codemirror_mode": {
    "name": "ipython",
    "version": 3
   },
   "file_extension": ".py",
   "mimetype": "text/x-python",
   "name": "python",
   "nbconvert_exporter": "python",
   "pygments_lexer": "ipython3",
   "version": "3.8.3"
  },
  "orig_nbformat": 4,
  "vscode": {
   "interpreter": {
    "hash": "8fda165f50e76d432f6ed799118bc9dab23fa79194393d6371ca86a52c69e7ca"
   }
  }
 },
 "nbformat": 4,
 "nbformat_minor": 2
}
