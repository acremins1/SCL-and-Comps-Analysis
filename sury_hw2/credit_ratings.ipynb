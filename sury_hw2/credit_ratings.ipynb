{
 "cells": [
  {
   "cell_type": "code",
   "execution_count": 1,
   "metadata": {},
   "outputs": [],
   "source": [
    "import pandas as pd\n",
    "\n",
    "fileName = 'ratios_with_credit_ratings_sp500.csv'\n",
    "\n",
    "# Read the data into a pandas dataframe\n",
    "df = pd.read_csv(fileName)\n"
   ]
  },
  {
   "cell_type": "code",
   "execution_count": 8,
   "metadata": {},
   "outputs": [],
   "source": [
    "ratingsOrder = [\n",
    "    'AAA',\n",
    "    'AA+',\n",
    "    'AA',\n",
    "    'AA-',\n",
    "    'A+',\n",
    "    'A',\n",
    "    'A-',\n",
    "    'BBB+',\n",
    "    'BBB',\n",
    "    'BBB-',\n",
    "    'BB+',\n",
    "    'BB',\n",
    "    'BB-',\n",
    "    'B+',\n",
    "    'B',\n",
    "    'B-',\n",
    "    'CCC+',\n",
    "]"
   ]
  },
  {
   "cell_type": "code",
   "execution_count": 9,
   "metadata": {},
   "outputs": [
    {
     "data": {
      "text/plain": [
       "AAA      2\n",
       "AA+      2\n",
       "AA       4\n",
       "AA-     15\n",
       "A+      18\n",
       "A       42\n",
       "A-      40\n",
       "BBB+    67\n",
       "BBB     64\n",
       "BBB-    33\n",
       "BB+     16\n",
       "BB      17\n",
       "BB-     12\n",
       "B+       3\n",
       "B        1\n",
       "B-       1\n",
       "CCC+     1\n",
       "Name: long_term_credit_rating, dtype: int64"
      ]
     },
     "execution_count": 9,
     "metadata": {},
     "output_type": "execute_result"
    }
   ],
   "source": [
    "ratingsValueCount = df['long_term_credit_rating'].value_counts()\n",
    "\n",
    "# Sort index by ratingsOrder\n",
    "ratingsValueCount = ratingsValueCount.reindex(ratingsOrder)\n",
    "\n",
    "ratingsValueCount"
   ]
  },
  {
   "cell_type": "code",
   "execution_count": 22,
   "metadata": {},
   "outputs": [
    {
     "data": {
      "text/html": [
       "<div>\n",
       "<style scoped>\n",
       "    .dataframe tbody tr th:only-of-type {\n",
       "        vertical-align: middle;\n",
       "    }\n",
       "\n",
       "    .dataframe tbody tr th {\n",
       "        vertical-align: top;\n",
       "    }\n",
       "\n",
       "    .dataframe thead th {\n",
       "        text-align: right;\n",
       "    }\n",
       "</style>\n",
       "<table border=\"1\" class=\"dataframe\">\n",
       "  <thead>\n",
       "    <tr style=\"text-align: right;\">\n",
       "      <th></th>\n",
       "      <th>Rating</th>\n",
       "      <th>Spread</th>\n",
       "    </tr>\n",
       "  </thead>\n",
       "  <tbody>\n",
       "    <tr>\n",
       "      <th>0</th>\n",
       "      <td>AAA</td>\n",
       "      <td>3.03</td>\n",
       "    </tr>\n",
       "    <tr>\n",
       "      <th>1</th>\n",
       "      <td>AA</td>\n",
       "      <td>2.68</td>\n",
       "    </tr>\n",
       "    <tr>\n",
       "      <th>2</th>\n",
       "      <td>A</td>\n",
       "      <td>3.02</td>\n",
       "    </tr>\n",
       "    <tr>\n",
       "      <th>3</th>\n",
       "      <td>BBB</td>\n",
       "      <td>3.66</td>\n",
       "    </tr>\n",
       "    <tr>\n",
       "      <th>4</th>\n",
       "      <td>BB</td>\n",
       "      <td>4.47</td>\n",
       "    </tr>\n",
       "    <tr>\n",
       "      <th>5</th>\n",
       "      <td>B</td>\n",
       "      <td>5.6</td>\n",
       "    </tr>\n",
       "    <tr>\n",
       "      <th>6</th>\n",
       "      <td>CCC</td>\n",
       "      <td>9.83</td>\n",
       "    </tr>\n",
       "  </tbody>\n",
       "</table>\n",
       "</div>"
      ],
      "text/plain": [
       "  Rating Spread\n",
       "0    AAA   3.03\n",
       "1     AA   2.68\n",
       "2      A   3.02\n",
       "3    BBB   3.66\n",
       "4     BB   4.47\n",
       "5      B    5.6\n",
       "6    CCC   9.83"
      ]
     },
     "metadata": {},
     "output_type": "display_data"
    }
   ],
   "source": [
    "targetDate = '2017-02-28'\n",
    "\n",
    "# csv Files\n",
    "fileNames = [\n",
    "    'aaa.csv',\n",
    "    'aa.csv',\n",
    "    'a.csv',\n",
    "    'bbb.csv',\n",
    "    'bb.csv',\n",
    "    'b.csv',\n",
    "    'ccc.csv',\n",
    "]\n",
    "\n",
    "ratings = [fileName[:-4].upper() for fileName in fileNames]\n",
    "spreads = []\n",
    "\n",
    "for fileName in fileNames:\n",
    "    tempDf = pd.read_csv(fileName)\n",
    "\n",
    "    # get date targetDae\n",
    "    tempDf = tempDf[tempDf['DATE'] == targetDate]\n",
    "\n",
    "    # add to spreads df\n",
    "    spreads.append(tempDf.iloc[0, 1])\n",
    "\n",
    "\n",
    "# Create a spreads df\n",
    "spreadsDf = pd.DataFrame(list(zip(ratings, spreads)), columns=['Rating', 'Spread'])\n",
    "\n",
    "\n",
    "display(spreadsDf)"
   ]
  },
  {
   "cell_type": "code",
   "execution_count": null,
   "metadata": {},
   "outputs": [],
   "source": [
    "# save to csv\n",
    "spreadsDf.to_csv('credit_ratings_to_spreads.csv', index=False)"
   ]
  }
 ],
 "metadata": {
  "kernelspec": {
   "display_name": "Python 3.10.4 64-bit",
   "language": "python",
   "name": "python3"
  },
  "language_info": {
   "codemirror_mode": {
    "name": "ipython",
    "version": 3
   },
   "file_extension": ".py",
   "mimetype": "text/x-python",
   "name": "python",
   "nbconvert_exporter": "python",
   "pygments_lexer": "ipython3",
   "version": "3.10.4"
  },
  "orig_nbformat": 4,
  "vscode": {
   "interpreter": {
    "hash": "0831c9a8f38bf0534c50bfaa0f7ad63ee7d3a6b807ce61f39252cf011aaed1cf"
   }
  }
 },
 "nbformat": 4,
 "nbformat_minor": 2
}
