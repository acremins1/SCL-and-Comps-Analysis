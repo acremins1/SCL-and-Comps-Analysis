{
 "cells": [
  {
   "cell_type": "markdown",
   "id": "3504332f",
   "metadata": {},
   "source": [
    "# Uber: Estimating Beta (SCL vs. Comparables)"
   ]
  },
  {
   "cell_type": "markdown",
   "id": "2eb91fc2",
   "metadata": {},
   "source": [
    "#### Aidan Cremins, Peyton Lewis, Joe Morris, Amrit Sandhu"
   ]
  },
  {
   "cell_type": "markdown",
   "id": "e2e18ea3",
   "metadata": {},
   "source": [
    "## Part I: SCL Analysis"
   ]
  },
  {
   "cell_type": "markdown",
   "id": "0bf6e737",
   "metadata": {},
   "source": [
    "### Necessary Imports"
   ]
  },
  {
   "cell_type": "code",
   "execution_count": 1,
   "id": "e0f4bcc7",
   "metadata": {},
   "outputs": [],
   "source": [
    "import pandas as pd\n",
    "import numpy as np\n",
    "import statsmodels.api as sm\n",
    "import matplotlib.pyplot as plt\n",
    "import yfinance as yf\n",
    "\n",
    "import warnings\n",
    "warnings.filterwarnings('ignore')"
   ]
  },
  {
   "cell_type": "markdown",
   "id": "3c5e482f",
   "metadata": {},
   "source": [
    "### Assumptions"
   ]
  },
  {
   "cell_type": "markdown",
   "id": "5b2f3739",
   "metadata": {},
   "source": [
    "<li>Granularity: Weekly<br>\n",
    "<li>Timeframe: Two years<br>\n",
    "<li>Risk Free Rate: 0%"
   ]
  },
  {
   "cell_type": "markdown",
   "id": "6da0e67d",
   "metadata": {},
   "source": [
    "### Read in Data"
   ]
  },
  {
   "cell_type": "code",
   "execution_count": 2,
   "id": "62c8e06e",
   "metadata": {},
   "outputs": [],
   "source": [
    "uber_data = pd.read_csv('UBER.csv')"
   ]
  },
  {
   "cell_type": "code",
   "execution_count": 3,
   "id": "401df7e4",
   "metadata": {},
   "outputs": [
    {
     "data": {
      "text/html": [
       "<div>\n",
       "<style scoped>\n",
       "    .dataframe tbody tr th:only-of-type {\n",
       "        vertical-align: middle;\n",
       "    }\n",
       "\n",
       "    .dataframe tbody tr th {\n",
       "        vertical-align: top;\n",
       "    }\n",
       "\n",
       "    .dataframe thead th {\n",
       "        text-align: right;\n",
       "    }\n",
       "</style>\n",
       "<table border=\"1\" class=\"dataframe\">\n",
       "  <thead>\n",
       "    <tr style=\"text-align: right;\">\n",
       "      <th></th>\n",
       "      <th>Adj_Close_Uber</th>\n",
       "      <th>Adj_Close_Market</th>\n",
       "      <th>rf_rate</th>\n",
       "      <th>MRP</th>\n",
       "      <th>URP</th>\n",
       "      <th>Market Risk Premium</th>\n",
       "      <th>Uber Risk Premium</th>\n",
       "    </tr>\n",
       "  </thead>\n",
       "  <tbody>\n",
       "    <tr>\n",
       "      <th>0</th>\n",
       "      <td>33.720001</td>\n",
       "      <td>337.360901</td>\n",
       "      <td>0</td>\n",
       "      <td>0.000000</td>\n",
       "      <td>0.000000</td>\n",
       "      <td>0.000000</td>\n",
       "      <td>0.000000</td>\n",
       "    </tr>\n",
       "    <tr>\n",
       "      <th>1</th>\n",
       "      <td>36.750000</td>\n",
       "      <td>335.894012</td>\n",
       "      <td>0</td>\n",
       "      <td>-0.004348</td>\n",
       "      <td>0.089858</td>\n",
       "      <td>-0.004348</td>\n",
       "      <td>0.089858</td>\n",
       "    </tr>\n",
       "    <tr>\n",
       "      <th>2</th>\n",
       "      <td>33.410000</td>\n",
       "      <td>317.204102</td>\n",
       "      <td>0</td>\n",
       "      <td>-0.055642</td>\n",
       "      <td>-0.090884</td>\n",
       "      <td>-0.055642</td>\n",
       "      <td>-0.090884</td>\n",
       "    </tr>\n",
       "    <tr>\n",
       "      <th>3</th>\n",
       "      <td>44.869999</td>\n",
       "      <td>340.148834</td>\n",
       "      <td>0</td>\n",
       "      <td>0.072334</td>\n",
       "      <td>0.343011</td>\n",
       "      <td>0.072334</td>\n",
       "      <td>0.343011</td>\n",
       "    </tr>\n",
       "    <tr>\n",
       "      <th>4</th>\n",
       "      <td>47.610001</td>\n",
       "      <td>347.861816</td>\n",
       "      <td>0</td>\n",
       "      <td>0.022675</td>\n",
       "      <td>0.061065</td>\n",
       "      <td>0.022675</td>\n",
       "      <td>0.061065</td>\n",
       "    </tr>\n",
       "    <tr>\n",
       "      <th>...</th>\n",
       "      <td>...</td>\n",
       "      <td>...</td>\n",
       "      <td>...</td>\n",
       "      <td>...</td>\n",
       "      <td>...</td>\n",
       "      <td>...</td>\n",
       "      <td>...</td>\n",
       "    </tr>\n",
       "    <tr>\n",
       "      <th>101</th>\n",
       "      <td>27.820000</td>\n",
       "      <td>367.950012</td>\n",
       "      <td>0</td>\n",
       "      <td>-0.041754</td>\n",
       "      <td>-0.128719</td>\n",
       "      <td>-0.041754</td>\n",
       "      <td>-0.128719</td>\n",
       "    </tr>\n",
       "    <tr>\n",
       "      <th>102</th>\n",
       "      <td>26.500000</td>\n",
       "      <td>357.179993</td>\n",
       "      <td>0</td>\n",
       "      <td>-0.029270</td>\n",
       "      <td>-0.047448</td>\n",
       "      <td>-0.029270</td>\n",
       "      <td>-0.047448</td>\n",
       "    </tr>\n",
       "    <tr>\n",
       "      <th>103</th>\n",
       "      <td>28.070000</td>\n",
       "      <td>362.790009</td>\n",
       "      <td>0</td>\n",
       "      <td>0.015706</td>\n",
       "      <td>0.059245</td>\n",
       "      <td>0.015706</td>\n",
       "      <td>0.059245</td>\n",
       "    </tr>\n",
       "    <tr>\n",
       "      <th>104</th>\n",
       "      <td>24.709999</td>\n",
       "      <td>357.630005</td>\n",
       "      <td>0</td>\n",
       "      <td>-0.014223</td>\n",
       "      <td>-0.119701</td>\n",
       "      <td>-0.014223</td>\n",
       "      <td>-0.119701</td>\n",
       "    </tr>\n",
       "    <tr>\n",
       "      <th>105</th>\n",
       "      <td>28.020000</td>\n",
       "      <td>374.290009</td>\n",
       "      <td>0</td>\n",
       "      <td>0.046584</td>\n",
       "      <td>0.133954</td>\n",
       "      <td>0.046584</td>\n",
       "      <td>0.133954</td>\n",
       "    </tr>\n",
       "  </tbody>\n",
       "</table>\n",
       "<p>106 rows × 7 columns</p>\n",
       "</div>"
      ],
      "text/plain": [
       "     Adj_Close_Uber  Adj_Close_Market  rf_rate       MRP       URP  \\\n",
       "0         33.720001        337.360901        0  0.000000  0.000000   \n",
       "1         36.750000        335.894012        0 -0.004348  0.089858   \n",
       "2         33.410000        317.204102        0 -0.055642 -0.090884   \n",
       "3         44.869999        340.148834        0  0.072334  0.343011   \n",
       "4         47.610001        347.861816        0  0.022675  0.061065   \n",
       "..              ...               ...      ...       ...       ...   \n",
       "101       27.820000        367.950012        0 -0.041754 -0.128719   \n",
       "102       26.500000        357.179993        0 -0.029270 -0.047448   \n",
       "103       28.070000        362.790009        0  0.015706  0.059245   \n",
       "104       24.709999        357.630005        0 -0.014223 -0.119701   \n",
       "105       28.020000        374.290009        0  0.046584  0.133954   \n",
       "\n",
       "     Market Risk Premium  Uber Risk Premium  \n",
       "0               0.000000           0.000000  \n",
       "1              -0.004348           0.089858  \n",
       "2              -0.055642          -0.090884  \n",
       "3               0.072334           0.343011  \n",
       "4               0.022675           0.061065  \n",
       "..                   ...                ...  \n",
       "101            -0.041754          -0.128719  \n",
       "102            -0.029270          -0.047448  \n",
       "103             0.015706           0.059245  \n",
       "104            -0.014223          -0.119701  \n",
       "105             0.046584           0.133954  \n",
       "\n",
       "[106 rows x 7 columns]"
      ]
     },
     "execution_count": 3,
     "metadata": {},
     "output_type": "execute_result"
    }
   ],
   "source": [
    "uber_data['Market Risk Premium'] = uber_data['Adj_Close_Market'].pct_change(1) - uber_data['rf_rate']\n",
    "uber_data['Uber Risk Premium'] = uber_data['Adj_Close_Uber'].pct_change(1) - uber_data['rf_rate']\n",
    "uber_data = uber_data.fillna(0)\n",
    "uber_data"
   ]
  },
  {
   "cell_type": "code",
   "execution_count": 4,
   "id": "c6e86858",
   "metadata": {},
   "outputs": [
    {
     "name": "stdout",
     "output_type": "stream",
     "text": [
      "                            OLS Regression Results                            \n",
      "==============================================================================\n",
      "Dep. Variable:      Uber Risk Premium   R-squared:                       0.268\n",
      "Model:                            OLS   Adj. R-squared:                  0.261\n",
      "Method:                 Least Squares   F-statistic:                     37.67\n",
      "Date:                Wed, 26 Oct 2022   Prob (F-statistic):           1.58e-08\n",
      "Time:                        02:12:37   Log-Likelihood:                 130.63\n",
      "No. Observations:                 105   AIC:                            -257.3\n",
      "Df Residuals:                     103   BIC:                            -252.0\n",
      "Df Model:                           1                                         \n",
      "Covariance Type:            nonrobust                                         \n",
      "=======================================================================================\n",
      "                          coef    std err          t      P>|t|      [0.025      0.975]\n",
      "---------------------------------------------------------------------------------------\n",
      "const                  -0.0008      0.007     -0.111      0.911      -0.014       0.013\n",
      "Market Risk Premium     1.6104      0.262      6.138      0.000       1.090       2.131\n",
      "==============================================================================\n",
      "Omnibus:                       47.486   Durbin-Watson:                   2.159\n",
      "Prob(Omnibus):                  0.000   Jarque-Bera (JB):              208.980\n",
      "Skew:                           1.422   Prob(JB):                     4.17e-46\n",
      "Kurtosis:                       9.299   Cond. No.                         38.2\n",
      "==============================================================================\n",
      "\n",
      "Notes:\n",
      "[1] Standard Errors assume that the covariance matrix of the errors is correctly specified.\n"
     ]
    }
   ],
   "source": [
    "#define predictor and response variables\n",
    "y = uber_data['Uber Risk Premium'].iloc[1:]\n",
    "x = uber_data['Market Risk Premium'].iloc[1:]\n",
    "\n",
    "#add constant to predictor variables\n",
    "x = sm.add_constant(x)\n",
    "\n",
    "#fit linear regression model\n",
    "model = sm.OLS(y, x).fit()\n",
    "\n",
    "#view model summary\n",
    "print(model.summary())"
   ]
  },
  {
   "cell_type": "markdown",
   "id": "d30c9319",
   "metadata": {},
   "source": [
    "### Beta Analysis"
   ]
  },
  {
   "cell_type": "code",
   "execution_count": 5,
   "id": "955714a2",
   "metadata": {},
   "outputs": [],
   "source": [
    "uber_beta = model.params[1]\n",
    "uber_tstat_0 = model.tvalues[1]\n",
    "uber_se = model.bse[1]"
   ]
  },
  {
   "cell_type": "markdown",
   "id": "ce48ce52",
   "metadata": {},
   "source": [
    "To test whether the coeffient is statistically signicantly different from the market's Beta of 1, we run a Hypothesis Test with the null hypothesis that Uber's Beta is equal to 1."
   ]
  },
  {
   "cell_type": "code",
   "execution_count": 6,
   "id": "5085fb6d",
   "metadata": {},
   "outputs": [
    {
     "data": {
      "text/plain": [
       "2.3264399090637746"
      ]
     },
     "execution_count": 6,
     "metadata": {},
     "output_type": "execute_result"
    }
   ],
   "source": [
    "uber_t_stat = (uber_beta - 1) / uber_se\n",
    "uber_t_stat"
   ]
  },
  {
   "cell_type": "markdown",
   "id": "a4bc37f6",
   "metadata": {},
   "source": [
    "Because the relevant t statisitc is 2.326 and there are enough data points (n = 105) to assume that the Student T Distribution is well-approximated by the Normal curve, a critical t value of 1.96 is used. This indicates that Uber's Beta is statisically different from the market Beta of 1 and therefore carries more risk than a well diversified portfolio."
   ]
  },
  {
   "cell_type": "markdown",
   "id": "43dbfb20",
   "metadata": {},
   "source": [
    "### Confidence Interval of Beta"
   ]
  },
  {
   "cell_type": "code",
   "execution_count": 7,
   "id": "73e7cae3",
   "metadata": {},
   "outputs": [
    {
     "name": "stdout",
     "output_type": "stream",
     "text": [
      "1.09614681721068 2.124679774848414\n"
     ]
    }
   ],
   "source": [
    "lower_bound = uber_beta - 1.96 * uber_se\n",
    "upper_bound = uber_beta + 1.96 * uber_se\n",
    "print(lower_bound, upper_bound)"
   ]
  },
  {
   "cell_type": "markdown",
   "id": "a2fb21d3",
   "metadata": {},
   "source": [
    "When computing the upper and lower bound on the Beta estimate for Uber using the critical t-value of 1.96, the bound is found to be (1.096, 2.125), which differs slightly from the OLS output, which interpolated the exact critical t-statistic using the sample size (instead of approximating with the Normal curve). This 95% confidence interval was computed by taking the product of the critical t-value of 1.96 and the standard error of the Beta estimate of 0.262 and adding and subtracting it from the Beta estimate of 1.610 (Confidence interval = Beta +- t_critical * standard error of Beta). The critical t value of 1.96 is used because in a normal distribution, 95% of the area under the curve is contained within 1.96 standard deviations on either side of the mean. This will allow us to obtain a 95% confidence interval on our Beta estimate for Uber. <br><br>\n",
    "This interval, centered at the Beta estimate for Uber, indicates that if this process were repeated many times, 95% of the generated estimates for Uber's Beta would fall within this interval. This Beta was computed using weekly returns for two years. This level of granularity provides a sample size of 105 data points, which would lead to a much tighter interval around Beta than 2 years of monthly returns, for example. This is a function of the sample size, because as sample size increases, the standard error of the Beta estimate decreases, and its corresponding confidence interval will tighten as well."
   ]
  },
  {
   "cell_type": "markdown",
   "id": "91c841e1",
   "metadata": {},
   "source": [
    "### Security Characteristic Line"
   ]
  },
  {
   "cell_type": "code",
   "execution_count": 8,
   "id": "c849cd73",
   "metadata": {},
   "outputs": [
    {
     "data": {
      "image/png": "[encoded data removed]",
      "text/plain": [
       "<Figure size 864x576 with 1 Axes>"
      ]
     },
     "metadata": {},
     "output_type": "display_data"
    }
   ],
   "source": [
    "x = uber_data['Market Risk Premium']\n",
    "y_actual = uber_data['Uber Risk Premium']\n",
    "    \n",
    "x_all = np.linspace(-4, 4, 100)\n",
    "y = model.params['const'] + model.params['Market Risk Premium'] * x_all\n",
    "\n",
    "\n",
    "x_range = max(abs(max(x)), abs(min(x))) + max(abs(max(x)), abs(min(x))) * .1\n",
    "y_range = max(abs(max(y_actual)), abs(min(y_actual))) + max(abs(max(y_actual)), abs(min(y_actual))) * .1\n",
    "max_range = max(x_range, y_range)\n",
    "\n",
    "plt.style.use('dark_background')\n",
    "fig = plt.figure(figsize=(12,8))\n",
    "ax = fig.add_subplot(1, 1, 1)\n",
    "ax.spines['left'].set_position('zero')\n",
    "ax.spines['bottom'].set_position('zero')\n",
    "ax.spines['right'].set_position('zero')\n",
    "ax.spines['top'].set_position('zero')\n",
    "ax.yaxis.set_label_coords(.53, 1)\n",
    "ax.xaxis.set_label_coords(1, .53)\n",
    "plt.scatter(x=x, y=y_actual, label='Returns', color='cyan')\n",
    "plt.plot(x_all, y, color='red', linewidth=2, \\\n",
    "    label='y={:.2f}x+{:.2f}'.format(model.params['Market Risk Premium'],model.params['const']))\n",
    "plt.axhline(0, linestyle=':', color='grey')\n",
    "plt.axvline(0, linestyle=':', color='grey')\n",
    "plt.xlabel('Rm - RF')\n",
    "ax.xaxis.set_label_coords(1, 0.45)\n",
    "plt.ylabel('Ri - RF', rotation = 360)\n",
    "ax.yaxis.set_label_coords(0.43, 1)\n",
    "plt.xlim(-x_range, x_range)\n",
    "plt.ylim(-y_range, y_range)\n",
    "plt.legend(loc='best')\n",
    "plt.title('Security Characteristic Line ', loc='left')\n",
    "    \n",
    "plt.show()\n",
    "    "
   ]
  },
  {
   "cell_type": "markdown",
   "id": "7c523a20",
   "metadata": {},
   "source": [
    " "
   ]
  },
  {
   "cell_type": "markdown",
   "id": "7bd09678",
   "metadata": {},
   "source": [
    "## Part II: Comparables Analysis"
   ]
  },
  {
   "cell_type": "markdown",
   "id": "382a88d1",
   "metadata": {},
   "source": [
    "Uber has 3 Business Segments: <br>\n",
    "<li>Delivery<br>\n",
    "<li>Freight<br>\n",
    "<li>Mobility (Ride Sharing)<br>\n",
    "    \n",
    "<br>\n",
    "For each of the segments, we identified 5-10 Comparables. They are listed below in their relative sections. <br>"
   ]
  },
  {
   "cell_type": "markdown",
   "id": "1e1bc78b",
   "metadata": {},
   "source": [
    "### Segment I: Delivery\n",
    "\n",
    "<table>\n",
    "<tr>\n",
    "<th colspan=2 style=\"text-align:center\">Delivery Comps</th>\n",
    "</tr>\n",
    "<tr>\n",
    "<th>Ticker</th>\n",
    "<th>Company</th>\n",
    "</tr>\n",
    "<tr>\n",
    "<td>DASH</td>\n",
    "<td>DoorDash, Inc.</td>\n",
    "</tr>\n",
    "<tr>\n",
    "<td>DROOF</td>\n",
    "<td>Deliveroo PLC</td>\n",
    "</tr>\n",
    "<tr>\n",
    "<td>DLVHF</td>\n",
    "<td>Delivery Hero SE</td>\n",
    "</tr>\n",
    "<tr>\n",
    "<td>HLFFF</td>\n",
    "<td>Just Eat Takeaway.com N.V.</td>\n",
    "</tr>\n",
    "<tr>\n",
    "<td>APRN</td>\n",
    "<td>Blue Apron Holdings, Inc.</td>\n",
    "</tr>\n",
    "</table>"
   ]
  },
  {
   "cell_type": "markdown",
   "id": "5b151bab",
   "metadata": {},
   "source": [
    "### Segment II: Freight\n",
    "\n",
    "<table>\n",
    "<tr>\n",
    "<th colspan=2 style=\"text-align:center\">Freight Comps</th>\n",
    "</tr>\n",
    "<tr>\n",
    "<th>Ticker</th>\n",
    "<th>Company</th>\n",
    "</tr>\n",
    "<tr>\n",
    "<td>CHRW</td>\n",
    "<td>CH Robinson Worldwide, Inc.</td>\n",
    "</tr>\n",
    "<tr>\n",
    "<td>XPO</td>\n",
    "<td>XPO Logistics, Inc.</td>\n",
    "</tr>\n",
    "<tr>\n",
    "<td>DPSGY</td>\n",
    "<td>Deutsche Post AG</td>\n",
    "</tr>\n",
    "<tr>\n",
    "<td>GXO</td>\n",
    "<td>GXO Logistics, Inc.</td>\n",
    "</tr>\n",
    "<tr>\n",
    "<td>JBHT</td>\n",
    "<td>J.B. Hunt Transport Services, Inc.</td>\n",
    "</tr>\n",
    "<tr>\n",
    "<td>HUBG</td>\n",
    "<td>Hub Group, Inc.</td>\n",
    "</tr>\n",
    "<tr>\n",
    "<td>LSTR</td>\n",
    "<td>Landstar System, Inc.</td>\n",
    "</tr>\n",
    "</table>\n"
   ]
  },
  {
   "cell_type": "markdown",
   "id": "9c5cd0ab",
   "metadata": {},
   "source": [
    "### Segment III: Mobility\n",
    "\n",
    "<table>\n",
    "<tr>\n",
    "<th colspan=2 style=\"text-align:center\">Mobility Comps</th>\n",
    "</tr>\n",
    "<tr>\n",
    "<th>Ticker</th>\n",
    "<th>Company</th>\n",
    "</tr>\n",
    "<tr>\n",
    "<td>LYFT</td>\n",
    "<td>Lyft, Inc.</td>\n",
    "</tr>\n",
    "<tr>\n",
    "<td>DIDIY</td>\n",
    "<td>DIDI Global Inc.</td>\n",
    "</tr>\n",
    "<tr>\n",
    "<td>GRAB</td>\n",
    "<td>Grab Holdings Inc.</td>\n",
    "</tr>\n",
    "<tr>\n",
    "<td>BRDS</td>\n",
    "<td>Bird Global, Inc.</td>\n",
    "</tr>\n",
    "<tr>\n",
    "<td>HLBZ</td>\n",
    "<td>Helbiz Inc.</td>\n",
    "</tr>\n",
    "<tr>\n",
    "<td>NIU</td>\n",
    "<td>Niu Technologies</td>\n",
    "</tr>\n",
    "</table>\n"
   ]
  },
  {
   "cell_type": "code",
   "execution_count": 9,
   "id": "f171a0fa",
   "metadata": {},
   "outputs": [],
   "source": [
    "comp_financials = pd.read_csv('Comp Financials.csv')"
   ]
  },
  {
   "cell_type": "code",
   "execution_count": 10,
   "id": "e81de0da",
   "metadata": {},
   "outputs": [
    {
     "data": {
      "text/html": [
       "<div>\n",
       "<style scoped>\n",
       "    .dataframe tbody tr th:only-of-type {\n",
       "        vertical-align: middle;\n",
       "    }\n",
       "\n",
       "    .dataframe tbody tr th {\n",
       "        vertical-align: top;\n",
       "    }\n",
       "\n",
       "    .dataframe thead th {\n",
       "        text-align: right;\n",
       "    }\n",
       "</style>\n",
       "<table border=\"1\" class=\"dataframe\">\n",
       "  <thead>\n",
       "    <tr style=\"text-align: right;\">\n",
       "      <th></th>\n",
       "      <th>GVKEY</th>\n",
       "      <th>datadate</th>\n",
       "      <th>fyear</th>\n",
       "      <th>indfmt</th>\n",
       "      <th>consol</th>\n",
       "      <th>popsrc</th>\n",
       "      <th>datafmt</th>\n",
       "      <th>tic</th>\n",
       "      <th>conm</th>\n",
       "      <th>curcd</th>\n",
       "      <th>che</th>\n",
       "      <th>csho</th>\n",
       "      <th>dltt</th>\n",
       "      <th>costat</th>\n",
       "      <th>prcc_c</th>\n",
       "    </tr>\n",
       "  </thead>\n",
       "  <tbody>\n",
       "    <tr>\n",
       "      <th>0</th>\n",
       "      <td>5783.0</td>\n",
       "      <td>12/31/2017</td>\n",
       "      <td>2017</td>\n",
       "      <td>INDL</td>\n",
       "      <td>C</td>\n",
       "      <td>D</td>\n",
       "      <td>STD</td>\n",
       "      <td>JBHT</td>\n",
       "      <td>HUNT (JB) TRANSPRT SVCS INC</td>\n",
       "      <td>USD</td>\n",
       "      <td>14.612</td>\n",
       "      <td>109.753</td>\n",
       "      <td>1085.649</td>\n",
       "      <td>A</td>\n",
       "      <td>114.98</td>\n",
       "    </tr>\n",
       "    <tr>\n",
       "      <th>1</th>\n",
       "      <td>5783.0</td>\n",
       "      <td>12/31/2018</td>\n",
       "      <td>2018</td>\n",
       "      <td>INDL</td>\n",
       "      <td>C</td>\n",
       "      <td>D</td>\n",
       "      <td>STD</td>\n",
       "      <td>JBHT</td>\n",
       "      <td>HUNT (JB) TRANSPRT SVCS INC</td>\n",
       "      <td>USD</td>\n",
       "      <td>7.600</td>\n",
       "      <td>108.711</td>\n",
       "      <td>898.398</td>\n",
       "      <td>A</td>\n",
       "      <td>93.04</td>\n",
       "    </tr>\n",
       "    <tr>\n",
       "      <th>2</th>\n",
       "      <td>5783.0</td>\n",
       "      <td>12/31/2019</td>\n",
       "      <td>2019</td>\n",
       "      <td>INDL</td>\n",
       "      <td>C</td>\n",
       "      <td>D</td>\n",
       "      <td>STD</td>\n",
       "      <td>JBHT</td>\n",
       "      <td>HUNT (JB) TRANSPRT SVCS INC</td>\n",
       "      <td>USD</td>\n",
       "      <td>35.000</td>\n",
       "      <td>106.213</td>\n",
       "      <td>1375.840</td>\n",
       "      <td>A</td>\n",
       "      <td>116.78</td>\n",
       "    </tr>\n",
       "    <tr>\n",
       "      <th>3</th>\n",
       "      <td>5783.0</td>\n",
       "      <td>12/31/2020</td>\n",
       "      <td>2020</td>\n",
       "      <td>INDL</td>\n",
       "      <td>C</td>\n",
       "      <td>D</td>\n",
       "      <td>STD</td>\n",
       "      <td>JBHT</td>\n",
       "      <td>HUNT (JB) TRANSPRT SVCS INC</td>\n",
       "      <td>USD</td>\n",
       "      <td>313.302</td>\n",
       "      <td>105.654</td>\n",
       "      <td>1392.624</td>\n",
       "      <td>A</td>\n",
       "      <td>136.65</td>\n",
       "    </tr>\n",
       "    <tr>\n",
       "      <th>4</th>\n",
       "      <td>5783.0</td>\n",
       "      <td>12/31/2021</td>\n",
       "      <td>2021</td>\n",
       "      <td>INDL</td>\n",
       "      <td>C</td>\n",
       "      <td>D</td>\n",
       "      <td>STD</td>\n",
       "      <td>JBHT</td>\n",
       "      <td>HUNT (JB) TRANSPRT SVCS INC</td>\n",
       "      <td>USD</td>\n",
       "      <td>355.549</td>\n",
       "      <td>105.094</td>\n",
       "      <td>1069.357</td>\n",
       "      <td>A</td>\n",
       "      <td>204.40</td>\n",
       "    </tr>\n",
       "  </tbody>\n",
       "</table>\n",
       "</div>"
      ],
      "text/plain": [
       "    GVKEY    datadate  fyear indfmt consol popsrc datafmt   tic  \\\n",
       "0  5783.0  12/31/2017   2017   INDL      C      D     STD  JBHT   \n",
       "1  5783.0  12/31/2018   2018   INDL      C      D     STD  JBHT   \n",
       "2  5783.0  12/31/2019   2019   INDL      C      D     STD  JBHT   \n",
       "3  5783.0  12/31/2020   2020   INDL      C      D     STD  JBHT   \n",
       "4  5783.0  12/31/2021   2021   INDL      C      D     STD  JBHT   \n",
       "\n",
       "                          conm curcd      che     csho      dltt costat  \\\n",
       "0  HUNT (JB) TRANSPRT SVCS INC   USD   14.612  109.753  1085.649      A   \n",
       "1  HUNT (JB) TRANSPRT SVCS INC   USD    7.600  108.711   898.398      A   \n",
       "2  HUNT (JB) TRANSPRT SVCS INC   USD   35.000  106.213  1375.840      A   \n",
       "3  HUNT (JB) TRANSPRT SVCS INC   USD  313.302  105.654  1392.624      A   \n",
       "4  HUNT (JB) TRANSPRT SVCS INC   USD  355.549  105.094  1069.357      A   \n",
       "\n",
       "   prcc_c  \n",
       "0  114.98  \n",
       "1   93.04  \n",
       "2  116.78  \n",
       "3  136.65  \n",
       "4  204.40  "
      ]
     },
     "execution_count": 10,
     "metadata": {},
     "output_type": "execute_result"
    }
   ],
   "source": [
    "#remove rows with tic 'ECHO'\n",
    "comp_financials = comp_financials[comp_financials['tic'] != 'ECHO']\n",
    "comp_financials.head()"
   ]
  },
  {
   "cell_type": "markdown",
   "id": "15de03f7",
   "metadata": {},
   "source": [
    "## Analysis to Determine Captial Structure Assumption to Make"
   ]
  },
  {
   "cell_type": "markdown",
   "id": "0e14d18c",
   "metadata": {},
   "source": [
    "### Assumption I: Constant Debt"
   ]
  },
  {
   "cell_type": "code",
   "execution_count": 11,
   "id": "3874a247",
   "metadata": {},
   "outputs": [
    {
     "data": {
      "image/png": "[encoded data removed]",
      "text/plain": [
       "<Figure size 864x720 with 1 Axes>"
      ]
     },
     "metadata": {},
     "output_type": "display_data"
    }
   ],
   "source": [
    "#group by tic and plot dltt over time for each tic; if company is uber plot in red\n",
    "plt.rcParams['figure.figsize'] = [12, 10]\n",
    "for tic in comp_financials['tic'].unique():\n",
    "    df = comp_financials[comp_financials['tic'] == tic]\n",
    "    if tic == 'UBER':\n",
    "        plt.plot(df['datadate'], df['dltt'], color='red', linewidth = 3, label=tic)\n",
    "    else:\n",
    "        plt.plot(df['datadate'], df['dltt'], label=tic, alpha = 0.7)\n",
    "plt.title('Long Term Debt Over Time for Comps and Uber')\n",
    "plt.ylabel('Long Term Debt')\n",
    "plt.legend(loc='best')\n",
    "plt.show()\n"
   ]
  },
  {
   "cell_type": "markdown",
   "id": "fb30f130",
   "metadata": {},
   "source": [
    "### Assumption II: Constant Debt/Equity Ratio"
   ]
  },
  {
   "cell_type": "code",
   "execution_count": 12,
   "id": "4060c68d",
   "metadata": {},
   "outputs": [
    {
     "data": {
      "image/png": "[encoded data removed]",
      "text/plain": [
       "<Figure size 864x720 with 1 Axes>"
      ]
     },
     "metadata": {},
     "output_type": "display_data"
    }
   ],
   "source": [
    "#group by tic and plot dltt over time for each tic; if company is uber plot in red\n",
    "for tic in comp_financials['tic'].unique():\n",
    "    df = comp_financials[comp_financials['tic'] == tic]\n",
    "    if tic == 'UBER':\n",
    "        plt.plot(df['datadate'], df['dltt'] / (df['csho'] * df['prcc_c']), color='red', linewidth = 3, label=tic)\n",
    "    else:\n",
    "        #make opacity of line 0.5\n",
    "        plt.plot(df['datadate'], df['dltt'] / (df['csho'] * df['prcc_c']), alpha=0.7, label=tic)\n",
    "plt.rcParams['figure.figsize'] = [12, 10]\n",
    "plt.title('D/E Over Time for Comps and Uber')\n",
    "plt.ylabel('D/E')\n",
    "plt.legend(loc='best')\n",
    "plt.show()\n"
   ]
  },
  {
   "cell_type": "markdown",
   "id": "61d0c9f9",
   "metadata": {},
   "source": [
    "# This cell needs some work once we ask Sury what to do\n",
    "Given the plots above of D and D/E over time for both Uber and the Comps, it appears that Assumption I is the most reasonable for delevering the Comp Betas (i.e. constant LTD). To justify the capital structure assumption, we examined the historical finanicals of the corresponding comparables, looking at their measures of Debt over a 5 year period (when available) and their measure of D/E over time. For the comparables without annual financials data available on WRDS, we found information on their 10k statements. \n",
    "if the debt was sub-investment grade, at what level did you set the debt beta?  why?  make persuasive, logical arguments--there isn't necessarily \"one\" right answer here."
   ]
  },
  {
   "cell_type": "markdown",
   "id": "3805ff5d",
   "metadata": {},
   "source": [
    "## Get the Debt Betas for each of the Comps and Uber\n"
   ]
  },
  {
   "cell_type": "markdown",
   "id": "e01c6aec",
   "metadata": {},
   "source": [
    "### Step 1: Get the Equity Betas of Comps (2 years, weekly)"
   ]
  },
  {
   "cell_type": "markdown",
   "id": "cf87d174",
   "metadata": {},
   "source": [
    "#### S&P 500 Data"
   ]
  },
  {
   "cell_type": "code",
   "execution_count": 13,
   "id": "3ac3e15d",
   "metadata": {},
   "outputs": [
    {
     "name": "stdout",
     "output_type": "stream",
     "text": [
      "[*********************100%***********************]  1 of 1 completed\n"
     ]
    }
   ],
   "source": [
    "# download S&P 500 data\n",
    "sp500 = yf.download('^GSPC', start='2020-10-17', end='2022-10-17', interval='1wk')\n",
    "sp500 = sp500.dropna()\n",
    "sp500 = sp500.reset_index()\n",
    "\n",
    "# get the weekly returns\n",
    "sp500['weekly_return'] = sp500['Adj Close'].pct_change()\n",
    "sp500 = sp500.dropna()"
   ]
  },
  {
   "cell_type": "markdown",
   "id": "e2fc9497",
   "metadata": {},
   "source": [
    "#### SCL Analysis for all Comps"
   ]
  },
  {
   "cell_type": "code",
   "execution_count": 14,
   "id": "57713506",
   "metadata": {},
   "outputs": [],
   "source": [
    "#function to calculate the weekly returns for a given ticker (2 year time frame)\n",
    "def beta(ticker, start, end, interval):\n",
    "    # get data\n",
    "    data = yf.download(ticker, start=start, end=end, interval=interval)\n",
    "    data = data.dropna()\n",
    "    data = data.reset_index()\n",
    "    \n",
    "    # calculate weekly returns\n",
    "    data['weekly_return'] = data['Adj Close'].pct_change()\n",
    "    \n",
    "    # drop na\n",
    "    data = data.dropna()\n",
    "    \n",
    "    # merge with sp500 data on date\n",
    "    data = data.merge(sp500, on='Date', suffixes=('', '_sp500'))\n",
    "\n",
    "    # run a regression\n",
    "    X = data['weekly_return_sp500']\n",
    "    y = data['weekly_return']\n",
    "\n",
    "    X = sm.add_constant(X)\n",
    "\n",
    "    model = sm.OLS(y, X).fit()\n",
    "    \n",
    "    return model.params[1]"
   ]
  },
  {
   "cell_type": "code",
   "execution_count": 15,
   "id": "ad135650",
   "metadata": {},
   "outputs": [],
   "source": [
    "# List of Comps for each Business Segment\n",
    "\n",
    "mobility = ['LYFT', 'DIDIY', 'GRAB', 'BRDS', 'HLBZ', 'NIU']\n",
    "delivery = ['DASH', 'DROOF', 'DLVHF', 'HLFFF', 'APRN']\n",
    "freight = ['CHRW', 'XPO', 'DPSGY', 'GXO', 'JBHT', 'HUBG', 'LSTR']"
   ]
  },
  {
   "cell_type": "markdown",
   "id": "efc7bdb3",
   "metadata": {},
   "source": [
    "### Mobility Betas"
   ]
  },
  {
   "cell_type": "code",
   "execution_count": 16,
   "id": "63a107f5",
   "metadata": {},
   "outputs": [
    {
     "name": "stdout",
     "output_type": "stream",
     "text": [
      "[*********************100%***********************]  1 of 1 completed\n",
      "[*********************100%***********************]  1 of 1 completed\n",
      "[*********************100%***********************]  1 of 1 completed\n",
      "[*********************100%***********************]  1 of 1 completed\n",
      "[*********************100%***********************]  1 of 1 completed\n",
      "[*********************100%***********************]  1 of 1 completed\n"
     ]
    },
    {
     "data": {
      "text/html": [
       "<div>\n",
       "<style scoped>\n",
       "    .dataframe tbody tr th:only-of-type {\n",
       "        vertical-align: middle;\n",
       "    }\n",
       "\n",
       "    .dataframe tbody tr th {\n",
       "        vertical-align: top;\n",
       "    }\n",
       "\n",
       "    .dataframe thead th {\n",
       "        text-align: right;\n",
       "    }\n",
       "</style>\n",
       "<table border=\"1\" class=\"dataframe\">\n",
       "  <thead>\n",
       "    <tr style=\"text-align: right;\">\n",
       "      <th></th>\n",
       "      <th>Mobility Equity Beta</th>\n",
       "    </tr>\n",
       "  </thead>\n",
       "  <tbody>\n",
       "    <tr>\n",
       "      <th>LYFT</th>\n",
       "      <td>1.757576</td>\n",
       "    </tr>\n",
       "    <tr>\n",
       "      <th>DIDIY</th>\n",
       "      <td>2.458666</td>\n",
       "    </tr>\n",
       "    <tr>\n",
       "      <th>GRAB</th>\n",
       "      <td>1.293262</td>\n",
       "    </tr>\n",
       "    <tr>\n",
       "      <th>BRDS</th>\n",
       "      <td>0.775504</td>\n",
       "    </tr>\n",
       "    <tr>\n",
       "      <th>HLBZ</th>\n",
       "      <td>1.420304</td>\n",
       "    </tr>\n",
       "    <tr>\n",
       "      <th>NIU</th>\n",
       "      <td>1.430427</td>\n",
       "    </tr>\n",
       "  </tbody>\n",
       "</table>\n",
       "</div>"
      ],
      "text/plain": [
       "       Mobility Equity Beta\n",
       "LYFT               1.757576\n",
       "DIDIY              2.458666\n",
       "GRAB               1.293262\n",
       "BRDS               0.775504\n",
       "HLBZ               1.420304\n",
       "NIU                1.430427"
      ]
     },
     "execution_count": 16,
     "metadata": {},
     "output_type": "execute_result"
    }
   ],
   "source": [
    "# Compute the betas for \n",
    "mobility_beta = pd.DataFrame()\n",
    "\n",
    "for ticker in mobility:\n",
    "    mobility_beta[ticker] = [beta(ticker, '2020-10-17', '2022-10-17', '1wk')]\n",
    "\n",
    "mobility_beta = mobility_beta.T\n",
    "mobility_beta.columns = ['Mobility Equity Beta']\n",
    "\n",
    "mobility_beta"
   ]
  },
  {
   "cell_type": "markdown",
   "id": "c8f2e973",
   "metadata": {},
   "source": [
    "### Delivery Betas"
   ]
  },
  {
   "cell_type": "code",
   "execution_count": 17,
   "id": "38e08c0f",
   "metadata": {},
   "outputs": [
    {
     "name": "stdout",
     "output_type": "stream",
     "text": [
      "[*********************100%***********************]  1 of 1 completed\n",
      "[*********************100%***********************]  1 of 1 completed\n",
      "[*********************100%***********************]  1 of 1 completed\n",
      "[*********************100%***********************]  1 of 1 completed\n",
      "[*********************100%***********************]  1 of 1 completed\n"
     ]
    },
    {
     "data": {
      "text/html": [
       "<div>\n",
       "<style scoped>\n",
       "    .dataframe tbody tr th:only-of-type {\n",
       "        vertical-align: middle;\n",
       "    }\n",
       "\n",
       "    .dataframe tbody tr th {\n",
       "        vertical-align: top;\n",
       "    }\n",
       "\n",
       "    .dataframe thead th {\n",
       "        text-align: right;\n",
       "    }\n",
       "</style>\n",
       "<table border=\"1\" class=\"dataframe\">\n",
       "  <thead>\n",
       "    <tr style=\"text-align: right;\">\n",
       "      <th></th>\n",
       "      <th>Delivery Equity Beta</th>\n",
       "    </tr>\n",
       "  </thead>\n",
       "  <tbody>\n",
       "    <tr>\n",
       "      <th>DASH</th>\n",
       "      <td>1.732550</td>\n",
       "    </tr>\n",
       "    <tr>\n",
       "      <th>DROOF</th>\n",
       "      <td>0.570273</td>\n",
       "    </tr>\n",
       "    <tr>\n",
       "      <th>DLVHF</th>\n",
       "      <td>1.411151</td>\n",
       "    </tr>\n",
       "    <tr>\n",
       "      <th>HLFFF</th>\n",
       "      <td>0.813275</td>\n",
       "    </tr>\n",
       "    <tr>\n",
       "      <th>APRN</th>\n",
       "      <td>1.152158</td>\n",
       "    </tr>\n",
       "  </tbody>\n",
       "</table>\n",
       "</div>"
      ],
      "text/plain": [
       "       Delivery Equity Beta\n",
       "DASH               1.732550\n",
       "DROOF              0.570273\n",
       "DLVHF              1.411151\n",
       "HLFFF              0.813275\n",
       "APRN               1.152158"
      ]
     },
     "execution_count": 17,
     "metadata": {},
     "output_type": "execute_result"
    }
   ],
   "source": [
    "delivery_beta = pd.DataFrame()\n",
    "\n",
    "for ticker in delivery:\n",
    "    delivery_beta[ticker] = [beta(ticker, '2020-10-17', '2022-10-17', '1wk')]\n",
    "\n",
    "delivery_beta = delivery_beta.T\n",
    "delivery_beta.columns = ['Delivery Equity Beta']\n",
    "delivery_beta"
   ]
  },
  {
   "cell_type": "markdown",
   "id": "c7cf6ad1",
   "metadata": {},
   "source": [
    "### Freight Betas"
   ]
  },
  {
   "cell_type": "code",
   "execution_count": 18,
   "id": "b348a710",
   "metadata": {},
   "outputs": [
    {
     "name": "stdout",
     "output_type": "stream",
     "text": [
      "[*********************100%***********************]  1 of 1 completed\n",
      "[*********************100%***********************]  1 of 1 completed\n",
      "[*********************100%***********************]  1 of 1 completed\n",
      "[*********************100%***********************]  1 of 1 completed\n",
      "[*********************100%***********************]  1 of 1 completed\n",
      "[*********************100%***********************]  1 of 1 completed\n",
      "[*********************100%***********************]  1 of 1 completed\n"
     ]
    },
    {
     "data": {
      "text/html": [
       "<div>\n",
       "<style scoped>\n",
       "    .dataframe tbody tr th:only-of-type {\n",
       "        vertical-align: middle;\n",
       "    }\n",
       "\n",
       "    .dataframe tbody tr th {\n",
       "        vertical-align: top;\n",
       "    }\n",
       "\n",
       "    .dataframe thead th {\n",
       "        text-align: right;\n",
       "    }\n",
       "</style>\n",
       "<table border=\"1\" class=\"dataframe\">\n",
       "  <thead>\n",
       "    <tr style=\"text-align: right;\">\n",
       "      <th></th>\n",
       "      <th>Freight Equity Beta</th>\n",
       "    </tr>\n",
       "  </thead>\n",
       "  <tbody>\n",
       "    <tr>\n",
       "      <th>CHRW</th>\n",
       "      <td>0.803363</td>\n",
       "    </tr>\n",
       "    <tr>\n",
       "      <th>XPO</th>\n",
       "      <td>1.405871</td>\n",
       "    </tr>\n",
       "    <tr>\n",
       "      <th>DPSGY</th>\n",
       "      <td>1.003579</td>\n",
       "    </tr>\n",
       "    <tr>\n",
       "      <th>GXO</th>\n",
       "      <td>1.635069</td>\n",
       "    </tr>\n",
       "    <tr>\n",
       "      <th>JBHT</th>\n",
       "      <td>0.978679</td>\n",
       "    </tr>\n",
       "    <tr>\n",
       "      <th>HUBG</th>\n",
       "      <td>0.944203</td>\n",
       "    </tr>\n",
       "    <tr>\n",
       "      <th>LSTR</th>\n",
       "      <td>0.721047</td>\n",
       "    </tr>\n",
       "  </tbody>\n",
       "</table>\n",
       "</div>"
      ],
      "text/plain": [
       "       Freight Equity Beta\n",
       "CHRW              0.803363\n",
       "XPO               1.405871\n",
       "DPSGY             1.003579\n",
       "GXO               1.635069\n",
       "JBHT              0.978679\n",
       "HUBG              0.944203\n",
       "LSTR              0.721047"
      ]
     },
     "execution_count": 18,
     "metadata": {},
     "output_type": "execute_result"
    }
   ],
   "source": [
    "freight_beta = pd.DataFrame()\n",
    "\n",
    "for ticker in freight:\n",
    "    freight_beta[ticker] = [beta(ticker, '2020-10-17', '2022-10-17', '1wk')]\n",
    "\n",
    "freight_beta = freight_beta.T\n",
    "freight_beta.columns = ['Freight Equity Beta']\n",
    "freight_beta"
   ]
  },
  {
   "cell_type": "markdown",
   "id": "32ac8290",
   "metadata": {},
   "source": [
    "\n",
    "- then average the cash adj beta for each sector"
   ]
  },
  {
   "cell_type": "markdown",
   "id": "33430981",
   "metadata": {},
   "source": [
    "### Step 2: Unlever the Betas of the Comps (Assumption II) and Cash Adjust Them"
   ]
  },
  {
   "cell_type": "markdown",
   "id": "b9c88a3b",
   "metadata": {},
   "source": [
    "<table>\n",
    "<tr>\n",
    "<th colspan=4>Penny Stocks (Also < $3.00)</th>\n",
    "</tr>\n",
    "<tr>\n",
    "<th>Segment</th>\n",
    "<th>Ticker</th>\n",
    "<th>Company</th>\n",
    "<th>Price</th>\n",
    "</tr>\n",
    "<tr>\n",
    "<td>Delivery</td>\n",
    "<td>DROOF</td>\n",
    "<td>Deliveroo</td>\n",
    "<td>$1.00</td>\n",
    "</tr>\n",
    "<tr>\n",
    "<td>Delivery</td>\n",
    "<td>APRN</td>\n",
    "<td>Blue Apron</td>\n",
    "<td>$2.53</td>\n",
    "</tr>\n",
    "<tr>\n",
    "<td>Mobility</td>\n",
    "<td>DIDIY</td>\n",
    "<td>Didi Global</td>\n",
    "<td>$1.64</td>\n",
    "</tr>\n",
    "<tr>\n",
    "<td>Mobility</td>\n",
    "<td>GRAB</td>\n",
    "<td>Grab Holdings</td>\n",
    "<td>$2.40</td>\n",
    "</tr>\n",
    "<tr>\n",
    "<td>Mobility</td>\n",
    "<td>BRDS</td>\n",
    "<td>Bird Global</td>\n",
    "<td>$0.37</td>\n",
    "</tr>\n",
    "<tr>\n",
    "<td>Mobility</td>\n",
    "<td>HLBZ</td>\n",
    "<td>Helbiz</td>\n",
    "<td>$0.28</td>\n",
    "</tr>\n",
    "<tr>\n",
    "<td>Mobility</td>\n",
    "<td>NIU</td>\n",
    "<td>Niu Technologies</td>\n",
    "<td>$2.81</td>\n",
    "</tr>\n",
    "</table>"
   ]
  },
  {
   "cell_type": "code",
   "execution_count": 19,
   "id": "de4c2d9e",
   "metadata": {},
   "outputs": [],
   "source": [
    "# get the relevant information for 2021 for each ticker\n",
    "comp_2021 = comp_financials[['dltt', 'csho', 'prcc_c', 'che', 'fyear', 'tic', 'conm']].sort_values(by='fyear', ascending=False).drop_duplicates(subset='tic', keep='first')\n",
    "\n",
    "# Add in the Beta Debt, MV Equity, and D/E Ratio for each Comp as of 2021\n",
    "comp_2021['beta_debt'] = 0\n",
    "\n",
    "penny = ['DROOF', 'APRN', 'DIDIY', 'GRAB', 'BRDS', 'HLBZ', 'NIU']\n",
    "comp_2021.loc[comp_2021['tic'].isin(penny), 'beta_debt'] = 0.3\n",
    "\n",
    "comp_2021['mv_equity'] = comp_2021['csho'] * comp_2021['prcc_c']\n",
    "comp_2021['de_ratio'] = comp_2021['dltt'] / comp_2021['mv_equity']"
   ]
  },
  {
   "cell_type": "code",
   "execution_count": 20,
   "id": "7dd0a587",
   "metadata": {},
   "outputs": [
    {
     "data": {
      "text/html": [
       "<div>\n",
       "<style scoped>\n",
       "    .dataframe tbody tr th:only-of-type {\n",
       "        vertical-align: middle;\n",
       "    }\n",
       "\n",
       "    .dataframe tbody tr th {\n",
       "        vertical-align: top;\n",
       "    }\n",
       "\n",
       "    .dataframe thead th {\n",
       "        text-align: right;\n",
       "    }\n",
       "</style>\n",
       "<table border=\"1\" class=\"dataframe\">\n",
       "  <thead>\n",
       "    <tr style=\"text-align: right;\">\n",
       "      <th></th>\n",
       "      <th>dltt</th>\n",
       "      <th>csho</th>\n",
       "      <th>prcc_c</th>\n",
       "      <th>che</th>\n",
       "      <th>fyear</th>\n",
       "      <th>tic</th>\n",
       "      <th>conm</th>\n",
       "      <th>beta_debt</th>\n",
       "      <th>mv_equity</th>\n",
       "      <th>de_ratio</th>\n",
       "      <th>segment</th>\n",
       "      <th>beta_equity</th>\n",
       "      <th>beta_unlevered</th>\n",
       "      <th>cash_adj_beta</th>\n",
       "    </tr>\n",
       "  </thead>\n",
       "  <tbody>\n",
       "    <tr>\n",
       "      <th>26</th>\n",
       "      <td>18.057</td>\n",
       "      <td>30.515000</td>\n",
       "      <td>5.49</td>\n",
       "      <td>21.143</td>\n",
       "      <td>2021</td>\n",
       "      <td>HLBZ</td>\n",
       "      <td>HELBIZ INC</td>\n",
       "      <td>0.3</td>\n",
       "      <td>167.527350</td>\n",
       "      <td>0.107785</td>\n",
       "      <td>Mobility</td>\n",
       "      <td>1.420304</td>\n",
       "      <td>1.311301</td>\n",
       "      <td>1.479901</td>\n",
       "    </tr>\n",
       "    <tr>\n",
       "      <th>18</th>\n",
       "      <td>2.192</td>\n",
       "      <td>76.840000</td>\n",
       "      <td>16.11</td>\n",
       "      <td>204.908</td>\n",
       "      <td>2021</td>\n",
       "      <td>NIU</td>\n",
       "      <td>NIU TECHNOLOGIES -ADR</td>\n",
       "      <td>0.3</td>\n",
       "      <td>1237.892400</td>\n",
       "      <td>0.001771</td>\n",
       "      <td>Mobility</td>\n",
       "      <td>1.430427</td>\n",
       "      <td>1.428429</td>\n",
       "      <td>1.711180</td>\n",
       "    </tr>\n",
       "    <tr>\n",
       "      <th>51</th>\n",
       "      <td>23186.000</td>\n",
       "      <td>1232.450000</td>\n",
       "      <td>64.08</td>\n",
       "      <td>3531.000</td>\n",
       "      <td>2021</td>\n",
       "      <td>DPSGY</td>\n",
       "      <td>DHL</td>\n",
       "      <td>0.0</td>\n",
       "      <td>78975.396000</td>\n",
       "      <td>0.293585</td>\n",
       "      <td>Freight</td>\n",
       "      <td>1.003579</td>\n",
       "      <td>0.775812</td>\n",
       "      <td>0.803587</td>\n",
       "    </tr>\n",
       "    <tr>\n",
       "      <th>50</th>\n",
       "      <td>175.000</td>\n",
       "      <td>173.710000</td>\n",
       "      <td>19.05</td>\n",
       "      <td>467.200</td>\n",
       "      <td>2021</td>\n",
       "      <td>HLFFF</td>\n",
       "      <td>HELLO FRESH</td>\n",
       "      <td>0.0</td>\n",
       "      <td>3309.175500</td>\n",
       "      <td>0.052883</td>\n",
       "      <td>Delivery</td>\n",
       "      <td>0.813275</td>\n",
       "      <td>0.772426</td>\n",
       "      <td>0.892042</td>\n",
       "    </tr>\n",
       "    <tr>\n",
       "      <th>46</th>\n",
       "      <td>655.173</td>\n",
       "      <td>334.724000</td>\n",
       "      <td>42.73</td>\n",
       "      <td>457.325</td>\n",
       "      <td>2021</td>\n",
       "      <td>LYFT</td>\n",
       "      <td>LYFT</td>\n",
       "      <td>0.0</td>\n",
       "      <td>14302.756520</td>\n",
       "      <td>0.045807</td>\n",
       "      <td>Mobility</td>\n",
       "      <td>1.757576</td>\n",
       "      <td>1.680592</td>\n",
       "      <td>1.733595</td>\n",
       "    </tr>\n",
       "    <tr>\n",
       "      <th>45</th>\n",
       "      <td>118.100</td>\n",
       "      <td>1707.650646</td>\n",
       "      <td>2.81</td>\n",
       "      <td>1290.900</td>\n",
       "      <td>2021</td>\n",
       "      <td>DROOF</td>\n",
       "      <td>DELIVEROO</td>\n",
       "      <td>0.3</td>\n",
       "      <td>4798.498315</td>\n",
       "      <td>0.024612</td>\n",
       "      <td>Delivery</td>\n",
       "      <td>0.570273</td>\n",
       "      <td>0.563781</td>\n",
       "      <td>0.764510</td>\n",
       "    </tr>\n",
       "    <tr>\n",
       "      <th>44</th>\n",
       "      <td>11039.000</td>\n",
       "      <td>1949.316000</td>\n",
       "      <td>41.93</td>\n",
       "      <td>4926.000</td>\n",
       "      <td>2021</td>\n",
       "      <td>UBER</td>\n",
       "      <td>UBER TECHNOLOGIES INC</td>\n",
       "      <td>0.0</td>\n",
       "      <td>81734.819880</td>\n",
       "      <td>0.135059</td>\n",
       "      <td>NaN</td>\n",
       "      <td>0.000000</td>\n",
       "      <td>0.000000</td>\n",
       "      <td>0.000000</td>\n",
       "    </tr>\n",
       "    <tr>\n",
       "      <th>41</th>\n",
       "      <td>4266.000</td>\n",
       "      <td>114.737000</td>\n",
       "      <td>77.43</td>\n",
       "      <td>260.000</td>\n",
       "      <td>2021</td>\n",
       "      <td>XPO</td>\n",
       "      <td>XPO LOGISTICS INC</td>\n",
       "      <td>0.0</td>\n",
       "      <td>8884.085910</td>\n",
       "      <td>0.480184</td>\n",
       "      <td>Freight</td>\n",
       "      <td>1.405871</td>\n",
       "      <td>0.949794</td>\n",
       "      <td>0.968952</td>\n",
       "    </tr>\n",
       "    <tr>\n",
       "      <th>36</th>\n",
       "      <td>1635.018</td>\n",
       "      <td>129.186000</td>\n",
       "      <td>107.63</td>\n",
       "      <td>257.413</td>\n",
       "      <td>2021</td>\n",
       "      <td>CHRW</td>\n",
       "      <td>C H ROBINSON WORLDWIDE INC</td>\n",
       "      <td>0.0</td>\n",
       "      <td>13904.289180</td>\n",
       "      <td>0.117591</td>\n",
       "      <td>Freight</td>\n",
       "      <td>0.803363</td>\n",
       "      <td>0.718835</td>\n",
       "      <td>0.730943</td>\n",
       "    </tr>\n",
       "    <tr>\n",
       "      <th>31</th>\n",
       "      <td>212.395</td>\n",
       "      <td>34.570000</td>\n",
       "      <td>84.24</td>\n",
       "      <td>159.784</td>\n",
       "      <td>2021</td>\n",
       "      <td>HUBG</td>\n",
       "      <td>HUB GROUP INC  -CL A</td>\n",
       "      <td>0.0</td>\n",
       "      <td>2912.176800</td>\n",
       "      <td>0.072933</td>\n",
       "      <td>Freight</td>\n",
       "      <td>0.944203</td>\n",
       "      <td>0.880021</td>\n",
       "      <td>0.927448</td>\n",
       "    </tr>\n",
       "    <tr>\n",
       "      <th>25</th>\n",
       "      <td>2318.000</td>\n",
       "      <td>114.659000</td>\n",
       "      <td>90.83</td>\n",
       "      <td>333.000</td>\n",
       "      <td>2021</td>\n",
       "      <td>GXO</td>\n",
       "      <td>GXO LOGISTIC INC</td>\n",
       "      <td>0.0</td>\n",
       "      <td>10414.476970</td>\n",
       "      <td>0.222575</td>\n",
       "      <td>Freight</td>\n",
       "      <td>1.635069</td>\n",
       "      <td>1.337398</td>\n",
       "      <td>1.373315</td>\n",
       "    </tr>\n",
       "    <tr>\n",
       "      <th>24</th>\n",
       "      <td>367.773</td>\n",
       "      <td>4730.535000</td>\n",
       "      <td>4.98</td>\n",
       "      <td>9007.167</td>\n",
       "      <td>2021</td>\n",
       "      <td>DIDIY</td>\n",
       "      <td>DIDI GLOBAL INC</td>\n",
       "      <td>0.3</td>\n",
       "      <td>23558.064300</td>\n",
       "      <td>0.015611</td>\n",
       "      <td>Mobility</td>\n",
       "      <td>2.458666</td>\n",
       "      <td>2.425484</td>\n",
       "      <td>3.889874</td>\n",
       "    </tr>\n",
       "    <tr>\n",
       "      <th>23</th>\n",
       "      <td>0.000</td>\n",
       "      <td>272.624000</td>\n",
       "      <td>6.17</td>\n",
       "      <td>158.698</td>\n",
       "      <td>2021</td>\n",
       "      <td>BRDS</td>\n",
       "      <td>BIRD GLOBAL INC</td>\n",
       "      <td>0.3</td>\n",
       "      <td>1682.090080</td>\n",
       "      <td>0.000000</td>\n",
       "      <td>Mobility</td>\n",
       "      <td>0.775504</td>\n",
       "      <td>0.775504</td>\n",
       "      <td>0.856292</td>\n",
       "    </tr>\n",
       "    <tr>\n",
       "      <th>22</th>\n",
       "      <td>373.000</td>\n",
       "      <td>346.512000</td>\n",
       "      <td>148.90</td>\n",
       "      <td>3757.000</td>\n",
       "      <td>2021</td>\n",
       "      <td>DASH</td>\n",
       "      <td>DOORDASH INC</td>\n",
       "      <td>0.0</td>\n",
       "      <td>51595.636800</td>\n",
       "      <td>0.007229</td>\n",
       "      <td>Delivery</td>\n",
       "      <td>1.732550</td>\n",
       "      <td>1.720115</td>\n",
       "      <td>1.854159</td>\n",
       "    </tr>\n",
       "    <tr>\n",
       "      <th>20</th>\n",
       "      <td>2031.000</td>\n",
       "      <td>3709.528000</td>\n",
       "      <td>7.13</td>\n",
       "      <td>8231.000</td>\n",
       "      <td>2021</td>\n",
       "      <td>GRAB</td>\n",
       "      <td>GRAB HOLDINGS LIMITED</td>\n",
       "      <td>0.3</td>\n",
       "      <td>26448.934640</td>\n",
       "      <td>0.076789</td>\n",
       "      <td>Mobility</td>\n",
       "      <td>1.293262</td>\n",
       "      <td>1.222430</td>\n",
       "      <td>1.719336</td>\n",
       "    </tr>\n",
       "    <tr>\n",
       "      <th>53</th>\n",
       "      <td>5458.100</td>\n",
       "      <td>245.848000</td>\n",
       "      <td>11.32</td>\n",
       "      <td>2413.700</td>\n",
       "      <td>2021</td>\n",
       "      <td>DLVHF</td>\n",
       "      <td>DELIVERY HERO</td>\n",
       "      <td>0.0</td>\n",
       "      <td>2782.999360</td>\n",
       "      <td>1.961229</td>\n",
       "      <td>Delivery</td>\n",
       "      <td>1.411151</td>\n",
       "      <td>0.476542</td>\n",
       "      <td>0.673925</td>\n",
       "    </tr>\n",
       "    <tr>\n",
       "      <th>4</th>\n",
       "      <td>1069.357</td>\n",
       "      <td>105.094000</td>\n",
       "      <td>204.40</td>\n",
       "      <td>355.549</td>\n",
       "      <td>2021</td>\n",
       "      <td>JBHT</td>\n",
       "      <td>HUNT (JB) TRANSPRT SVCS INC</td>\n",
       "      <td>0.0</td>\n",
       "      <td>21481.213600</td>\n",
       "      <td>0.049781</td>\n",
       "      <td>Freight</td>\n",
       "      <td>0.978679</td>\n",
       "      <td>0.932270</td>\n",
       "      <td>0.947204</td>\n",
       "    </tr>\n",
       "    <tr>\n",
       "      <th>14</th>\n",
       "      <td>61.777</td>\n",
       "      <td>31.694000</td>\n",
       "      <td>6.73</td>\n",
       "      <td>82.768</td>\n",
       "      <td>2021</td>\n",
       "      <td>APRN</td>\n",
       "      <td>BLUE APRON HOLDNG INC</td>\n",
       "      <td>0.3</td>\n",
       "      <td>213.300620</td>\n",
       "      <td>0.289624</td>\n",
       "      <td>Delivery</td>\n",
       "      <td>1.152158</td>\n",
       "      <td>0.960780</td>\n",
       "      <td>1.374290</td>\n",
       "    </tr>\n",
       "    <tr>\n",
       "      <th>9</th>\n",
       "      <td>76.547</td>\n",
       "      <td>37.694000</td>\n",
       "      <td>179.02</td>\n",
       "      <td>251.300</td>\n",
       "      <td>2021</td>\n",
       "      <td>LSTR</td>\n",
       "      <td>LANDSTAR SYSTEM INC</td>\n",
       "      <td>0.0</td>\n",
       "      <td>6747.979880</td>\n",
       "      <td>0.011344</td>\n",
       "      <td>Freight</td>\n",
       "      <td>0.721047</td>\n",
       "      <td>0.712959</td>\n",
       "      <td>0.740216</td>\n",
       "    </tr>\n",
       "  </tbody>\n",
       "</table>\n",
       "</div>"
      ],
      "text/plain": [
       "         dltt         csho  prcc_c       che  fyear    tic  \\\n",
       "26     18.057    30.515000    5.49    21.143   2021   HLBZ   \n",
       "18      2.192    76.840000   16.11   204.908   2021    NIU   \n",
       "51  23186.000  1232.450000   64.08  3531.000   2021  DPSGY   \n",
       "50    175.000   173.710000   19.05   467.200   2021  HLFFF   \n",
       "46    655.173   334.724000   42.73   457.325   2021   LYFT   \n",
       "45    118.100  1707.650646    2.81  1290.900   2021  DROOF   \n",
       "44  11039.000  1949.316000   41.93  4926.000   2021   UBER   \n",
       "41   4266.000   114.737000   77.43   260.000   2021    XPO   \n",
       "36   1635.018   129.186000  107.63   257.413   2021   CHRW   \n",
       "31    212.395    34.570000   84.24   159.784   2021   HUBG   \n",
       "25   2318.000   114.659000   90.83   333.000   2021    GXO   \n",
       "24    367.773  4730.535000    4.98  9007.167   2021  DIDIY   \n",
       "23      0.000   272.624000    6.17   158.698   2021   BRDS   \n",
       "22    373.000   346.512000  148.90  3757.000   2021   DASH   \n",
       "20   2031.000  3709.528000    7.13  8231.000   2021   GRAB   \n",
       "53   5458.100   245.848000   11.32  2413.700   2021  DLVHF   \n",
       "4    1069.357   105.094000  204.40   355.549   2021   JBHT   \n",
       "14     61.777    31.694000    6.73    82.768   2021   APRN   \n",
       "9      76.547    37.694000  179.02   251.300   2021   LSTR   \n",
       "\n",
       "                           conm  beta_debt     mv_equity  de_ratio   segment  \\\n",
       "26                   HELBIZ INC        0.3    167.527350  0.107785  Mobility   \n",
       "18        NIU TECHNOLOGIES -ADR        0.3   1237.892400  0.001771  Mobility   \n",
       "51                          DHL        0.0  78975.396000  0.293585   Freight   \n",
       "50                  HELLO FRESH        0.0   3309.175500  0.052883  Delivery   \n",
       "46                         LYFT        0.0  14302.756520  0.045807  Mobility   \n",
       "45                    DELIVEROO        0.3   4798.498315  0.024612  Delivery   \n",
       "44        UBER TECHNOLOGIES INC        0.0  81734.819880  0.135059       NaN   \n",
       "41            XPO LOGISTICS INC        0.0   8884.085910  0.480184   Freight   \n",
       "36   C H ROBINSON WORLDWIDE INC        0.0  13904.289180  0.117591   Freight   \n",
       "31         HUB GROUP INC  -CL A        0.0   2912.176800  0.072933   Freight   \n",
       "25             GXO LOGISTIC INC        0.0  10414.476970  0.222575   Freight   \n",
       "24              DIDI GLOBAL INC        0.3  23558.064300  0.015611  Mobility   \n",
       "23              BIRD GLOBAL INC        0.3   1682.090080  0.000000  Mobility   \n",
       "22                 DOORDASH INC        0.0  51595.636800  0.007229  Delivery   \n",
       "20        GRAB HOLDINGS LIMITED        0.3  26448.934640  0.076789  Mobility   \n",
       "53                DELIVERY HERO        0.0   2782.999360  1.961229  Delivery   \n",
       "4   HUNT (JB) TRANSPRT SVCS INC        0.0  21481.213600  0.049781   Freight   \n",
       "14        BLUE APRON HOLDNG INC        0.3    213.300620  0.289624  Delivery   \n",
       "9           LANDSTAR SYSTEM INC        0.0   6747.979880  0.011344   Freight   \n",
       "\n",
       "    beta_equity  beta_unlevered  cash_adj_beta  \n",
       "26     1.420304        1.311301       1.479901  \n",
       "18     1.430427        1.428429       1.711180  \n",
       "51     1.003579        0.775812       0.803587  \n",
       "50     0.813275        0.772426       0.892042  \n",
       "46     1.757576        1.680592       1.733595  \n",
       "45     0.570273        0.563781       0.764510  \n",
       "44     0.000000        0.000000       0.000000  \n",
       "41     1.405871        0.949794       0.968952  \n",
       "36     0.803363        0.718835       0.730943  \n",
       "31     0.944203        0.880021       0.927448  \n",
       "25     1.635069        1.337398       1.373315  \n",
       "24     2.458666        2.425484       3.889874  \n",
       "23     0.775504        0.775504       0.856292  \n",
       "22     1.732550        1.720115       1.854159  \n",
       "20     1.293262        1.222430       1.719336  \n",
       "53     1.411151        0.476542       0.673925  \n",
       "4      0.978679        0.932270       0.947204  \n",
       "14     1.152158        0.960780       1.374290  \n",
       "9      0.721047        0.712959       0.740216  "
      ]
     },
     "execution_count": 20,
     "metadata": {},
     "output_type": "execute_result"
    }
   ],
   "source": [
    "# Compute the Unlevered Beta and Cash Adjusted Beta for each Comp\n",
    "\n",
    "for index, row in comp_2021.iterrows():\n",
    "    tic = row['tic']\n",
    "    if tic in mobility:\n",
    "        beta_equity = mobility_beta.loc[tic, 'Mobility Equity Beta']\n",
    "        comp_2021.loc[index, 'segment'] = 'Mobility'\n",
    "    elif tic in delivery:\n",
    "        beta_equity = delivery_beta.loc[tic, 'Delivery Equity Beta']\n",
    "        comp_2021.loc[index, 'segment'] = 'Delivery'\n",
    "    elif tic in freight:\n",
    "        beta_equity = freight_beta.loc[tic, 'Freight Equity Beta']\n",
    "        comp_2021.loc[index, 'segment'] = 'Freight'\n",
    "    else:\n",
    "        beta_equity = 0\n",
    "        #comp_2021.loc[index, 'segment'] = 'Uber'\n",
    "    comp_2021.loc[index, 'beta_equity'] = beta_equity\n",
    "\n",
    "comp_2021['beta_unlevered'] = (comp_2021['beta_equity'] / (1 + comp_2021['de_ratio'])) + ((comp_2021['de_ratio'] * comp_2021['beta_debt']) / (1 + comp_2021['de_ratio']))\n",
    "comp_2021['cash_adj_beta'] = comp_2021['beta_unlevered'] / (1 - ((comp_2021['che']) / (comp_2021['dltt'] + comp_2021['mv_equity'])))\n",
    "\n",
    "comp_2021.head(20)\n"
   ]
  },
  {
   "cell_type": "markdown",
   "id": "468dff51",
   "metadata": {},
   "source": [
    "### Step 3: Get the Average Unlevered/Cash Adjusted Beta for Each Sector"
   ]
  },
  {
   "cell_type": "code",
   "execution_count": 21,
   "id": "372ced55",
   "metadata": {},
   "outputs": [
    {
     "data": {
      "text/plain": [
       "segment\n",
       "Delivery    1.111785\n",
       "Freight     0.927381\n",
       "Mobility    1.898363\n",
       "Name: cash_adj_beta, dtype: float64"
      ]
     },
     "execution_count": 21,
     "metadata": {},
     "output_type": "execute_result"
    }
   ],
   "source": [
    "# get the average cash adjusted beta for each segment\n",
    "average_unlevered = comp_2021.groupby('segment')['cash_adj_beta'].mean()\n",
    "average_unlevered"
   ]
  },
  {
   "cell_type": "markdown",
   "id": "ee16b9ba",
   "metadata": {},
   "source": [
    "### Step 4: Uber Analysis with Comps"
   ]
  },
  {
   "cell_type": "markdown",
   "id": "d49ebc6c",
   "metadata": {},
   "source": [
    "##### Segment Multipliers (EV/Sales Sourced from Revenue Multiples by Sector (US) - Stern)\n",
    "- Delivery: Software (System & Application) (12.84)\n",
    "- Freight: Transportation (1.52)\n",
    "- Mobility: Software (System & Application) (12.84)"
   ]
  },
  {
   "cell_type": "code",
   "execution_count": 22,
   "id": "a3a53f62",
   "metadata": {},
   "outputs": [],
   "source": [
    "# Uber Revenue by Segment\n",
    "uber_revenue = [8632000000, 2132000000, 6953000000]\n",
    "\n",
    "# Uber Multipliers by Segment\n",
    "segment_multipliers = [12.84, 1.52, 12.84]"
   ]
  },
  {
   "cell_type": "code",
   "execution_count": 23,
   "id": "6e43529a",
   "metadata": {},
   "outputs": [
    {
     "data": {
      "text/html": [
       "<div>\n",
       "<style scoped>\n",
       "    .dataframe tbody tr th:only-of-type {\n",
       "        vertical-align: middle;\n",
       "    }\n",
       "\n",
       "    .dataframe tbody tr th {\n",
       "        vertical-align: top;\n",
       "    }\n",
       "\n",
       "    .dataframe thead th {\n",
       "        text-align: right;\n",
       "    }\n",
       "</style>\n",
       "<table border=\"1\" class=\"dataframe\">\n",
       "  <thead>\n",
       "    <tr style=\"text-align: right;\">\n",
       "      <th></th>\n",
       "      <th>Multiplier</th>\n",
       "      <th>Revenue</th>\n",
       "      <th>Implied Enterprise Value</th>\n",
       "      <th>Segment Weight</th>\n",
       "      <th>Unlevered Beta</th>\n",
       "      <th>Weighted Beta Component</th>\n",
       "    </tr>\n",
       "  </thead>\n",
       "  <tbody>\n",
       "    <tr>\n",
       "      <th>0</th>\n",
       "      <td>12.84</td>\n",
       "      <td>8632000000</td>\n",
       "      <td>1.108349e+11</td>\n",
       "      <td>0.545039</td>\n",
       "      <td>1.111785</td>\n",
       "      <td>0.605967</td>\n",
       "    </tr>\n",
       "    <tr>\n",
       "      <th>1</th>\n",
       "      <td>1.52</td>\n",
       "      <td>2132000000</td>\n",
       "      <td>3.240640e+09</td>\n",
       "      <td>0.015936</td>\n",
       "      <td>0.927381</td>\n",
       "      <td>0.014779</td>\n",
       "    </tr>\n",
       "    <tr>\n",
       "      <th>2</th>\n",
       "      <td>12.84</td>\n",
       "      <td>6953000000</td>\n",
       "      <td>8.927652e+10</td>\n",
       "      <td>0.439024</td>\n",
       "      <td>1.898363</td>\n",
       "      <td>0.833428</td>\n",
       "    </tr>\n",
       "  </tbody>\n",
       "</table>\n",
       "</div>"
      ],
      "text/plain": [
       "   Multiplier     Revenue  Implied Enterprise Value  Segment Weight  \\\n",
       "0       12.84  8632000000              1.108349e+11        0.545039   \n",
       "1        1.52  2132000000              3.240640e+09        0.015936   \n",
       "2       12.84  6953000000              8.927652e+10        0.439024   \n",
       "\n",
       "   Unlevered Beta  Weighted Beta Component  \n",
       "0        1.111785                 0.605967  \n",
       "1        0.927381                 0.014779  \n",
       "2        1.898363                 0.833428  "
      ]
     },
     "execution_count": 23,
     "metadata": {},
     "output_type": "execute_result"
    }
   ],
   "source": [
    "final_df = pd.DataFrame()\n",
    "final_df['Multiplier'] = segment_multipliers\n",
    "final_df['Revenue'] = uber_revenue\n",
    "final_df['Implied Enterprise Value'] = final_df['Multiplier'] * final_df['Revenue']\n",
    "final_df['Segment Weight'] = final_df[\"Implied Enterprise Value\"] / final_df[\"Implied Enterprise Value\"].sum()\n",
    "final_df['Unlevered Beta'] = average_unlevered.values\n",
    "final_df['Weighted Beta Component'] = final_df['Segment Weight'] * final_df['Unlevered Beta']\n",
    "\n",
    "final_df"
   ]
  },
  {
   "cell_type": "markdown",
   "id": "f25e61f0",
   "metadata": {},
   "source": [
    "##### Get the Unlevered Beta for Uber"
   ]
  },
  {
   "cell_type": "code",
   "execution_count": 24,
   "id": "65972eed",
   "metadata": {},
   "outputs": [
    {
     "data": {
      "text/plain": [
       "1.4541732798382645"
      ]
     },
     "execution_count": 24,
     "metadata": {},
     "output_type": "execute_result"
    }
   ],
   "source": [
    "uber_unlevered_beta_cashadj = final_df['Weighted Beta Component'].sum()\n",
    "uber_unlevered_beta_cashadj"
   ]
  },
  {
   "cell_type": "markdown",
   "id": "8cef6683",
   "metadata": {},
   "source": [
    "##### Undo Cash Adjustment of Uber's Unlevered Beta"
   ]
  },
  {
   "cell_type": "code",
   "execution_count": 25,
   "id": "0e9db5ba",
   "metadata": {},
   "outputs": [
    {
     "data": {
      "text/plain": [
       "1.376961221676288"
      ]
     },
     "execution_count": 25,
     "metadata": {},
     "output_type": "execute_result"
    }
   ],
   "source": [
    "#get just uber row from comp_2021\n",
    "uber = comp_2021[comp_2021['tic'] == 'UBER']\n",
    "uber_unlevered_beta = uber_unlevered_beta_cashadj * (1 - ((uber['che']) / (uber['dltt'] + uber['mv_equity'])))\n",
    "uber_unlevered_beta = uber_unlevered_beta.values[0]\n",
    "uber_unlevered_beta"
   ]
  },
  {
   "cell_type": "markdown",
   "id": "06d82d12",
   "metadata": {},
   "source": [
    "##### Relever Uber's Beta to Get Final Equity Beta (Assumption II)"
   ]
  },
  {
   "cell_type": "code",
   "execution_count": 26,
   "id": "dabef7d4",
   "metadata": {},
   "outputs": [
    {
     "data": {
      "text/plain": [
       "1.5629318391976947"
      ]
     },
     "execution_count": 26,
     "metadata": {},
     "output_type": "execute_result"
    }
   ],
   "source": [
    "levered_beta = uber_unlevered_beta * (1 + uber['de_ratio'])\n",
    "levered_beta = levered_beta.values[0]\n",
    "levered_beta"
   ]
  }
 ],
 "metadata": {
  "kernelspec": {
   "display_name": "Python 3.8.3 ('base')",
   "language": "python",
   "name": "python3"
  },
  "language_info": {
   "codemirror_mode": {
    "name": "ipython",
    "version": 3
   },
   "file_extension": ".py",
   "mimetype": "text/x-python",
   "name": "python",
   "nbconvert_exporter": "python",
   "pygments_lexer": "ipython3",
   "version": "3.8.3"
  },
  "vscode": {
   "interpreter": {
    "hash": "8fda165f50e76d432f6ed799118bc9dab23fa79194393d6371ca86a52c69e7ca"
   }
  }
 },
 "nbformat": 4,
 "nbformat_minor": 5
}
