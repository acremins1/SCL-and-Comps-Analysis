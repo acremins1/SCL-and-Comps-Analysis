{
 "cells": [
  {
   "cell_type": "markdown",
   "id": "3504332f",
   "metadata": {},
   "source": [
    "# Uber: Estimating Beta (SCL vs. Comparables)"
   ]
  },
  {
   "cell_type": "markdown",
   "id": "2eb91fc2",
   "metadata": {},
   "source": [
    "#### Aidan Cremins, Peyton Lewis, Joe Morris, Amrit Sandhu"
   ]
  },
  {
   "cell_type": "markdown",
   "id": "e2e18ea3",
   "metadata": {},
   "source": [
    "## Part I: SCL Analysis"
   ]
  },
  {
   "cell_type": "markdown",
   "id": "0bf6e737",
   "metadata": {},
   "source": [
    "### Necessary Imports"
   ]
  },
  {
   "cell_type": "code",
   "execution_count": 63,
   "id": "e0f4bcc7",
   "metadata": {},
   "outputs": [],
   "source": [
    "import pandas as pd\n",
    "import numpy as np\n",
    "import statsmodels.api as sm\n",
    "import matplotlib.pyplot as plt\n",
    "import yfinance as yf\n",
    "\n",
    "import warnings\n",
    "warnings.filterwarnings('ignore')"
   ]
  },
  {
   "cell_type": "markdown",
   "id": "3c5e482f",
   "metadata": {},
   "source": [
    "### Assumptions"
   ]
  },
  {
   "cell_type": "markdown",
   "id": "5b2f3739",
   "metadata": {},
   "source": [
    "<li>Granularity: Weekly<br>\n",
    "<li>Timeframe: Two years<br>\n",
    "<li>Risk Free Rate: 0% (Performing Historical SCL Analysis)\n",
    "<li>Regression Assumptions: Normality, Homoscedasticity, No Autocorrelation, No Multicollinearity, Linear Relationship"
   ]
  },
  {
   "cell_type": "markdown",
   "id": "6da0e67d",
   "metadata": {},
   "source": [
    "### Read in Data"
   ]
  },
  {
   "cell_type": "code",
   "execution_count": 64,
   "id": "401df7e4",
   "metadata": {},
   "outputs": [
    {
     "data": {
      "text/html": [
       "<div>\n",
       "<style scoped>\n",
       "    .dataframe tbody tr th:only-of-type {\n",
       "        vertical-align: middle;\n",
       "    }\n",
       "\n",
       "    .dataframe tbody tr th {\n",
       "        vertical-align: top;\n",
       "    }\n",
       "\n",
       "    .dataframe thead th {\n",
       "        text-align: right;\n",
       "    }\n",
       "</style>\n",
       "<table border=\"1\" class=\"dataframe\">\n",
       "  <thead>\n",
       "    <tr style=\"text-align: right;\">\n",
       "      <th></th>\n",
       "      <th>Adj_Close_Uber</th>\n",
       "      <th>Adj_Close_Market</th>\n",
       "      <th>rf_rate</th>\n",
       "      <th>Market Risk Premium</th>\n",
       "      <th>Uber Risk Premium</th>\n",
       "    </tr>\n",
       "  </thead>\n",
       "  <tbody>\n",
       "    <tr>\n",
       "      <th>0</th>\n",
       "      <td>33.720001</td>\n",
       "      <td>337.360901</td>\n",
       "      <td>0</td>\n",
       "      <td>0.000000</td>\n",
       "      <td>0.000000</td>\n",
       "    </tr>\n",
       "    <tr>\n",
       "      <th>1</th>\n",
       "      <td>36.750000</td>\n",
       "      <td>335.894012</td>\n",
       "      <td>0</td>\n",
       "      <td>-0.004348</td>\n",
       "      <td>0.089858</td>\n",
       "    </tr>\n",
       "    <tr>\n",
       "      <th>2</th>\n",
       "      <td>33.410000</td>\n",
       "      <td>317.204102</td>\n",
       "      <td>0</td>\n",
       "      <td>-0.055642</td>\n",
       "      <td>-0.090884</td>\n",
       "    </tr>\n",
       "    <tr>\n",
       "      <th>3</th>\n",
       "      <td>44.869999</td>\n",
       "      <td>340.148834</td>\n",
       "      <td>0</td>\n",
       "      <td>0.072334</td>\n",
       "      <td>0.343011</td>\n",
       "    </tr>\n",
       "    <tr>\n",
       "      <th>4</th>\n",
       "      <td>47.610001</td>\n",
       "      <td>347.861816</td>\n",
       "      <td>0</td>\n",
       "      <td>0.022675</td>\n",
       "      <td>0.061065</td>\n",
       "    </tr>\n",
       "    <tr>\n",
       "      <th>...</th>\n",
       "      <td>...</td>\n",
       "      <td>...</td>\n",
       "      <td>...</td>\n",
       "      <td>...</td>\n",
       "      <td>...</td>\n",
       "    </tr>\n",
       "    <tr>\n",
       "      <th>101</th>\n",
       "      <td>27.820000</td>\n",
       "      <td>367.950012</td>\n",
       "      <td>0</td>\n",
       "      <td>-0.041754</td>\n",
       "      <td>-0.128719</td>\n",
       "    </tr>\n",
       "    <tr>\n",
       "      <th>102</th>\n",
       "      <td>26.500000</td>\n",
       "      <td>357.179993</td>\n",
       "      <td>0</td>\n",
       "      <td>-0.029270</td>\n",
       "      <td>-0.047448</td>\n",
       "    </tr>\n",
       "    <tr>\n",
       "      <th>103</th>\n",
       "      <td>28.070000</td>\n",
       "      <td>362.790009</td>\n",
       "      <td>0</td>\n",
       "      <td>0.015706</td>\n",
       "      <td>0.059245</td>\n",
       "    </tr>\n",
       "    <tr>\n",
       "      <th>104</th>\n",
       "      <td>24.709999</td>\n",
       "      <td>357.630005</td>\n",
       "      <td>0</td>\n",
       "      <td>-0.014223</td>\n",
       "      <td>-0.119701</td>\n",
       "    </tr>\n",
       "    <tr>\n",
       "      <th>105</th>\n",
       "      <td>28.020000</td>\n",
       "      <td>374.290009</td>\n",
       "      <td>0</td>\n",
       "      <td>0.046584</td>\n",
       "      <td>0.133954</td>\n",
       "    </tr>\n",
       "  </tbody>\n",
       "</table>\n",
       "<p>106 rows × 5 columns</p>\n",
       "</div>"
      ],
      "text/plain": [
       "     Adj_Close_Uber  Adj_Close_Market  rf_rate  Market Risk Premium  \\\n",
       "0         33.720001        337.360901        0             0.000000   \n",
       "1         36.750000        335.894012        0            -0.004348   \n",
       "2         33.410000        317.204102        0            -0.055642   \n",
       "3         44.869999        340.148834        0             0.072334   \n",
       "4         47.610001        347.861816        0             0.022675   \n",
       "..              ...               ...      ...                  ...   \n",
       "101       27.820000        367.950012        0            -0.041754   \n",
       "102       26.500000        357.179993        0            -0.029270   \n",
       "103       28.070000        362.790009        0             0.015706   \n",
       "104       24.709999        357.630005        0            -0.014223   \n",
       "105       28.020000        374.290009        0             0.046584   \n",
       "\n",
       "     Uber Risk Premium  \n",
       "0             0.000000  \n",
       "1             0.089858  \n",
       "2            -0.090884  \n",
       "3             0.343011  \n",
       "4             0.061065  \n",
       "..                 ...  \n",
       "101          -0.128719  \n",
       "102          -0.047448  \n",
       "103           0.059245  \n",
       "104          -0.119701  \n",
       "105           0.133954  \n",
       "\n",
       "[106 rows x 5 columns]"
      ]
     },
     "execution_count": 64,
     "metadata": {},
     "output_type": "execute_result"
    }
   ],
   "source": [
    "uber_data = pd.read_csv('UBER.csv')\n",
    "uber_data['Market Risk Premium'] = uber_data['Adj_Close_Market'].pct_change(1) - uber_data['rf_rate']\n",
    "uber_data['Uber Risk Premium'] = uber_data['Adj_Close_Uber'].pct_change(1) - uber_data['rf_rate']\n",
    "uber_data = uber_data.fillna(0)\n",
    "uber_data = uber_data.drop(['URP', 'MRP'], axis=1)\n",
    "uber_data"
   ]
  },
  {
   "cell_type": "code",
   "execution_count": 65,
   "id": "c6e86858",
   "metadata": {},
   "outputs": [
    {
     "name": "stdout",
     "output_type": "stream",
     "text": [
      "                            OLS Regression Results                            \n",
      "==============================================================================\n",
      "Dep. Variable:      Uber Risk Premium   R-squared:                       0.268\n",
      "Model:                            OLS   Adj. R-squared:                  0.261\n",
      "Method:                 Least Squares   F-statistic:                     37.67\n",
      "Date:                Thu, 27 Oct 2022   Prob (F-statistic):           1.58e-08\n",
      "Time:                        19:39:46   Log-Likelihood:                 130.63\n",
      "No. Observations:                 105   AIC:                            -257.3\n",
      "Df Residuals:                     103   BIC:                            -252.0\n",
      "Df Model:                           1                                         \n",
      "Covariance Type:            nonrobust                                         \n",
      "=======================================================================================\n",
      "                          coef    std err          t      P>|t|      [0.025      0.975]\n",
      "---------------------------------------------------------------------------------------\n",
      "const                  -0.0008      0.007     -0.111      0.911      -0.014       0.013\n",
      "Market Risk Premium     1.6104      0.262      6.138      0.000       1.090       2.131\n",
      "==============================================================================\n",
      "Omnibus:                       47.486   Durbin-Watson:                   2.159\n",
      "Prob(Omnibus):                  0.000   Jarque-Bera (JB):              208.980\n",
      "Skew:                           1.422   Prob(JB):                     4.17e-46\n",
      "Kurtosis:                       9.299   Cond. No.                         38.2\n",
      "==============================================================================\n",
      "\n",
      "Notes:\n",
      "[1] Standard Errors assume that the covariance matrix of the errors is correctly specified.\n"
     ]
    }
   ],
   "source": [
    "#define independent and dependent variables\n",
    "y = uber_data['Uber Risk Premium'].iloc[1:]\n",
    "x = uber_data['Market Risk Premium'].iloc[1:]\n",
    "\n",
    "#add constant\n",
    "x = sm.add_constant(x)\n",
    "\n",
    "#fit linear regression model\n",
    "model = sm.OLS(y, x).fit()\n",
    "\n",
    "print(model.summary())"
   ]
  },
  {
   "cell_type": "markdown",
   "id": "d30c9319",
   "metadata": {},
   "source": [
    "### Beta Analysis"
   ]
  },
  {
   "cell_type": "code",
   "execution_count": 66,
   "id": "955714a2",
   "metadata": {},
   "outputs": [
    {
     "name": "stdout",
     "output_type": "stream",
     "text": [
      "Uber Beta:  1.610413296029547\n",
      "Uber T-stat (Null of 0):  6.137693569814905\n",
      "Uber SE of Beta Estimate:  0.2623808565402382\n"
     ]
    }
   ],
   "source": [
    "uber_beta = model.params[1]\n",
    "uber_tstat_0 = model.tvalues[1]\n",
    "uber_se = model.bse[1]\n",
    "\n",
    "print('Uber Beta: ', uber_beta)\n",
    "print('Uber T-stat (Null of 0): ', uber_tstat_0)\n",
    "print('Uber SE of Beta Estimate: ', uber_se)"
   ]
  },
  {
   "cell_type": "markdown",
   "id": "ce48ce52",
   "metadata": {},
   "source": [
    "To test whether the coeffient is statistically signicantly different from the market's Beta of 1, we run a Hypothesis Test with the null hypothesis that Uber's Beta is equal to 1."
   ]
  },
  {
   "cell_type": "code",
   "execution_count": 67,
   "id": "5085fb6d",
   "metadata": {},
   "outputs": [
    {
     "name": "stdout",
     "output_type": "stream",
     "text": [
      "Uber T-stat (Null of 1):  2.3264399090637746\n"
     ]
    }
   ],
   "source": [
    "uber_t_stat = (uber_beta - 1) / uber_se\n",
    "print('Uber T-stat (Null of 1): ', uber_t_stat)"
   ]
  },
  {
   "cell_type": "markdown",
   "id": "a4bc37f6",
   "metadata": {},
   "source": [
    "Because the relevant t statisitc is 2.326 and there are enough data points (n = 105) to assume that the Student T Distribution is well-approximated by the Normal curve, a critical t value of 1.96 is used. This indicates that Uber's Beta is statisically different from the market Beta of 1 and therefore carries more risk than a well diversified portfolio."
   ]
  },
  {
   "cell_type": "markdown",
   "id": "43dbfb20",
   "metadata": {},
   "source": [
    "### Confidence Interval of Beta"
   ]
  },
  {
   "cell_type": "code",
   "execution_count": 68,
   "id": "73e7cae3",
   "metadata": {},
   "outputs": [
    {
     "name": "stdout",
     "output_type": "stream",
     "text": [
      "95% Confidence Interval: [1.0961, 2.1247]\n"
     ]
    }
   ],
   "source": [
    "lower_bound = uber_beta - 1.96 * uber_se\n",
    "upper_bound = uber_beta + 1.96 * uber_se\n",
    "print('95% Confidence Interval: [{:.4f}, {:.4f}]'.format(lower_bound, upper_bound))"
   ]
  },
  {
   "cell_type": "markdown",
   "id": "a2fb21d3",
   "metadata": {},
   "source": [
    "When computing the upper and lower bound on the Beta estimate for Uber using the critical t-value of 1.96, the bound is found to be (1.096, 2.125), which differs slightly from the OLS output, which interpolated the exact critical t-statistic using the sample size (instead of approximating with the Normal curve). This 95% confidence interval was computed by taking the product of the critical t-value of 1.96 and the standard error of the Beta estimate of 0.262 and adding and subtracting it from the Beta estimate of 1.610 (Confidence interval = Beta +- t_critical * standard error of Beta). The critical t value of 1.96 is used because in a normal distribution, 95% of the area under the curve is contained within 1.96 standard deviations on either side of the mean. This will allow us to obtain a 95% confidence interval on our Beta estimate for Uber. <br><br>\n",
    "This interval, centered at the Beta estimate for Uber, indicates that if this process were repeated many times, 95% of the generated estimates for Uber's Beta would fall within this interval. This Beta was computed using weekly returns for two years. This level of granularity provides a sample size of 105 data points, which would lead to a much tighter interval around Beta than 2 years of monthly returns, for example. This is a function of the sample size, because as sample size increases, the standard error of the Beta estimate decreases, and its corresponding confidence interval will tighten as well."
   ]
  },
  {
   "cell_type": "markdown",
   "id": "91c841e1",
   "metadata": {},
   "source": [
    "### Security Characteristic Line"
   ]
  },
  {
   "cell_type": "code",
   "execution_count": 69,
   "id": "c849cd73",
   "metadata": {},
   "outputs": [
    {
     "data": {
      "image/png": "[encoded data removed]",
      "text/plain": [
       "<Figure size 864x576 with 1 Axes>"
      ]
     },
     "metadata": {},
     "output_type": "display_data"
    }
   ],
   "source": [
    "x = uber_data['Market Risk Premium']\n",
    "y_actual = uber_data['Uber Risk Premium']\n",
    "    \n",
    "x_all = np.linspace(-4, 4, 100)\n",
    "y = model.params['const'] + model.params['Market Risk Premium'] * x_all\n",
    "\n",
    "\n",
    "x_range = max(abs(max(x)), abs(min(x))) + max(abs(max(x)), abs(min(x))) * .1\n",
    "y_range = max(abs(max(y_actual)), abs(min(y_actual))) + max(abs(max(y_actual)), abs(min(y_actual))) * .1\n",
    "max_range = max(x_range, y_range)\n",
    "\n",
    "plt.style.use('dark_background')\n",
    "fig = plt.figure(figsize=(12,8))\n",
    "ax = fig.add_subplot(1, 1, 1)\n",
    "ax.spines['left'].set_position('zero')\n",
    "ax.spines['bottom'].set_position('zero')\n",
    "ax.spines['right'].set_position('zero')\n",
    "ax.spines['top'].set_position('zero')\n",
    "ax.yaxis.set_label_coords(.53, 1)\n",
    "ax.xaxis.set_label_coords(1, .53)\n",
    "plt.scatter(x=x, y=y_actual, label='Returns', color='cyan')\n",
    "plt.plot(x_all, y, color='red', linewidth=2, \\\n",
    "    label='y={:.2f}x+{:.2f}'.format(model.params['Market Risk Premium'],model.params['const']))\n",
    "plt.axhline(0, linestyle=':', color='grey')\n",
    "plt.axvline(0, linestyle=':', color='grey')\n",
    "plt.xlabel('Rm - RF')\n",
    "ax.xaxis.set_label_coords(1, 0.45)\n",
    "plt.ylabel('Ri - RF', rotation = 360)\n",
    "ax.yaxis.set_label_coords(0.43, 1)\n",
    "plt.xlim(-x_range, x_range)\n",
    "plt.ylim(-y_range, y_range)\n",
    "plt.legend(loc='best')\n",
    "plt.title('Security Characteristic Line ', loc='left')\n",
    "    \n",
    "plt.show()\n",
    "    "
   ]
  },
  {
   "cell_type": "markdown",
   "id": "0e617100",
   "metadata": {},
   "source": [
    "### Check Regresssion Assumptions "
   ]
  },
  {
   "cell_type": "markdown",
   "id": "d6f1a49d",
   "metadata": {},
   "source": [
    "#### 1. Normality of Residuals"
   ]
  },
  {
   "cell_type": "code",
   "execution_count": 70,
   "id": "7db5cc5a",
   "metadata": {},
   "outputs": [
    {
     "data": {
      "image/png": "[encoded data removed]",
      "text/plain": [
       "<Figure size 1080x504 with 1 Axes>"
      ]
     },
     "metadata": {},
     "output_type": "display_data"
    }
   ],
   "source": [
    "#Check normality of residuals with a Q-Q plot\n",
    "residuals = model.resid\n",
    "fig = sm.qqplot(residuals, line='s')\n",
    "plt.title('QQ Plot of Residuals')\n",
    "plt.show()"
   ]
  },
  {
   "cell_type": "markdown",
   "id": "19dccd1a",
   "metadata": {},
   "source": [
    "When residuals are normally distributed, the data points will follow the diagonal line. We see from the plot above that aside from a few observations in the extreme theoretical quartiles (the x-values), that the data points do indeed follow the red diagonal. Thus, we can feel confident that the residuals are normally distributed."
   ]
  },
  {
   "cell_type": "markdown",
   "id": "9b20abb2",
   "metadata": {},
   "source": [
    "#### 2. Homoscedasticity"
   ]
  },
  {
   "cell_type": "code",
   "execution_count": 71,
   "id": "af25565c",
   "metadata": {},
   "outputs": [
    {
     "data": {
      "text/plain": [
       "Text(0.5, 1.0, 'Residuals vs Fitted Values')"
      ]
     },
     "execution_count": 71,
     "metadata": {},
     "output_type": "execute_result"
    },
    {
     "data": {
      "image/png": "[encoded data removed]",
      "text/plain": [
       "<Figure size 1080x504 with 1 Axes>"
      ]
     },
     "metadata": {},
     "output_type": "display_data"
    }
   ],
   "source": [
    "#Plot the fitted values against the model residuals to check for homoscedasticity\n",
    "plt.scatter(x=model.fittedvalues, y=residuals, color='cyan')\n",
    "plt.axhline(0, linestyle=':', color='red')\n",
    "plt.xlabel('Fitted Values')\n",
    "plt.ylabel('Residuals')\n",
    "plt.title('Residuals vs Fitted Values')"
   ]
  },
  {
   "cell_type": "markdown",
   "id": "6597da18",
   "metadata": {},
   "source": [
    "To check for homoscedasticity, we can plot the fitted values of the model along the x-axis and the residuals corresponding to each fitted value along the y-axis. If homoscedasticity holds, we should expect to see an even distribution in the scatter of points across all fitted values. While there a few outlier points, the scatter of residuals remains pretty consistent around the y=0 line which is what we want to see. Therefore, the homoscedasticity assumption is met."
   ]
  },
  {
   "cell_type": "markdown",
   "id": "c13a9911",
   "metadata": {},
   "source": [
    "#### 3. No Autocorrelation"
   ]
  },
  {
   "cell_type": "code",
   "execution_count": 72,
   "id": "8f6abb7a",
   "metadata": {},
   "outputs": [
    {
     "name": "stdout",
     "output_type": "stream",
     "text": [
      "Durbin-Watson Test Statistic:  2.1588\n"
     ]
    }
   ],
   "source": [
    "# test autocorrelation using Durbin-Watson test\n",
    "from statsmodels.stats.stattools import durbin_watson\n",
    "\n",
    "print('Durbin-Watson Test Statistic: ', durbin_watson(residuals).round(4))"
   ]
  },
  {
   "cell_type": "markdown",
   "id": "81444add",
   "metadata": {},
   "source": [
    "Autocorrelation deals with the independence of observations (i.e. does the value of an observation depend on the value of another observation). This is particularly problematic with time-series data since values in a prior period often influence later values. One way to test autocorrelation is via the Durbin-Watson test. If the Durbin-Watson test statistic is between 1.5-2.5, then the data is not significantly autocorrelated (via https://help.sap.com/saphelp_SCM700_ehp02/helpdata/en/e8/3cc95360267614e10000000a174cb4/content.htm?no_cache=true#:~:text=The%20Durbin%2DWatson%20statisticlies%20in,acceptable%20range%20is%201.50%20%2D%202.50.). The Durbin-Watson test statistic is conveniently provided in the regression output above where we see that it's 2.159. Interestingly, although we're working with time-series data, the Durbin-Watson test statistic is in the appropriate range and there's no significant autocorrelation problem. This assumption is met."
   ]
  },
  {
   "cell_type": "markdown",
   "id": "23ce67bb",
   "metadata": {},
   "source": [
    "#### 4. No Multicollinearity"
   ]
  },
  {
   "cell_type": "markdown",
   "id": "ce75ba7e",
   "metadata": {},
   "source": [
    "Multicollinearity is a problem when doing multiple linear regression and predictors are highly correlated with one another. Since we're doing a simple linear regression of Uber's risk premium against the market's risk premium, we don't have to worry about multicollinearity and the assumption is met by default."
   ]
  },
  {
   "cell_type": "markdown",
   "id": "a4b4e2b7",
   "metadata": {},
   "source": [
    "#### 5. Linear Relationship"
   ]
  },
  {
   "cell_type": "markdown",
   "id": "c4fb3c35",
   "metadata": {},
   "source": [
    "This assumption deals with the idea that the underlying data can be appropriately be modeled by a linear model and doesn't follow a non-linear pattern such as a quadratic pattern. We can clearly see that the data follows a linear pattern in the scatter plot with the fitted regression line above, so this assumption is met."
   ]
  },
  {
   "cell_type": "markdown",
   "id": "57b15deb",
   "metadata": {},
   "source": [
    "### Conclusion: Equity Beta Estimate SCL Analysis"
   ]
  },
  {
   "cell_type": "code",
   "execution_count": 73,
   "id": "22eaf4e8",
   "metadata": {},
   "outputs": [
    {
     "name": "stdout",
     "output_type": "stream",
     "text": [
      "Uber Beta:  1.610413296029547\n",
      "95% Confidence Interval: [1.0961, 2.1247]\n"
     ]
    }
   ],
   "source": [
    "print('Uber Beta: ', uber_beta)\n",
    "print('95% Confidence Interval: [{:.4f}, {:.4f}]'.format(lower_bound, upper_bound))"
   ]
  },
  {
   "cell_type": "markdown",
   "id": "7bd09678",
   "metadata": {},
   "source": [
    "## Part II: Comparables Analysis"
   ]
  },
  {
   "cell_type": "markdown",
   "id": "382a88d1",
   "metadata": {},
   "source": [
    "Uber has 3 Business Segments: <br>\n",
    "<li>Delivery<br>\n",
    "<li>Freight<br>\n",
    "<li>Mobility (Ride Sharing)<br>\n",
    "    \n",
    "<br>\n",
    "For each of the segments, we identified 5-10 Comparables. They are listed below in their relative sections. <br>"
   ]
  },
  {
   "cell_type": "markdown",
   "id": "1e1bc78b",
   "metadata": {},
   "source": [
    "### Segment I: Delivery\n",
    "\n",
    "<table>\n",
    "<tr>\n",
    "<th colspan=2 style=\"text-align:center\">Delivery Comps</th>\n",
    "</tr>\n",
    "<tr>\n",
    "<th>Ticker</th>\n",
    "<th>Company</th>\n",
    "</tr>\n",
    "<tr>\n",
    "<td>DASH</td>\n",
    "<td>DoorDash, Inc.</td>\n",
    "</tr>\n",
    "<tr>\n",
    "<td>DROOF</td>\n",
    "<td>Deliveroo PLC</td>\n",
    "</tr>\n",
    "<tr>\n",
    "<td>DLVHF</td>\n",
    "<td>Delivery Hero SE</td>\n",
    "</tr>\n",
    "<tr>\n",
    "<td>HLFFF</td>\n",
    "<td>HelloFresh SE</td>\n",
    "</tr>\n",
    "<tr>\n",
    "<td>APRN</td>\n",
    "<td>Blue Apron Holdings, Inc.</td>\n",
    "</tr>\n",
    "</table>"
   ]
  },
  {
   "cell_type": "markdown",
   "id": "5b151bab",
   "metadata": {},
   "source": [
    "### Segment II: Freight\n",
    "\n",
    "<table>\n",
    "<tr>\n",
    "<th colspan=2 style=\"text-align:center\">Freight Comps</th>\n",
    "</tr>\n",
    "<tr>\n",
    "<th>Ticker</th>\n",
    "<th>Company</th>\n",
    "</tr>\n",
    "<tr>\n",
    "<td>CHRW</td>\n",
    "<td>CH Robinson Worldwide, Inc.</td>\n",
    "</tr>\n",
    "<tr>\n",
    "<td>XPO</td>\n",
    "<td>XPO Logistics, Inc.</td>\n",
    "</tr>\n",
    "<tr>\n",
    "<td>DPSGY</td>\n",
    "<td>Deutsche Post AG</td>\n",
    "</tr>\n",
    "<tr>\n",
    "<td>GXO</td>\n",
    "<td>GXO Logistics, Inc.</td>\n",
    "</tr>\n",
    "<tr>\n",
    "<td>JBHT</td>\n",
    "<td>J.B. Hunt Transport Services, Inc.</td>\n",
    "</tr>\n",
    "<tr>\n",
    "<td>HUBG</td>\n",
    "<td>Hub Group, Inc.</td>\n",
    "</tr>\n",
    "<tr>\n",
    "<td>LSTR</td>\n",
    "<td>Landstar System, Inc.</td>\n",
    "</tr>\n",
    "</table>\n"
   ]
  },
  {
   "cell_type": "markdown",
   "id": "9c5cd0ab",
   "metadata": {},
   "source": [
    "### Segment III: Mobility\n",
    "\n",
    "<table>\n",
    "<tr>\n",
    "<th colspan=2 style=\"text-align:center\">Mobility Comps</th>\n",
    "</tr>\n",
    "<tr>\n",
    "<th>Ticker</th>\n",
    "<th>Company</th>\n",
    "</tr>\n",
    "<tr>\n",
    "<td>LYFT</td>\n",
    "<td>Lyft, Inc.</td>\n",
    "</tr>\n",
    "<tr>\n",
    "<td>DIDIY</td>\n",
    "<td>DIDI Global Inc.</td>\n",
    "</tr>\n",
    "<tr>\n",
    "<td>GRAB</td>\n",
    "<td>Grab Holdings Inc.</td>\n",
    "</tr>\n",
    "<tr>\n",
    "<td>BRDS</td>\n",
    "<td>Bird Global, Inc.</td>\n",
    "</tr>\n",
    "<tr>\n",
    "<td>HLBZ</td>\n",
    "<td>Helbiz Inc.</td>\n",
    "</tr>\n",
    "<tr>\n",
    "<td>NIU</td>\n",
    "<td>Niu Technologies</td>\n",
    "</tr>\n",
    "</table>\n"
   ]
  },
  {
   "cell_type": "code",
   "execution_count": 74,
   "id": "f171a0fa",
   "metadata": {},
   "outputs": [],
   "source": [
    "comp_financials = pd.read_csv('Comp Financials.csv')"
   ]
  },
  {
   "cell_type": "code",
   "execution_count": 75,
   "id": "e81de0da",
   "metadata": {},
   "outputs": [],
   "source": [
    "#remove rows with tic 'ECHO' (didn't use as comp)\n",
    "comp_financials = comp_financials[comp_financials['tic'] != 'ECHO']"
   ]
  },
  {
   "cell_type": "markdown",
   "id": "15de03f7",
   "metadata": {},
   "source": [
    "### Analysis to Determine Captial Structure Assumption to Make"
   ]
  },
  {
   "cell_type": "markdown",
   "id": "0e14d18c",
   "metadata": {},
   "source": [
    "#### Assumption I: Constant Debt"
   ]
  },
  {
   "cell_type": "code",
   "execution_count": 76,
   "id": "3874a247",
   "metadata": {},
   "outputs": [
    {
     "data": {
      "image/png": "[encoded data removed]",
      "text/plain": [
       "<Figure size 1080x504 with 1 Axes>"
      ]
     },
     "metadata": {},
     "output_type": "display_data"
    }
   ],
   "source": [
    "# plot dltt over time for each ticker\n",
    "plt.rcParams['figure.figsize'] = [15, 7]\n",
    "for tic in comp_financials['tic'].unique():\n",
    "    df = comp_financials[comp_financials['tic'] == tic]\n",
    "    # change format for uber to make it stand out\n",
    "    if tic == 'UBER':\n",
    "        plt.plot(df['datadate'], df['dltt'], color='red', linewidth = 3, label=tic)\n",
    "    else:\n",
    "        plt.plot(df['datadate'], df['dltt'], label=tic, alpha = 0.7)\n",
    "plt.title('Long Term Debt Over Time for Comps and Uber')\n",
    "plt.ylabel('Long Term Debt')\n",
    "plt.legend(loc='best')\n",
    "plt.show()\n"
   ]
  },
  {
   "cell_type": "markdown",
   "id": "fb30f130",
   "metadata": {},
   "source": [
    "#### Assumption II: Constant Debt/Equity Ratio"
   ]
  },
  {
   "cell_type": "code",
   "execution_count": 77,
   "id": "4060c68d",
   "metadata": {},
   "outputs": [
    {
     "data": {
      "image/png": "[encoded data removed]",
      "text/plain": [
       "<Figure size 1080x504 with 1 Axes>"
      ]
     },
     "metadata": {},
     "output_type": "display_data"
    }
   ],
   "source": [
    "# plot debt to equity ratio over time for each ticker\n",
    "for tic in comp_financials['tic'].unique():\n",
    "    df = comp_financials[comp_financials['tic'] == tic]\n",
    "    if tic == 'UBER':\n",
    "        plt.plot(df['datadate'], df['dltt'] / (df['csho'] * df['prcc_c']), color='red', linewidth = 3, label=tic)\n",
    "    else:\n",
    "        plt.plot(df['datadate'], df['dltt'] / (df['csho'] * df['prcc_c']), alpha=0.7, label=tic)\n",
    "plt.title('D/E Over Time for Comps and Uber')\n",
    "plt.ylabel('D/E')\n",
    "plt.legend(loc='best')\n",
    "plt.show()\n"
   ]
  },
  {
   "cell_type": "markdown",
   "id": "61d0c9f9",
   "metadata": {},
   "source": [
    "\n",
    "To determine which capital structure assumption to make, we examined up to five years of historical data (when available) for each of the comparable companies as well as Uber to determine which was more appropriate. For the comparables without annual financials data available on WRDS, we found information on their 10k statements to supplement our analysis. Given the plots above of D and D/E over time for both Uber and the comps, we determined that both assumptions would be fairly reasonable as the majority of the comps plotted exhibit flat curves over time in both cases. Despite this, we chose to utilize Assumption II (constant D/E ratio), because we found that a few of the comps we identified likely have debt betas that are non-zero. Because the plot of D/E over time is flat for all but two firms, we feel that this approach is valid. Our method for determining the debt betas is described in the section below when we apply the Assumtion II formula to unlever the comp betas."
   ]
  },
  {
   "cell_type": "markdown",
   "id": "3805ff5d",
   "metadata": {},
   "source": [
    "### Get the Debt Betas for each of the Comps and Uber\n"
   ]
  },
  {
   "cell_type": "markdown",
   "id": "e01c6aec",
   "metadata": {},
   "source": [
    "#### Step 1: Get the Equity Betas of Comps (2 years, weekly)"
   ]
  },
  {
   "cell_type": "markdown",
   "id": "cf87d174",
   "metadata": {},
   "source": [
    "##### S&P 500 Data"
   ]
  },
  {
   "cell_type": "code",
   "execution_count": 78,
   "id": "3ac3e15d",
   "metadata": {},
   "outputs": [
    {
     "name": "stdout",
     "output_type": "stream",
     "text": [
      "[*********************100%***********************]  1 of 1 completed\n"
     ]
    }
   ],
   "source": [
    "# download S&P 500 data\n",
    "sp500 = yf.download('^GSPC', start='2020-10-17', end='2022-10-17', interval='1wk')\n",
    "sp500 = sp500.dropna()\n",
    "sp500 = sp500.reset_index()\n",
    "\n",
    "# get the weekly returns\n",
    "sp500['weekly_return'] = sp500['Adj Close'].pct_change()\n",
    "sp500 = sp500.dropna()"
   ]
  },
  {
   "cell_type": "markdown",
   "id": "e2fc9497",
   "metadata": {},
   "source": [
    "##### SCL Analysis for all Comps"
   ]
  },
  {
   "cell_type": "code",
   "execution_count": 79,
   "id": "57713506",
   "metadata": {},
   "outputs": [],
   "source": [
    "#function to calculate the weekly returns for a given ticker (2 year time frame)\n",
    "def beta(ticker, start, end, interval):\n",
    "    # get data\n",
    "    data = yf.download(ticker, start=start, end=end, interval=interval)\n",
    "    data = data.dropna()\n",
    "    data = data.reset_index()\n",
    "    \n",
    "    # calculate weekly returns\n",
    "    data['weekly_return'] = data['Adj Close'].pct_change()\n",
    "    \n",
    "    # drop na\n",
    "    data = data.dropna()\n",
    "    \n",
    "    # merge with sp500 data on date\n",
    "    data = data.merge(sp500, on='Date', suffixes=('', '_sp500'))\n",
    "\n",
    "    # run a regression\n",
    "    X = data['weekly_return_sp500']\n",
    "    y = data['weekly_return']\n",
    "\n",
    "    X = sm.add_constant(X)\n",
    "\n",
    "    model = sm.OLS(y, X).fit()\n",
    "    \n",
    "    return model.params[1]"
   ]
  },
  {
   "cell_type": "code",
   "execution_count": 80,
   "id": "ad135650",
   "metadata": {},
   "outputs": [],
   "source": [
    "# List of Comps for each Business Segment\n",
    "\n",
    "mobility = ['LYFT', 'DIDIY', 'GRAB', 'BRDS', 'HLBZ', 'NIU']\n",
    "delivery = ['DASH', 'DROOF', 'DLVHF', 'HLFFF', 'APRN']\n",
    "freight = ['CHRW', 'XPO', 'DPSGY', 'GXO', 'JBHT', 'HUBG', 'LSTR']"
   ]
  },
  {
   "cell_type": "markdown",
   "id": "efc7bdb3",
   "metadata": {},
   "source": [
    "##### Mobility Betas"
   ]
  },
  {
   "cell_type": "code",
   "execution_count": 81,
   "id": "63a107f5",
   "metadata": {},
   "outputs": [
    {
     "name": "stdout",
     "output_type": "stream",
     "text": [
      "[*********************100%***********************]  1 of 1 completed\n",
      "[*********************100%***********************]  1 of 1 completed\n",
      "[*********************100%***********************]  1 of 1 completed\n",
      "[*********************100%***********************]  1 of 1 completed\n",
      "[*********************100%***********************]  1 of 1 completed\n",
      "[*********************100%***********************]  1 of 1 completed\n"
     ]
    },
    {
     "data": {
      "text/html": [
       "<div>\n",
       "<style scoped>\n",
       "    .dataframe tbody tr th:only-of-type {\n",
       "        vertical-align: middle;\n",
       "    }\n",
       "\n",
       "    .dataframe tbody tr th {\n",
       "        vertical-align: top;\n",
       "    }\n",
       "\n",
       "    .dataframe thead th {\n",
       "        text-align: right;\n",
       "    }\n",
       "</style>\n",
       "<table border=\"1\" class=\"dataframe\">\n",
       "  <thead>\n",
       "    <tr style=\"text-align: right;\">\n",
       "      <th></th>\n",
       "      <th>Mobility Equity Beta</th>\n",
       "    </tr>\n",
       "  </thead>\n",
       "  <tbody>\n",
       "    <tr>\n",
       "      <th>LYFT</th>\n",
       "      <td>1.757576</td>\n",
       "    </tr>\n",
       "    <tr>\n",
       "      <th>DIDIY</th>\n",
       "      <td>2.458666</td>\n",
       "    </tr>\n",
       "    <tr>\n",
       "      <th>GRAB</th>\n",
       "      <td>1.293262</td>\n",
       "    </tr>\n",
       "    <tr>\n",
       "      <th>BRDS</th>\n",
       "      <td>0.775504</td>\n",
       "    </tr>\n",
       "    <tr>\n",
       "      <th>HLBZ</th>\n",
       "      <td>1.420304</td>\n",
       "    </tr>\n",
       "    <tr>\n",
       "      <th>NIU</th>\n",
       "      <td>1.430427</td>\n",
       "    </tr>\n",
       "  </tbody>\n",
       "</table>\n",
       "</div>"
      ],
      "text/plain": [
       "       Mobility Equity Beta\n",
       "LYFT               1.757576\n",
       "DIDIY              2.458666\n",
       "GRAB               1.293262\n",
       "BRDS               0.775504\n",
       "HLBZ               1.420304\n",
       "NIU                1.430427"
      ]
     },
     "execution_count": 81,
     "metadata": {},
     "output_type": "execute_result"
    }
   ],
   "source": [
    "mobility_beta = pd.DataFrame()\n",
    "\n",
    "for ticker in mobility:\n",
    "    mobility_beta[ticker] = [beta(ticker, '2020-10-17', '2022-10-17', '1wk')]\n",
    "\n",
    "mobility_beta = mobility_beta.T\n",
    "mobility_beta.columns = ['Mobility Equity Beta']\n",
    "\n",
    "mobility_beta"
   ]
  },
  {
   "cell_type": "markdown",
   "id": "c8f2e973",
   "metadata": {},
   "source": [
    "##### Delivery Betas"
   ]
  },
  {
   "cell_type": "code",
   "execution_count": 82,
   "id": "38e08c0f",
   "metadata": {},
   "outputs": [
    {
     "name": "stdout",
     "output_type": "stream",
     "text": [
      "[*********************100%***********************]  1 of 1 completed\n",
      "[*********************100%***********************]  1 of 1 completed\n",
      "[*********************100%***********************]  1 of 1 completed\n",
      "[*********************100%***********************]  1 of 1 completed\n",
      "[*********************100%***********************]  1 of 1 completed\n"
     ]
    },
    {
     "data": {
      "text/html": [
       "<div>\n",
       "<style scoped>\n",
       "    .dataframe tbody tr th:only-of-type {\n",
       "        vertical-align: middle;\n",
       "    }\n",
       "\n",
       "    .dataframe tbody tr th {\n",
       "        vertical-align: top;\n",
       "    }\n",
       "\n",
       "    .dataframe thead th {\n",
       "        text-align: right;\n",
       "    }\n",
       "</style>\n",
       "<table border=\"1\" class=\"dataframe\">\n",
       "  <thead>\n",
       "    <tr style=\"text-align: right;\">\n",
       "      <th></th>\n",
       "      <th>Delivery Equity Beta</th>\n",
       "    </tr>\n",
       "  </thead>\n",
       "  <tbody>\n",
       "    <tr>\n",
       "      <th>DASH</th>\n",
       "      <td>1.732550</td>\n",
       "    </tr>\n",
       "    <tr>\n",
       "      <th>DROOF</th>\n",
       "      <td>0.570273</td>\n",
       "    </tr>\n",
       "    <tr>\n",
       "      <th>DLVHF</th>\n",
       "      <td>1.411151</td>\n",
       "    </tr>\n",
       "    <tr>\n",
       "      <th>HLFFF</th>\n",
       "      <td>0.813275</td>\n",
       "    </tr>\n",
       "    <tr>\n",
       "      <th>APRN</th>\n",
       "      <td>1.152158</td>\n",
       "    </tr>\n",
       "  </tbody>\n",
       "</table>\n",
       "</div>"
      ],
      "text/plain": [
       "       Delivery Equity Beta\n",
       "DASH               1.732550\n",
       "DROOF              0.570273\n",
       "DLVHF              1.411151\n",
       "HLFFF              0.813275\n",
       "APRN               1.152158"
      ]
     },
     "execution_count": 82,
     "metadata": {},
     "output_type": "execute_result"
    }
   ],
   "source": [
    "delivery_beta = pd.DataFrame()\n",
    "\n",
    "for ticker in delivery:\n",
    "    delivery_beta[ticker] = [beta(ticker, '2020-10-17', '2022-10-17', '1wk')]\n",
    "\n",
    "delivery_beta = delivery_beta.T\n",
    "delivery_beta.columns = ['Delivery Equity Beta']\n",
    "delivery_beta"
   ]
  },
  {
   "cell_type": "markdown",
   "id": "c7cf6ad1",
   "metadata": {},
   "source": [
    "##### Freight Betas"
   ]
  },
  {
   "cell_type": "code",
   "execution_count": 83,
   "id": "b348a710",
   "metadata": {},
   "outputs": [
    {
     "name": "stdout",
     "output_type": "stream",
     "text": [
      "[*********************100%***********************]  1 of 1 completed\n",
      "[*********************100%***********************]  1 of 1 completed\n",
      "[*********************100%***********************]  1 of 1 completed\n",
      "[*********************100%***********************]  1 of 1 completed\n",
      "[*********************100%***********************]  1 of 1 completed\n",
      "[*********************100%***********************]  1 of 1 completed\n",
      "[*********************100%***********************]  1 of 1 completed\n"
     ]
    },
    {
     "data": {
      "text/html": [
       "<div>\n",
       "<style scoped>\n",
       "    .dataframe tbody tr th:only-of-type {\n",
       "        vertical-align: middle;\n",
       "    }\n",
       "\n",
       "    .dataframe tbody tr th {\n",
       "        vertical-align: top;\n",
       "    }\n",
       "\n",
       "    .dataframe thead th {\n",
       "        text-align: right;\n",
       "    }\n",
       "</style>\n",
       "<table border=\"1\" class=\"dataframe\">\n",
       "  <thead>\n",
       "    <tr style=\"text-align: right;\">\n",
       "      <th></th>\n",
       "      <th>Freight Equity Beta</th>\n",
       "    </tr>\n",
       "  </thead>\n",
       "  <tbody>\n",
       "    <tr>\n",
       "      <th>CHRW</th>\n",
       "      <td>0.803364</td>\n",
       "    </tr>\n",
       "    <tr>\n",
       "      <th>XPO</th>\n",
       "      <td>1.405871</td>\n",
       "    </tr>\n",
       "    <tr>\n",
       "      <th>DPSGY</th>\n",
       "      <td>1.003579</td>\n",
       "    </tr>\n",
       "    <tr>\n",
       "      <th>GXO</th>\n",
       "      <td>1.635069</td>\n",
       "    </tr>\n",
       "    <tr>\n",
       "      <th>JBHT</th>\n",
       "      <td>0.978679</td>\n",
       "    </tr>\n",
       "    <tr>\n",
       "      <th>HUBG</th>\n",
       "      <td>0.944203</td>\n",
       "    </tr>\n",
       "    <tr>\n",
       "      <th>LSTR</th>\n",
       "      <td>0.721047</td>\n",
       "    </tr>\n",
       "  </tbody>\n",
       "</table>\n",
       "</div>"
      ],
      "text/plain": [
       "       Freight Equity Beta\n",
       "CHRW              0.803364\n",
       "XPO               1.405871\n",
       "DPSGY             1.003579\n",
       "GXO               1.635069\n",
       "JBHT              0.978679\n",
       "HUBG              0.944203\n",
       "LSTR              0.721047"
      ]
     },
     "execution_count": 83,
     "metadata": {},
     "output_type": "execute_result"
    }
   ],
   "source": [
    "freight_beta = pd.DataFrame()\n",
    "\n",
    "for ticker in freight:\n",
    "    freight_beta[ticker] = [beta(ticker, '2020-10-17', '2022-10-17', '1wk')]\n",
    "\n",
    "freight_beta = freight_beta.T\n",
    "freight_beta.columns = ['Freight Equity Beta']\n",
    "freight_beta"
   ]
  },
  {
   "cell_type": "markdown",
   "id": "33430981",
   "metadata": {},
   "source": [
    "#### Step 2: Unlever the Betas of the Comps (Assumption II) and Cash Adjust Them"
   ]
  },
  {
   "cell_type": "markdown",
   "id": "b9c88a3b",
   "metadata": {},
   "source": [
    "<table>\n",
    "<tr>\n",
    "<th colspan=4>Penny Stocks (Also < $5.00)</th>\n",
    "</tr>\n",
    "<tr>\n",
    "<th>Segment</th>\n",
    "<th>Ticker</th>\n",
    "<th>Company</th>\n",
    "<th>Price</th>\n",
    "</tr>\n",
    "<tr>\n",
    "<td>Delivery</td>\n",
    "<td>DROOF</td>\n",
    "<td>Deliveroo</td>\n",
    "<td>$1.00</td>\n",
    "</tr>\n",
    "<tr>\n",
    "<td>Delivery</td>\n",
    "<td>APRN</td>\n",
    "<td>Blue Apron</td>\n",
    "<td>$2.53</td>\n",
    "</tr>\n",
    "<tr>\n",
    "<td>Mobility</td>\n",
    "<td>DIDIY</td>\n",
    "<td>Didi Global</td>\n",
    "<td>$1.64</td>\n",
    "</tr>\n",
    "<tr>\n",
    "<td>Mobility</td>\n",
    "<td>GRAB</td>\n",
    "<td>Grab Holdings</td>\n",
    "<td>$2.40</td>\n",
    "</tr>\n",
    "<tr>\n",
    "<td>Mobility</td>\n",
    "<td>BRDS</td>\n",
    "<td>Bird Global</td>\n",
    "<td>$0.37</td>\n",
    "</tr>\n",
    "<tr>\n",
    "<td>Mobility</td>\n",
    "<td>HLBZ</td>\n",
    "<td>Helbiz</td>\n",
    "<td>$0.28</td>\n",
    "</tr>\n",
    "<tr>\n",
    "<td>Mobility</td>\n",
    "<td>NIU</td>\n",
    "<td>Niu Technologies</td>\n",
    "<td>$2.81</td>\n",
    "</tr>\n",
    "</table>\n",
    "\n",
    "We made the assumption that companies under \\$5.00 per share are penny stocks and therefore they will have a higher risk of defaulting. At their IPO these companies are often valued at a higher price than their much lower current price, so this decreased price is a sign of the company not doing well. For example at one point Bird Scooters was trading at \\$8.40 per share at its IPO, while it is now trading at \\$0.37 per share, this is a decline in their market cap by 95.6% from \\$2.2 billion to \\$97.02 million. As seen in the Bird example this is a clear sign that the company is struggling and could have trouble paying back their debt. Based on this assumption we set the debt beta for these penny stocks to 0.5 because we assumed their investment grade was most likely in the sub-investment grade range which usually have debt betas between 0.3 and 0.5. Only five of the comparable companies had debt grades listed in WRDS and all five of these were investment grade. Thus we made our assumption that the debt betas for the other comparable companies were investment grade, unless they were under \\$5.00 per share."
   ]
  },
  {
   "cell_type": "code",
   "execution_count": 84,
   "id": "de4c2d9e",
   "metadata": {},
   "outputs": [],
   "source": [
    "# get the relevant information for 2021 for each ticker\n",
    "comp_2021 = comp_financials[['dltt', 'csho', 'prcc_c', 'che', 'fyear', 'tic', 'conm']].sort_values(by='fyear', ascending=False).drop_duplicates(subset='tic', keep='first')\n",
    "\n",
    "# Add in the Beta Debt, MV Equity, and D/E Ratio for each Comp in 2021\n",
    "comp_2021['beta_debt'] = 0\n",
    "\n",
    "penny = ['DROOF', 'APRN', 'DIDIY', 'GRAB', 'BRDS', 'HLBZ', 'NIU']\n",
    "comp_2021.loc[comp_2021['tic'].isin(penny), 'beta_debt'] = 0.5\n",
    "\n",
    "comp_2021['mv_equity'] = comp_2021['csho'] * comp_2021['prcc_c']\n",
    "comp_2021['de_ratio'] = comp_2021['dltt'] / comp_2021['mv_equity']"
   ]
  },
  {
   "cell_type": "code",
   "execution_count": 85,
   "id": "7dd0a587",
   "metadata": {},
   "outputs": [
    {
     "data": {
      "text/html": [
       "<div>\n",
       "<style scoped>\n",
       "    .dataframe tbody tr th:only-of-type {\n",
       "        vertical-align: middle;\n",
       "    }\n",
       "\n",
       "    .dataframe tbody tr th {\n",
       "        vertical-align: top;\n",
       "    }\n",
       "\n",
       "    .dataframe thead th {\n",
       "        text-align: right;\n",
       "    }\n",
       "</style>\n",
       "<table border=\"1\" class=\"dataframe\">\n",
       "  <thead>\n",
       "    <tr style=\"text-align: right;\">\n",
       "      <th></th>\n",
       "      <th>dltt</th>\n",
       "      <th>csho</th>\n",
       "      <th>prcc_c</th>\n",
       "      <th>che</th>\n",
       "      <th>fyear</th>\n",
       "      <th>tic</th>\n",
       "      <th>conm</th>\n",
       "      <th>beta_debt</th>\n",
       "      <th>mv_equity</th>\n",
       "      <th>de_ratio</th>\n",
       "      <th>segment</th>\n",
       "      <th>beta_equity</th>\n",
       "      <th>beta_unlevered</th>\n",
       "      <th>cash_adj_beta</th>\n",
       "    </tr>\n",
       "  </thead>\n",
       "  <tbody>\n",
       "    <tr>\n",
       "      <th>26</th>\n",
       "      <td>18.057</td>\n",
       "      <td>30.515</td>\n",
       "      <td>5.49</td>\n",
       "      <td>21.143</td>\n",
       "      <td>2021</td>\n",
       "      <td>HLBZ</td>\n",
       "      <td>HELBIZ INC</td>\n",
       "      <td>0.5</td>\n",
       "      <td>167.52735</td>\n",
       "      <td>0.107785</td>\n",
       "      <td>Mobility</td>\n",
       "      <td>1.420304</td>\n",
       "      <td>1.330761</td>\n",
       "      <td>1.501863</td>\n",
       "    </tr>\n",
       "    <tr>\n",
       "      <th>18</th>\n",
       "      <td>2.192</td>\n",
       "      <td>76.840</td>\n",
       "      <td>16.11</td>\n",
       "      <td>204.908</td>\n",
       "      <td>2021</td>\n",
       "      <td>NIU</td>\n",
       "      <td>NIU TECHNOLOGIES -ADR</td>\n",
       "      <td>0.5</td>\n",
       "      <td>1237.89240</td>\n",
       "      <td>0.001771</td>\n",
       "      <td>Mobility</td>\n",
       "      <td>1.430427</td>\n",
       "      <td>1.428783</td>\n",
       "      <td>1.711603</td>\n",
       "    </tr>\n",
       "    <tr>\n",
       "      <th>51</th>\n",
       "      <td>23186.000</td>\n",
       "      <td>1232.450</td>\n",
       "      <td>64.08</td>\n",
       "      <td>3531.000</td>\n",
       "      <td>2021</td>\n",
       "      <td>DPSGY</td>\n",
       "      <td>DHL</td>\n",
       "      <td>0.0</td>\n",
       "      <td>78975.39600</td>\n",
       "      <td>0.293585</td>\n",
       "      <td>Freight</td>\n",
       "      <td>1.003579</td>\n",
       "      <td>0.775812</td>\n",
       "      <td>0.803587</td>\n",
       "    </tr>\n",
       "    <tr>\n",
       "      <th>50</th>\n",
       "      <td>175.000</td>\n",
       "      <td>173.710</td>\n",
       "      <td>19.05</td>\n",
       "      <td>467.200</td>\n",
       "      <td>2021</td>\n",
       "      <td>HLFFF</td>\n",
       "      <td>HELLO FRESH</td>\n",
       "      <td>0.0</td>\n",
       "      <td>3309.17550</td>\n",
       "      <td>0.052883</td>\n",
       "      <td>Delivery</td>\n",
       "      <td>0.813275</td>\n",
       "      <td>0.772426</td>\n",
       "      <td>0.892042</td>\n",
       "    </tr>\n",
       "    <tr>\n",
       "      <th>46</th>\n",
       "      <td>655.173</td>\n",
       "      <td>334.724</td>\n",
       "      <td>42.73</td>\n",
       "      <td>457.325</td>\n",
       "      <td>2021</td>\n",
       "      <td>LYFT</td>\n",
       "      <td>LYFT</td>\n",
       "      <td>0.0</td>\n",
       "      <td>14302.75652</td>\n",
       "      <td>0.045807</td>\n",
       "      <td>Mobility</td>\n",
       "      <td>1.757576</td>\n",
       "      <td>1.680592</td>\n",
       "      <td>1.733595</td>\n",
       "    </tr>\n",
       "  </tbody>\n",
       "</table>\n",
       "</div>"
      ],
      "text/plain": [
       "         dltt      csho  prcc_c       che  fyear    tic  \\\n",
       "26     18.057    30.515    5.49    21.143   2021   HLBZ   \n",
       "18      2.192    76.840   16.11   204.908   2021    NIU   \n",
       "51  23186.000  1232.450   64.08  3531.000   2021  DPSGY   \n",
       "50    175.000   173.710   19.05   467.200   2021  HLFFF   \n",
       "46    655.173   334.724   42.73   457.325   2021   LYFT   \n",
       "\n",
       "                     conm  beta_debt    mv_equity  de_ratio   segment  \\\n",
       "26             HELBIZ INC        0.5    167.52735  0.107785  Mobility   \n",
       "18  NIU TECHNOLOGIES -ADR        0.5   1237.89240  0.001771  Mobility   \n",
       "51                    DHL        0.0  78975.39600  0.293585   Freight   \n",
       "50            HELLO FRESH        0.0   3309.17550  0.052883  Delivery   \n",
       "46                   LYFT        0.0  14302.75652  0.045807  Mobility   \n",
       "\n",
       "    beta_equity  beta_unlevered  cash_adj_beta  \n",
       "26     1.420304        1.330761       1.501863  \n",
       "18     1.430427        1.428783       1.711603  \n",
       "51     1.003579        0.775812       0.803587  \n",
       "50     0.813275        0.772426       0.892042  \n",
       "46     1.757576        1.680592       1.733595  "
      ]
     },
     "execution_count": 85,
     "metadata": {},
     "output_type": "execute_result"
    }
   ],
   "source": [
    "# Compute the Unlevered Beta and Cash Adjusted Beta for each Comp\n",
    "\n",
    "for index, row in comp_2021.iterrows():\n",
    "    tic = row['tic']\n",
    "    if tic in mobility:\n",
    "        beta_equity = mobility_beta.loc[tic, 'Mobility Equity Beta']\n",
    "        comp_2021.loc[index, 'segment'] = 'Mobility'\n",
    "    elif tic in delivery:\n",
    "        beta_equity = delivery_beta.loc[tic, 'Delivery Equity Beta']\n",
    "        comp_2021.loc[index, 'segment'] = 'Delivery'\n",
    "    elif tic in freight:\n",
    "        beta_equity = freight_beta.loc[tic, 'Freight Equity Beta']\n",
    "        comp_2021.loc[index, 'segment'] = 'Freight'\n",
    "    else:\n",
    "        beta_equity = 0\n",
    "    comp_2021.loc[index, 'beta_equity'] = beta_equity\n",
    "\n",
    "comp_2021['beta_unlevered'] = (comp_2021['beta_equity'] / (1 + comp_2021['de_ratio'])) + ((comp_2021['de_ratio'] * comp_2021['beta_debt']) / (1 + comp_2021['de_ratio']))\n",
    "comp_2021['cash_adj_beta'] = comp_2021['beta_unlevered'] / (1 - ((comp_2021['che']) / (comp_2021['dltt'] + comp_2021['mv_equity'])))\n",
    "\n",
    "comp_2021.head(5)\n"
   ]
  },
  {
   "cell_type": "markdown",
   "id": "468dff51",
   "metadata": {},
   "source": [
    "#### Step 3: Get the Average Unlevered/Cash Adjusted Beta for Each Sector"
   ]
  },
  {
   "cell_type": "code",
   "execution_count": 86,
   "id": "372ced55",
   "metadata": {},
   "outputs": [
    {
     "data": {
      "text/plain": [
       "segment\n",
       "Delivery    1.125938\n",
       "Freight     0.927381\n",
       "Mobility    1.906259\n",
       "Name: cash_adj_beta, dtype: float64"
      ]
     },
     "execution_count": 86,
     "metadata": {},
     "output_type": "execute_result"
    }
   ],
   "source": [
    "average_unlevered = comp_2021.groupby('segment')['cash_adj_beta'].mean()\n",
    "average_unlevered"
   ]
  },
  {
   "cell_type": "markdown",
   "id": "ee16b9ba",
   "metadata": {},
   "source": [
    "#### Step 4: Uber Analysis with Comps"
   ]
  },
  {
   "cell_type": "markdown",
   "id": "d49ebc6c",
   "metadata": {},
   "source": [
    "##### Segment Multipliers (EV/Sales Sourced from Revenue Multiples by Sector (US) - Stern)\n",
    "- Delivery: Software (System & Application) (12.84)\n",
    "- Freight: Transportation (1.52)\n",
    "- Mobility: Software (System & Application) (12.84)"
   ]
  },
  {
   "cell_type": "code",
   "execution_count": 87,
   "id": "a3a53f62",
   "metadata": {},
   "outputs": [],
   "source": [
    "# Uber Revenue by Segment [delivery, freight, mobility]\n",
    "uber_revenue = [8632000000, 2132000000, 6953000000]\n",
    "\n",
    "# Uber Multipliers by Segment [delivery, freight, mobility]\n",
    "segment_multipliers = [12.84, 1.52, 12.84]"
   ]
  },
  {
   "cell_type": "code",
   "execution_count": 88,
   "id": "6e43529a",
   "metadata": {},
   "outputs": [
    {
     "data": {
      "text/html": [
       "<div>\n",
       "<style scoped>\n",
       "    .dataframe tbody tr th:only-of-type {\n",
       "        vertical-align: middle;\n",
       "    }\n",
       "\n",
       "    .dataframe tbody tr th {\n",
       "        vertical-align: top;\n",
       "    }\n",
       "\n",
       "    .dataframe thead th {\n",
       "        text-align: right;\n",
       "    }\n",
       "</style>\n",
       "<table border=\"1\" class=\"dataframe\">\n",
       "  <thead>\n",
       "    <tr style=\"text-align: right;\">\n",
       "      <th></th>\n",
       "      <th>Multiplier</th>\n",
       "      <th>Revenue</th>\n",
       "      <th>Implied Enterprise Value</th>\n",
       "      <th>Segment Weight</th>\n",
       "      <th>Unlevered Beta</th>\n",
       "      <th>Weighted Beta Component</th>\n",
       "    </tr>\n",
       "  </thead>\n",
       "  <tbody>\n",
       "    <tr>\n",
       "      <th>0</th>\n",
       "      <td>12.84</td>\n",
       "      <td>8632000000</td>\n",
       "      <td>1.108349e+11</td>\n",
       "      <td>0.545039</td>\n",
       "      <td>1.125938</td>\n",
       "      <td>0.613680</td>\n",
       "    </tr>\n",
       "    <tr>\n",
       "      <th>1</th>\n",
       "      <td>1.52</td>\n",
       "      <td>2132000000</td>\n",
       "      <td>3.240640e+09</td>\n",
       "      <td>0.015936</td>\n",
       "      <td>0.927381</td>\n",
       "      <td>0.014779</td>\n",
       "    </tr>\n",
       "    <tr>\n",
       "      <th>2</th>\n",
       "      <td>12.84</td>\n",
       "      <td>6953000000</td>\n",
       "      <td>8.927652e+10</td>\n",
       "      <td>0.439024</td>\n",
       "      <td>1.906259</td>\n",
       "      <td>0.836894</td>\n",
       "    </tr>\n",
       "  </tbody>\n",
       "</table>\n",
       "</div>"
      ],
      "text/plain": [
       "   Multiplier     Revenue  Implied Enterprise Value  Segment Weight  \\\n",
       "0       12.84  8632000000              1.108349e+11        0.545039   \n",
       "1        1.52  2132000000              3.240640e+09        0.015936   \n",
       "2       12.84  6953000000              8.927652e+10        0.439024   \n",
       "\n",
       "   Unlevered Beta  Weighted Beta Component  \n",
       "0        1.125938                 0.613680  \n",
       "1        0.927381                 0.014779  \n",
       "2        1.906259                 0.836894  "
      ]
     },
     "execution_count": 88,
     "metadata": {},
     "output_type": "execute_result"
    }
   ],
   "source": [
    "final_df = pd.DataFrame()\n",
    "final_df['Multiplier'] = segment_multipliers\n",
    "final_df['Revenue'] = uber_revenue\n",
    "final_df['Implied Enterprise Value'] = final_df['Multiplier'] * final_df['Revenue']\n",
    "final_df['Segment Weight'] = final_df[\"Implied Enterprise Value\"] / final_df[\"Implied Enterprise Value\"].sum()\n",
    "final_df['Unlevered Beta'] = average_unlevered.values\n",
    "final_df['Weighted Beta Component'] = final_df['Segment Weight'] * final_df['Unlevered Beta']\n",
    "\n",
    "final_df"
   ]
  },
  {
   "cell_type": "markdown",
   "id": "f25e61f0",
   "metadata": {},
   "source": [
    "##### Get the Unlevered Beta for Uber"
   ]
  },
  {
   "cell_type": "code",
   "execution_count": 89,
   "id": "65972eed",
   "metadata": {},
   "outputs": [
    {
     "name": "stdout",
     "output_type": "stream",
     "text": [
      "Uber Unlevered Beta (Cash Adjusted): 1.4654\n"
     ]
    }
   ],
   "source": [
    "uber_unlevered_beta_cashadj = final_df['Weighted Beta Component'].sum()\n",
    "print('Uber Unlevered Beta (Cash Adjusted):', round(uber_unlevered_beta_cashadj, 4))"
   ]
  },
  {
   "cell_type": "markdown",
   "id": "8cef6683",
   "metadata": {},
   "source": [
    "##### Undo Cash Adjustment of Uber's Unlevered Beta"
   ]
  },
  {
   "cell_type": "code",
   "execution_count": 90,
   "id": "0e9db5ba",
   "metadata": {},
   "outputs": [
    {
     "name": "stdout",
     "output_type": "stream",
     "text": [
      "Uber Unlevered Beta: 1.3875\n"
     ]
    }
   ],
   "source": [
    "uber = comp_2021[comp_2021['tic'] == 'UBER']\n",
    "uber_unlevered_beta = uber_unlevered_beta_cashadj * (1 - ((uber['che']) / (uber['dltt'] + uber['mv_equity'])))\n",
    "uber_unlevered_beta = uber_unlevered_beta.values[0]\n",
    "print('Uber Unlevered Beta:', round(uber_unlevered_beta, 4))"
   ]
  },
  {
   "cell_type": "markdown",
   "id": "06d82d12",
   "metadata": {},
   "source": [
    "##### Relever Uber's Beta to Get Final Equity Beta (Assumption II)"
   ]
  },
  {
   "cell_type": "code",
   "execution_count": 91,
   "id": "dabef7d4",
   "metadata": {},
   "outputs": [
    {
     "name": "stdout",
     "output_type": "stream",
     "text": [
      "Uber Levered Beta: 1.5749\n"
     ]
    }
   ],
   "source": [
    "levered_beta = uber_unlevered_beta * (1 + uber['de_ratio'])\n",
    "levered_beta = levered_beta.values[0]\n",
    "\n",
    "print('Uber Levered Beta:', round(levered_beta, 4))"
   ]
  },
  {
   "cell_type": "markdown",
   "id": "c8ec5328",
   "metadata": {},
   "source": [
    "## Part III: Comparison of SCL vs. Comps Methods"
   ]
  },
  {
   "cell_type": "markdown",
   "id": "2c293106",
   "metadata": {},
   "source": [
    "In the end, we got an estimated βE of 1.6104 via the SCL regression analysis and an estimated βE of about 1.5749 from the comparable companies analysis. We were quite surprised as to how close these two estimates were especially regarding the difficult nature in finding appropriate comps. The estimate βE of 1.5749 from the comps analysis was indeed well within the 95% confidence interval of (1.0961, 2.1247) that we got when doing our regression analysis (though this interval is quite large and not all that informative). A logical next step would be to blend these two estimates to get a single estimated βE. Such an approach would be particularly important if the two estimates were significantly different from one another. The weight placed on the estimated βE from SCL in the blended βE would depend on how confident one is that the past performance of the company in question is reflective of expected future performance. Additionally, the weight placed on the estimated βE from comps analysis in the blended βE would depend on how confident one is that appropriate comps were gathered. "
   ]
  }
 ],
 "metadata": {
  "kernelspec": {
   "display_name": "Python 3.8.3 ('base')",
   "language": "python",
   "name": "python3"
  },
  "language_info": {
   "codemirror_mode": {
    "name": "ipython",
    "version": 3
   },
   "file_extension": ".py",
   "mimetype": "text/x-python",
   "name": "python",
   "nbconvert_exporter": "python",
   "pygments_lexer": "ipython3",
   "version": "3.8.3"
  },
  "vscode": {
   "interpreter": {
    "hash": "8fda165f50e76d432f6ed799118bc9dab23fa79194393d6371ca86a52c69e7ca"
   }
  }
 },
 "nbformat": 4,
 "nbformat_minor": 5
}
