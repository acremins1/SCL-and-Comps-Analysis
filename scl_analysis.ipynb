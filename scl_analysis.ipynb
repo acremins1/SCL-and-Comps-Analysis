{
 "cells": [
  {
   "cell_type": "markdown",
   "id": "2dc54f02",
   "metadata": {},
   "source": [
    "# Uber: Estimating Beta (SCL vs. Comparables)"
   ]
  },
  {
   "cell_type": "markdown",
   "id": "126fbb52",
   "metadata": {},
   "source": [
    "#### Aidan Cremins, Peyton Lewis, Joe Morris, Amrit Sandhu"
   ]
  },
  {
   "cell_type": "markdown",
   "id": "0da33b21",
   "metadata": {},
   "source": [
    " "
   ]
  },
  {
   "cell_type": "markdown",
   "id": "72db18e0",
   "metadata": {},
   "source": [
    "## Part I: SCL Analysis"
   ]
  },
  {
   "cell_type": "markdown",
   "id": "b6a8658a",
   "metadata": {},
   "source": [
    "### Necessary Imports"
   ]
  },
  {
   "cell_type": "code",
   "execution_count": 1,
   "id": "13ed36d6",
   "metadata": {},
   "outputs": [],
   "source": [
    "import pandas as pd\n",
    "import numpy as np\n",
    "import statsmodels.api as sm\n",
    "\n",
    "import ipywidgets as widgets\n",
    "from ipywidgets import Text\n",
    "import matplotlib.pyplot as plt\n",
    "\n",
    "import warnings\n",
    "warnings.filterwarnings('ignore')"
   ]
  },
  {
   "cell_type": "markdown",
   "id": "69d7d8d0",
   "metadata": {},
   "source": [
    "### Assumptions"
   ]
  },
  {
   "cell_type": "markdown",
   "id": "aa082c2a",
   "metadata": {},
   "source": [
    "<li>Granularity: Weekly<br>\n",
    "<li>Timeframe: Two years<br>\n",
    "<li>Risk Free Rate: 0%"
   ]
  },
  {
   "cell_type": "markdown",
   "id": "e24f58c6",
   "metadata": {},
   "source": [
    "### Read in Data"
   ]
  },
  {
   "cell_type": "code",
   "execution_count": 2,
   "id": "a337fe6d",
   "metadata": {},
   "outputs": [],
   "source": [
    "uber_data = pd.read_csv('UBER.csv')"
   ]
  },
  {
   "cell_type": "code",
   "execution_count": 3,
   "id": "e332fa95",
   "metadata": {},
   "outputs": [
    {
     "data": {
      "text/html": [
       "<div>\n",
       "<style scoped>\n",
       "    .dataframe tbody tr th:only-of-type {\n",
       "        vertical-align: middle;\n",
       "    }\n",
       "\n",
       "    .dataframe tbody tr th {\n",
       "        vertical-align: top;\n",
       "    }\n",
       "\n",
       "    .dataframe thead th {\n",
       "        text-align: right;\n",
       "    }\n",
       "</style>\n",
       "<table border=\"1\" class=\"dataframe\">\n",
       "  <thead>\n",
       "    <tr style=\"text-align: right;\">\n",
       "      <th></th>\n",
       "      <th>Adj_Close_Uber</th>\n",
       "      <th>Adj_Close_Market</th>\n",
       "      <th>rf_rate</th>\n",
       "      <th>MRP</th>\n",
       "      <th>URP</th>\n",
       "      <th>Market Risk Premium</th>\n",
       "      <th>Uber Risk Premium</th>\n",
       "    </tr>\n",
       "  </thead>\n",
       "  <tbody>\n",
       "    <tr>\n",
       "      <th>0</th>\n",
       "      <td>34.459999</td>\n",
       "      <td>319.331451</td>\n",
       "      <td>0</td>\n",
       "      <td>0.000000</td>\n",
       "      <td>0.000000</td>\n",
       "      <td>0.000000</td>\n",
       "      <td>0.000000</td>\n",
       "    </tr>\n",
       "    <tr>\n",
       "      <th>1</th>\n",
       "      <td>37.720001</td>\n",
       "      <td>324.295410</td>\n",
       "      <td>0</td>\n",
       "      <td>0.015545</td>\n",
       "      <td>0.094602</td>\n",
       "      <td>0.015545</td>\n",
       "      <td>0.094602</td>\n",
       "    </tr>\n",
       "    <tr>\n",
       "      <th>2</th>\n",
       "      <td>37.270000</td>\n",
       "      <td>336.933502</td>\n",
       "      <td>0</td>\n",
       "      <td>0.038971</td>\n",
       "      <td>-0.011930</td>\n",
       "      <td>0.038971</td>\n",
       "      <td>-0.011930</td>\n",
       "    </tr>\n",
       "    <tr>\n",
       "      <th>3</th>\n",
       "      <td>33.720001</td>\n",
       "      <td>337.360901</td>\n",
       "      <td>0</td>\n",
       "      <td>0.001268</td>\n",
       "      <td>-0.095251</td>\n",
       "      <td>0.001268</td>\n",
       "      <td>-0.095251</td>\n",
       "    </tr>\n",
       "    <tr>\n",
       "      <th>4</th>\n",
       "      <td>36.750000</td>\n",
       "      <td>335.894012</td>\n",
       "      <td>0</td>\n",
       "      <td>-0.004348</td>\n",
       "      <td>0.089858</td>\n",
       "      <td>-0.004348</td>\n",
       "      <td>0.089858</td>\n",
       "    </tr>\n",
       "  </tbody>\n",
       "</table>\n",
       "</div>"
      ],
      "text/plain": [
       "   Adj_Close_Uber  Adj_Close_Market  rf_rate       MRP       URP  \\\n",
       "0       34.459999        319.331451        0  0.000000  0.000000   \n",
       "1       37.720001        324.295410        0  0.015545  0.094602   \n",
       "2       37.270000        336.933502        0  0.038971 -0.011930   \n",
       "3       33.720001        337.360901        0  0.001268 -0.095251   \n",
       "4       36.750000        335.894012        0 -0.004348  0.089858   \n",
       "\n",
       "   Market Risk Premium  Uber Risk Premium  \n",
       "0             0.000000           0.000000  \n",
       "1             0.015545           0.094602  \n",
       "2             0.038971          -0.011930  \n",
       "3             0.001268          -0.095251  \n",
       "4            -0.004348           0.089858  "
      ]
     },
     "execution_count": 3,
     "metadata": {},
     "output_type": "execute_result"
    }
   ],
   "source": [
    "uber_data['Market Risk Premium'] = uber_data['Adj_Close_Market'].pct_change(1) - uber_data['rf_rate']\n",
    "uber_data['Uber Risk Premium'] = uber_data['Adj_Close_Uber'].pct_change(1) - uber_data['rf_rate']\n",
    "uber_data = uber_data.fillna(0)\n",
    "uber_data.head(5)"
   ]
  },
  {
   "cell_type": "code",
   "execution_count": 4,
   "id": "5077ec9a",
   "metadata": {},
   "outputs": [
    {
     "name": "stdout",
     "output_type": "stream",
     "text": [
      "                            OLS Regression Results                            \n",
      "==============================================================================\n",
      "Dep. Variable:      Uber Risk Premium   R-squared:                       0.259\n",
      "Model:                            OLS   Adj. R-squared:                  0.252\n",
      "Method:                 Least Squares   F-statistic:                     37.41\n",
      "Date:                Sun, 23 Oct 2022   Prob (F-statistic):           1.60e-08\n",
      "Time:                        21:58:22   Log-Likelihood:                 135.59\n",
      "No. Observations:                 109   AIC:                            -267.2\n",
      "Df Residuals:                     107   BIC:                            -261.8\n",
      "Df Model:                           1                                         \n",
      "Covariance Type:            nonrobust                                         \n",
      "=======================================================================================\n",
      "                          coef    std err          t      P>|t|      [0.025      0.975]\n",
      "---------------------------------------------------------------------------------------\n",
      "const                  -0.0016      0.007     -0.242      0.809      -0.015       0.012\n",
      "Market Risk Premium     1.5869      0.259      6.116      0.000       1.073       2.101\n",
      "==============================================================================\n",
      "Omnibus:                       47.490   Durbin-Watson:                   2.195\n",
      "Prob(Omnibus):                  0.000   Jarque-Bera (JB):              204.556\n",
      "Skew:                           1.389   Prob(JB):                     3.81e-45\n",
      "Kurtosis:                       9.109   Cond. No.                         38.5\n",
      "==============================================================================\n",
      "\n",
      "Notes:\n",
      "[1] Standard Errors assume that the covariance matrix of the errors is correctly specified.\n"
     ]
    }
   ],
   "source": [
    "#define predictor and response variables\n",
    "y = uber_data['Uber Risk Premium'].iloc[1:]\n",
    "x = uber_data['Market Risk Premium'].iloc[1:]\n",
    "\n",
    "#add constant to predictor variables\n",
    "x = sm.add_constant(x)\n",
    "\n",
    "#fit linear regression model\n",
    "model = sm.OLS(y, x).fit()\n",
    "\n",
    "#view model summary\n",
    "print(model.summary())"
   ]
  },
  {
   "cell_type": "markdown",
   "id": "fdc0455e",
   "metadata": {},
   "source": [
    "### Beta Analysis"
   ]
  },
  {
   "cell_type": "code",
   "execution_count": 5,
   "id": "cef14acf",
   "metadata": {},
   "outputs": [],
   "source": [
    "uber_beta = model.params[1]\n",
    "uber_tstat_0 = model.tvalues[1]\n",
    "uber_se = model.bse[1]"
   ]
  },
  {
   "cell_type": "markdown",
   "id": "1da4eb46",
   "metadata": {},
   "source": [
    "To test whether the coeffient is statistically signicantly different from the market's Beta of 1, we run a Hypothesis Test with the null hypothesis that Uber's Beta is equal to 1."
   ]
  },
  {
   "cell_type": "code",
   "execution_count": 6,
   "id": "0ace24a0",
   "metadata": {},
   "outputs": [
    {
     "data": {
      "text/plain": [
       "2.2619451535403217"
      ]
     },
     "execution_count": 6,
     "metadata": {},
     "output_type": "execute_result"
    }
   ],
   "source": [
    "uber_t_stat = (uber_beta - 1) / uber_se\n",
    "uber_t_stat"
   ]
  },
  {
   "cell_type": "markdown",
   "id": "a9cb1b4c",
   "metadata": {},
   "source": [
    "Because the relevant t statisitc is 2.269 and there are enough data points (n = 109) to assume that the Student T Distribution is well-approximated by the Normal curve, a critical t value of 1.96 is used. This indicates that Uber's Beta is statisically different from the market Beta of 1 and therefore carries more risk than a well diversified portfolio."
   ]
  },
  {
   "cell_type": "markdown",
   "id": "d13d90f4",
   "metadata": {},
   "source": [
    "### Confidence Interval of Beta"
   ]
  },
  {
   "cell_type": "code",
   "execution_count": 7,
   "id": "2800002e",
   "metadata": {},
   "outputs": [
    {
     "name": "stdout",
     "output_type": "stream",
     "text": [
      "1.078343291585563 2.0954343076677153\n"
     ]
    }
   ],
   "source": [
    "lower_bound = uber_beta - 1.96 * uber_se\n",
    "upper_bound = uber_beta + 1.96 * uber_se\n",
    "print(lower_bound, upper_bound)"
   ]
  },
  {
   "cell_type": "markdown",
   "id": "b0c39ecb",
   "metadata": {},
   "source": [
    "When computing the upper and lower bound on the Beta estimate for Uber using the critical t-value of 1.96, the bound is found to be (1.0783, 2.0954), which differs slightly from the OLS output, which interpolated the exact critical t-statistic using the sample size (instead of approximating with the Normal curve). This 95% confidence interval was computed by taking the product of the critical t-value of 1.96 and the standard error of the Beta estimate of 0.259 and adding and subtracting it from the Beta estimate of 1.5869 (Confidence interval = Beta +- t_critical * standard error of Beta). The critical t value of 1.96 is used because in a normal distribution, 95% of the area under the curve is contained within 1.96 standard deviations on either side of the mean. This will allow us to obtain a 95% confidence interval on our Beta estimate for Uber. <br><br>\n",
    "This interval, centered at the Beta estimate for Uber, indicates that if this process were repeated many times, 95% of the generated estimates for Uber's Beta would fall within this interval. This Beta was computed using weekly returns for two years. This level of granularity provides a sample size of 109 data points, which would lead to a much tighter interval around Beta than 2 years of monthly returns, for example. This is a function of the sample size, because as sample size increases, the standard error of the Beta estimate decreases, and its corresponding confidence interval will tighten as well."
   ]
  },
  {
   "cell_type": "markdown",
   "id": "1009b355",
   "metadata": {},
   "source": [
    "### Security Characteristic Line"
   ]
  },
  {
   "cell_type": "code",
   "execution_count": 8,
   "id": "c65c9f52",
   "metadata": {},
   "outputs": [
    {
     "data": {
      "image/png": "[encoded data removed]",
      "text/plain": [
       "<Figure size 864x576 with 1 Axes>"
      ]
     },
     "metadata": {},
     "output_type": "display_data"
    }
   ],
   "source": [
    "x = uber_data['Market Risk Premium']\n",
    "y_actual = uber_data['Uber Risk Premium']\n",
    "    \n",
    "x_all = np.linspace(-4, 4, 100)\n",
    "y = model.params['const'] + model.params['Market Risk Premium'] * x_all\n",
    "\n",
    "\n",
    "x_range = max(abs(max(x)), abs(min(x))) + max(abs(max(x)), abs(min(x))) * .1\n",
    "y_range = max(abs(max(y_actual)), abs(min(y_actual))) + max(abs(max(y_actual)), abs(min(y_actual))) * .1\n",
    "max_range = max(x_range, y_range)\n",
    "\n",
    "plt.style.use('dark_background')\n",
    "fig = plt.figure(figsize=(12,8))\n",
    "ax = fig.add_subplot(1, 1, 1)\n",
    "ax.spines['left'].set_position('zero')\n",
    "ax.spines['bottom'].set_position('zero')\n",
    "ax.spines['right'].set_position('zero')\n",
    "ax.spines['top'].set_position('zero')\n",
    "ax.yaxis.set_label_coords(.53, 1)\n",
    "ax.xaxis.set_label_coords(1, .53)\n",
    "plt.scatter(x=x, y=y_actual, label='Returns', color='cyan')\n",
    "plt.plot(x_all, y, color='red', linewidth=2, \\\n",
    "    label='y={:.2f}x+{:.2f}'.format(model.params['Market Risk Premium'],model.params['const']))\n",
    "plt.axhline(0, linestyle=':', color='grey')\n",
    "plt.axvline(0, linestyle=':', color='grey')\n",
    "plt.xlabel('Rm - RF')\n",
    "ax.xaxis.set_label_coords(1, 0.45)\n",
    "plt.ylabel('Ri - RF', rotation = 360)\n",
    "ax.yaxis.set_label_coords(0.43, 1)\n",
    "plt.xlim(-x_range, x_range)\n",
    "plt.ylim(-y_range, y_range)\n",
    "plt.legend(loc='best')\n",
    "plt.title('Security Characteristic Line ', loc='left')\n",
    "    \n",
    "plt.show()\n",
    "    "
   ]
  },
  {
   "cell_type": "markdown",
   "id": "a6595dc4",
   "metadata": {},
   "source": [
    " "
   ]
  },
  {
   "cell_type": "markdown",
   "id": "f87de42d",
   "metadata": {},
   "source": [
    "## Part II: Comparables Analysis"
   ]
  },
  {
   "cell_type": "markdown",
   "id": "7a42d256",
   "metadata": {},
   "source": [
    "Uber has 3 Business Segments: <br><br>\n",
    "<li>Freight<br>\n",
    "<li>Food Delivery<br>\n",
    "<li>Ride Sharing<br>\n",
    "    \n",
    "<br><br>\n",
    "For each of the segments, we identified 7 Comparables. They are listed below in their relative sections. <br>"
   ]
  },
  {
   "cell_type": "markdown",
   "id": "ea033c18",
   "metadata": {},
   "source": [
    "### Segment I: Freight\n",
    "\n",
    "<br>\n",
    "Comps: \n",
    "<li>\n",
    "<li>\n",
    "<li>\n",
    "<li>\n",
    "<li>\n",
    "<li>\n",
    "<li>"
   ]
  },
  {
   "cell_type": "markdown",
   "id": "9ef078f8",
   "metadata": {},
   "source": [
    "### Segment II: Food Delivery\n",
    "\n",
    "<br>\n",
    "Comps: \n",
    "<li>\n",
    "<li>\n",
    "<li>\n",
    "<li>\n",
    "<li>\n",
    "<li>\n",
    "<li>"
   ]
  },
  {
   "cell_type": "markdown",
   "id": "540cd4cb",
   "metadata": {},
   "source": [
    "### Segment III: Ride Sharing\n",
    "\n",
    "<br>\n",
    "Comps: \n",
    "<li>\n",
    "<li>\n",
    "<li>\n",
    "<li>\n",
    "<li>\n",
    "<li>\n",
    "<li>"
   ]
  }
 ],
 "metadata": {
  "kernelspec": {
   "display_name": "Python 3 (ipykernel)",
   "language": "python",
   "name": "python3"
  },
  "language_info": {
   "codemirror_mode": {
    "name": "ipython",
    "version": 3
   },
   "file_extension": ".py",
   "mimetype": "text/x-python",
   "name": "python",
   "nbconvert_exporter": "python",
   "pygments_lexer": "ipython3",
   "version": "3.9.12"
  }
 },
 "nbformat": 4,
 "nbformat_minor": 5
}
