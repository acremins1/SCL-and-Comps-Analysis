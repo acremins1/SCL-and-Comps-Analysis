{
 "cells": [
  {
   "cell_type": "markdown",
   "id": "732b2854",
   "metadata": {},
   "source": [
    "# Uber: Estimating Beta (SCL vs. Comparables)"
   ]
  },
  {
   "cell_type": "markdown",
   "id": "3e882f8f",
   "metadata": {},
   "source": [
    "#### Aidan Cremins, Peyton Lewis, Joe Morris, Amrit Sandhu"
   ]
  },
  {
   "cell_type": "markdown",
   "id": "dd8c839a",
   "metadata": {},
   "source": [
    " "
   ]
  },
  {
   "cell_type": "markdown",
   "id": "ac93e847",
   "metadata": {},
   "source": [
    "## Part I: SCL Analysis"
   ]
  },
  {
   "cell_type": "markdown",
   "id": "a118818b",
   "metadata": {},
   "source": [
    "### Necessary Imports"
   ]
  },
  {
   "cell_type": "code",
   "execution_count": 1,
   "id": "b845a81e",
   "metadata": {},
   "outputs": [],
   "source": [
    "import pandas as pd\n",
    "import numpy as np\n",
    "import statsmodels.api as sm\n",
    "\n",
    "import ipywidgets as widgets\n",
    "from ipywidgets import Text\n",
    "import matplotlib.pyplot as plt\n",
    "\n",
    "import warnings\n",
    "warnings.filterwarnings('ignore')"
   ]
  },
  {
   "cell_type": "markdown",
   "id": "a541a6e8",
   "metadata": {},
   "source": [
    "### Assumptions"
   ]
  },
  {
   "cell_type": "markdown",
   "id": "80e1a9cf",
   "metadata": {},
   "source": [
    "<li>Granularity: Weekly<br>\n",
    "<li>Timeframe: Two years<br>\n",
    "<li>Risk Free Rate: 0%"
   ]
  },
  {
   "cell_type": "markdown",
   "id": "fb025bda",
   "metadata": {},
   "source": [
    "### Read in Data"
   ]
  },
  {
   "cell_type": "code",
   "execution_count": 2,
   "id": "7817bdb4",
   "metadata": {},
   "outputs": [],
   "source": [
    "uber_data = pd.read_csv('UBER.csv')"
   ]
  },
  {
   "cell_type": "code",
   "execution_count": 3,
   "id": "64b15df4",
   "metadata": {},
   "outputs": [
    {
     "data": {
      "text/html": [
       "<div>\n",
       "<style scoped>\n",
       "    .dataframe tbody tr th:only-of-type {\n",
       "        vertical-align: middle;\n",
       "    }\n",
       "\n",
       "    .dataframe tbody tr th {\n",
       "        vertical-align: top;\n",
       "    }\n",
       "\n",
       "    .dataframe thead th {\n",
       "        text-align: right;\n",
       "    }\n",
       "</style>\n",
       "<table border=\"1\" class=\"dataframe\">\n",
       "  <thead>\n",
       "    <tr style=\"text-align: right;\">\n",
       "      <th></th>\n",
       "      <th>Adj_Close_Uber</th>\n",
       "      <th>Adj_Close_Market</th>\n",
       "      <th>rf_rate</th>\n",
       "      <th>MRP</th>\n",
       "      <th>URP</th>\n",
       "      <th>Market Risk Premium</th>\n",
       "      <th>Uber Risk Premium</th>\n",
       "    </tr>\n",
       "  </thead>\n",
       "  <tbody>\n",
       "    <tr>\n",
       "      <th>0</th>\n",
       "      <td>33.720001</td>\n",
       "      <td>337.360901</td>\n",
       "      <td>0</td>\n",
       "      <td>0.000000</td>\n",
       "      <td>0.000000</td>\n",
       "      <td>0.000000</td>\n",
       "      <td>0.000000</td>\n",
       "    </tr>\n",
       "    <tr>\n",
       "      <th>1</th>\n",
       "      <td>36.750000</td>\n",
       "      <td>335.894012</td>\n",
       "      <td>0</td>\n",
       "      <td>-0.004348</td>\n",
       "      <td>0.089858</td>\n",
       "      <td>-0.004348</td>\n",
       "      <td>0.089858</td>\n",
       "    </tr>\n",
       "    <tr>\n",
       "      <th>2</th>\n",
       "      <td>33.410000</td>\n",
       "      <td>317.204102</td>\n",
       "      <td>0</td>\n",
       "      <td>-0.055642</td>\n",
       "      <td>-0.090884</td>\n",
       "      <td>-0.055642</td>\n",
       "      <td>-0.090884</td>\n",
       "    </tr>\n",
       "    <tr>\n",
       "      <th>3</th>\n",
       "      <td>44.869999</td>\n",
       "      <td>340.148834</td>\n",
       "      <td>0</td>\n",
       "      <td>0.072334</td>\n",
       "      <td>0.343011</td>\n",
       "      <td>0.072334</td>\n",
       "      <td>0.343011</td>\n",
       "    </tr>\n",
       "    <tr>\n",
       "      <th>4</th>\n",
       "      <td>47.610001</td>\n",
       "      <td>347.861816</td>\n",
       "      <td>0</td>\n",
       "      <td>0.022675</td>\n",
       "      <td>0.061065</td>\n",
       "      <td>0.022675</td>\n",
       "      <td>0.061065</td>\n",
       "    </tr>\n",
       "    <tr>\n",
       "      <th>...</th>\n",
       "      <td>...</td>\n",
       "      <td>...</td>\n",
       "      <td>...</td>\n",
       "      <td>...</td>\n",
       "      <td>...</td>\n",
       "      <td>...</td>\n",
       "      <td>...</td>\n",
       "    </tr>\n",
       "    <tr>\n",
       "      <th>101</th>\n",
       "      <td>27.820000</td>\n",
       "      <td>367.950012</td>\n",
       "      <td>0</td>\n",
       "      <td>-0.041754</td>\n",
       "      <td>-0.128719</td>\n",
       "      <td>-0.041754</td>\n",
       "      <td>-0.128719</td>\n",
       "    </tr>\n",
       "    <tr>\n",
       "      <th>102</th>\n",
       "      <td>26.500000</td>\n",
       "      <td>357.179993</td>\n",
       "      <td>0</td>\n",
       "      <td>-0.029270</td>\n",
       "      <td>-0.047448</td>\n",
       "      <td>-0.029270</td>\n",
       "      <td>-0.047448</td>\n",
       "    </tr>\n",
       "    <tr>\n",
       "      <th>103</th>\n",
       "      <td>28.070000</td>\n",
       "      <td>362.790009</td>\n",
       "      <td>0</td>\n",
       "      <td>0.015706</td>\n",
       "      <td>0.059245</td>\n",
       "      <td>0.015706</td>\n",
       "      <td>0.059245</td>\n",
       "    </tr>\n",
       "    <tr>\n",
       "      <th>104</th>\n",
       "      <td>24.709999</td>\n",
       "      <td>357.630005</td>\n",
       "      <td>0</td>\n",
       "      <td>-0.014223</td>\n",
       "      <td>-0.119701</td>\n",
       "      <td>-0.014223</td>\n",
       "      <td>-0.119701</td>\n",
       "    </tr>\n",
       "    <tr>\n",
       "      <th>105</th>\n",
       "      <td>28.020000</td>\n",
       "      <td>374.290009</td>\n",
       "      <td>0</td>\n",
       "      <td>0.046584</td>\n",
       "      <td>0.133954</td>\n",
       "      <td>0.046584</td>\n",
       "      <td>0.133954</td>\n",
       "    </tr>\n",
       "  </tbody>\n",
       "</table>\n",
       "<p>106 rows × 7 columns</p>\n",
       "</div>"
      ],
      "text/plain": [
       "     Adj_Close_Uber  Adj_Close_Market  rf_rate       MRP       URP  \\\n",
       "0         33.720001        337.360901        0  0.000000  0.000000   \n",
       "1         36.750000        335.894012        0 -0.004348  0.089858   \n",
       "2         33.410000        317.204102        0 -0.055642 -0.090884   \n",
       "3         44.869999        340.148834        0  0.072334  0.343011   \n",
       "4         47.610001        347.861816        0  0.022675  0.061065   \n",
       "..              ...               ...      ...       ...       ...   \n",
       "101       27.820000        367.950012        0 -0.041754 -0.128719   \n",
       "102       26.500000        357.179993        0 -0.029270 -0.047448   \n",
       "103       28.070000        362.790009        0  0.015706  0.059245   \n",
       "104       24.709999        357.630005        0 -0.014223 -0.119701   \n",
       "105       28.020000        374.290009        0  0.046584  0.133954   \n",
       "\n",
       "     Market Risk Premium  Uber Risk Premium  \n",
       "0               0.000000           0.000000  \n",
       "1              -0.004348           0.089858  \n",
       "2              -0.055642          -0.090884  \n",
       "3               0.072334           0.343011  \n",
       "4               0.022675           0.061065  \n",
       "..                   ...                ...  \n",
       "101            -0.041754          -0.128719  \n",
       "102            -0.029270          -0.047448  \n",
       "103             0.015706           0.059245  \n",
       "104            -0.014223          -0.119701  \n",
       "105             0.046584           0.133954  \n",
       "\n",
       "[106 rows x 7 columns]"
      ]
     },
     "execution_count": 3,
     "metadata": {},
     "output_type": "execute_result"
    }
   ],
   "source": [
    "uber_data['Market Risk Premium'] = uber_data['Adj_Close_Market'].pct_change(1) - uber_data['rf_rate']\n",
    "uber_data['Uber Risk Premium'] = uber_data['Adj_Close_Uber'].pct_change(1) - uber_data['rf_rate']\n",
    "uber_data = uber_data.fillna(0)\n",
    "uber_data"
   ]
  },
  {
   "cell_type": "code",
   "execution_count": 4,
   "id": "59572978",
   "metadata": {},
   "outputs": [
    {
     "name": "stdout",
     "output_type": "stream",
     "text": [
      "                            OLS Regression Results                            \n",
      "==============================================================================\n",
      "Dep. Variable:      Uber Risk Premium   R-squared:                       0.268\n",
      "Model:                            OLS   Adj. R-squared:                  0.261\n",
      "Method:                 Least Squares   F-statistic:                     37.67\n",
      "Date:                Sun, 23 Oct 2022   Prob (F-statistic):           1.58e-08\n",
      "Time:                        22:16:55   Log-Likelihood:                 130.63\n",
      "No. Observations:                 105   AIC:                            -257.3\n",
      "Df Residuals:                     103   BIC:                            -252.0\n",
      "Df Model:                           1                                         \n",
      "Covariance Type:            nonrobust                                         \n",
      "=======================================================================================\n",
      "                          coef    std err          t      P>|t|      [0.025      0.975]\n",
      "---------------------------------------------------------------------------------------\n",
      "const                  -0.0008      0.007     -0.111      0.911      -0.014       0.013\n",
      "Market Risk Premium     1.6104      0.262      6.138      0.000       1.090       2.131\n",
      "==============================================================================\n",
      "Omnibus:                       47.486   Durbin-Watson:                   2.159\n",
      "Prob(Omnibus):                  0.000   Jarque-Bera (JB):              208.980\n",
      "Skew:                           1.422   Prob(JB):                     4.17e-46\n",
      "Kurtosis:                       9.299   Cond. No.                         38.2\n",
      "==============================================================================\n",
      "\n",
      "Notes:\n",
      "[1] Standard Errors assume that the covariance matrix of the errors is correctly specified.\n"
     ]
    }
   ],
   "source": [
    "#define predictor and response variables\n",
    "y = uber_data['Uber Risk Premium'].iloc[1:]\n",
    "x = uber_data['Market Risk Premium'].iloc[1:]\n",
    "\n",
    "#add constant to predictor variables\n",
    "x = sm.add_constant(x)\n",
    "\n",
    "#fit linear regression model\n",
    "model = sm.OLS(y, x).fit()\n",
    "\n",
    "#view model summary\n",
    "print(model.summary())"
   ]
  },
  {
   "cell_type": "markdown",
   "id": "cec03d49",
   "metadata": {},
   "source": [
    "### Beta Analysis"
   ]
  },
  {
   "cell_type": "code",
   "execution_count": 5,
   "id": "af142c45",
   "metadata": {},
   "outputs": [],
   "source": [
    "uber_beta = model.params[1]\n",
    "uber_tstat_0 = model.tvalues[1]\n",
    "uber_se = model.bse[1]"
   ]
  },
  {
   "cell_type": "markdown",
   "id": "4a9e0623",
   "metadata": {},
   "source": [
    "To test whether the coeffient is statistically signicantly different from the market's Beta of 1, we run a Hypothesis Test with the null hypothesis that Uber's Beta is equal to 1."
   ]
  },
  {
   "cell_type": "code",
   "execution_count": 6,
   "id": "639f1d50",
   "metadata": {},
   "outputs": [
    {
     "data": {
      "text/plain": [
       "2.326439909063769"
      ]
     },
     "execution_count": 6,
     "metadata": {},
     "output_type": "execute_result"
    }
   ],
   "source": [
    "uber_t_stat = (uber_beta - 1) / uber_se\n",
    "uber_t_stat"
   ]
  },
  {
   "cell_type": "markdown",
   "id": "8ca82420",
   "metadata": {},
   "source": [
    "Because the relevant t statisitc is 2.326 and there are enough data points (n = 105) to assume that the Student T Distribution is well-approximated by the Normal curve, a critical t value of 1.96 is used. This indicates that Uber's Beta is statisically different from the market Beta of 1 and therefore carries more risk than a well diversified portfolio."
   ]
  },
  {
   "cell_type": "markdown",
   "id": "c9412f5f",
   "metadata": {},
   "source": [
    "### Confidence Interval of Beta"
   ]
  },
  {
   "cell_type": "code",
   "execution_count": 7,
   "id": "d5d9ae99",
   "metadata": {},
   "outputs": [
    {
     "name": "stdout",
     "output_type": "stream",
     "text": [
      "1.0961468172106787 2.1246797748484125\n"
     ]
    }
   ],
   "source": [
    "lower_bound = uber_beta - 1.96 * uber_se\n",
    "upper_bound = uber_beta + 1.96 * uber_se\n",
    "print(lower_bound, upper_bound)"
   ]
  },
  {
   "cell_type": "markdown",
   "id": "478a2ed1",
   "metadata": {},
   "source": [
    "When computing the upper and lower bound on the Beta estimate for Uber using the critical t-value of 1.96, the bound is found to be (1.096, 2.125), which differs slightly from the OLS output, which interpolated the exact critical t-statistic using the sample size (instead of approximating with the Normal curve). This 95% confidence interval was computed by taking the product of the critical t-value of 1.96 and the standard error of the Beta estimate of 0.262 and adding and subtracting it from the Beta estimate of 1.610 (Confidence interval = Beta +- t_critical * standard error of Beta). The critical t value of 1.96 is used because in a normal distribution, 95% of the area under the curve is contained within 1.96 standard deviations on either side of the mean. This will allow us to obtain a 95% confidence interval on our Beta estimate for Uber. <br><br>\n",
    "This interval, centered at the Beta estimate for Uber, indicates that if this process were repeated many times, 95% of the generated estimates for Uber's Beta would fall within this interval. This Beta was computed using weekly returns for two years. This level of granularity provides a sample size of 105 data points, which would lead to a much tighter interval around Beta than 2 years of monthly returns, for example. This is a function of the sample size, because as sample size increases, the standard error of the Beta estimate decreases, and its corresponding confidence interval will tighten as well."
   ]
  },
  {
   "cell_type": "markdown",
   "id": "2e6c0c4a",
   "metadata": {},
   "source": [
    "### Security Characteristic Line"
   ]
  },
  {
   "cell_type": "code",
   "execution_count": 9,
   "id": "ae8be64f",
   "metadata": {},
   "outputs": [
    {
     "data": {
      "image/png": "[encoded data removed]",
      "text/plain": [
       "<Figure size 864x576 with 1 Axes>"
      ]
     },
     "metadata": {},
     "output_type": "display_data"
    }
   ],
   "source": [
    "x = uber_data['Market Risk Premium']\n",
    "y_actual = uber_data['Uber Risk Premium']\n",
    "    \n",
    "x_all = np.linspace(-4, 4, 100)\n",
    "y = model.params['const'] + model.params['Market Risk Premium'] * x_all\n",
    "\n",
    "\n",
    "x_range = max(abs(max(x)), abs(min(x))) + max(abs(max(x)), abs(min(x))) * .1\n",
    "y_range = max(abs(max(y_actual)), abs(min(y_actual))) + max(abs(max(y_actual)), abs(min(y_actual))) * .1\n",
    "max_range = max(x_range, y_range)\n",
    "\n",
    "plt.style.use('dark_background')\n",
    "fig = plt.figure(figsize=(12,8))\n",
    "ax = fig.add_subplot(1, 1, 1)\n",
    "ax.spines['left'].set_position('zero')\n",
    "ax.spines['bottom'].set_position('zero')\n",
    "ax.spines['right'].set_position('zero')\n",
    "ax.spines['top'].set_position('zero')\n",
    "ax.yaxis.set_label_coords(.53, 1)\n",
    "ax.xaxis.set_label_coords(1, .53)\n",
    "plt.scatter(x=x, y=y_actual, label='Returns', color='cyan')\n",
    "plt.plot(x_all, y, color='red', linewidth=2, \\\n",
    "    label='y={:.2f}x+{:.2f}'.format(model.params['Market Risk Premium'],model.params['const']))\n",
    "plt.axhline(0, linestyle=':', color='grey')\n",
    "plt.axvline(0, linestyle=':', color='grey')\n",
    "plt.xlabel('Rm - RF')\n",
    "ax.xaxis.set_label_coords(1, 0.45)\n",
    "plt.ylabel('Ri - RF', rotation = 360)\n",
    "ax.yaxis.set_label_coords(0.43, 1)\n",
    "plt.xlim(-x_range, x_range)\n",
    "plt.ylim(-y_range, y_range)\n",
    "plt.legend(loc='best')\n",
    "plt.title('Security Characteristic Line ', loc='left')\n",
    "    \n",
    "plt.show()\n",
    "    "
   ]
  },
  {
   "cell_type": "markdown",
   "id": "6281ec35",
   "metadata": {},
   "source": [
    " "
   ]
  },
  {
   "cell_type": "markdown",
   "id": "d5cb1167",
   "metadata": {},
   "source": [
    "## Part II: Comparables Analysis"
   ]
  },
  {
   "cell_type": "markdown",
   "id": "3a3fffa2",
   "metadata": {},
   "source": [
    "Uber has 3 Business Segments: <br><br>\n",
    "<li>Freight<br>\n",
    "<li>Food Delivery<br>\n",
    "<li>Ride Sharing<br>\n",
    "    \n",
    "<br><br>\n",
    "For each of the segments, we identified 7 Comparables. They are listed below in their relative sections. <br>"
   ]
  },
  {
   "cell_type": "markdown",
   "id": "6df499e5",
   "metadata": {},
   "source": [
    "### Segment I: Freight\n",
    "\n",
    "<br>\n",
    "Comps: \n",
    "<li>\n",
    "<li>\n",
    "<li>\n",
    "<li>\n",
    "<li>\n",
    "<li>\n",
    "<li>"
   ]
  },
  {
   "cell_type": "markdown",
   "id": "52cf8883",
   "metadata": {},
   "source": [
    "### Segment II: Food Delivery\n",
    "\n",
    "<br>\n",
    "Comps: \n",
    "<li>\n",
    "<li>\n",
    "<li>\n",
    "<li>\n",
    "<li>\n",
    "<li>\n",
    "<li>"
   ]
  },
  {
   "cell_type": "markdown",
   "id": "f229bb93",
   "metadata": {},
   "source": [
    "### Segment III: Ride Sharing\n",
    "\n",
    "<br>\n",
    "Comps: \n",
    "<li>\n",
    "<li>\n",
    "<li>\n",
    "<li>\n",
    "<li>\n",
    "<li>\n",
    "<li>"
   ]
  }
 ],
 "metadata": {
  "kernelspec": {
   "display_name": "Python 3 (ipykernel)",
   "language": "python",
   "name": "python3"
  },
  "language_info": {
   "codemirror_mode": {
    "name": "ipython",
    "version": 3
   },
   "file_extension": ".py",
   "mimetype": "text/x-python",
   "name": "python",
   "nbconvert_exporter": "python",
   "pygments_lexer": "ipython3",
   "version": "3.9.12"
  }
 },
 "nbformat": 4,
 "nbformat_minor": 5
}
